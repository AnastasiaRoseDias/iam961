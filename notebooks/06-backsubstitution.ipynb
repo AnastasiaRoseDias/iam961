{
 "cells": [
  {
   "cell_type": "markdown",
   "id": "95bda85c-1806-461e-99b9-f54e99724311",
   "metadata": {},
   "source": [
    "# Backsubstitution: a complete algorithm\n",
    "\n",
    "IAM 961 Numerical Linear Algebra, University of New Hampshire, John Gibson, 2024--10-04\n",
    "\n",
    "A complete example of a straightforward algorithm in Julia: backsubstitution, following \n",
    "Trefethen and Bau's wonderful book *Numerical Linear Algebra*.  The equation to solve is $Rx=\\hat{b}$ where $R$ is square, upper triangular, and we'll assume of full rank, $\\hat{b}$ is known, and $x$ is unknown. That system might come from solving an\n",
    "$Ax=b$ problem with QR decomposition. That gives $A=QR$ with $Q$ unitary and $R$ upper-triangular. So $QRx=b$, and multiplying by $Q^*$ from the left gives $R x=Q^*b=\\hat{b}$. \n",
    "\n",
    "### $3 \\times 3$ case \n",
    "\n",
    "The $3 \\times 3$ shows all the issues. I will drop the hats from the $b$s. \n",
    "\\begin{align*} \n",
    "\\begin{bmatrix} r_{11} & r_{12} & r_{13} \\\\ 0 & r_{22} & r_{23} \\\\  0 & 0 & r_{33} \\end{bmatrix}\n",
    "\\begin{bmatrix} x_1 \\\\ x_2 \\\\ x_3 \\end{bmatrix}\n",
    "=\n",
    "\\begin{bmatrix} b_1 \\\\ b_2 \\\\ b_3 \\end{bmatrix}\n",
    "\\end{align*}\n",
    "\n",
    "Proceeding up from the bottom row: \n",
    "\n",
    "The last row is $r_{33} \\, x_3 = b_3$. If $A$ is full-rank, all diagonal elements $r_{jj}$ are non-zero,\n",
    "so $x_3 = b_3/r_{33}$.\n",
    "\n",
    "The second row is $r_{22} \\, x_2 + r_{23} \\, x_3 = b_2$. Since $x_3$ is now known, we solve for\n",
    "$x_2 = (b_2 - r_{23} \\, x_3)/r_{22}$.\n",
    "\n",
    "The first row is $r_{11} \\, x_1 + r_{12} \\, x_2 + r_{13} \\, x_3 = b_1$, giving \n",
    "$x_1 = (b_1 - r_{12} \\, x_2 - r_{13} \\, x_3)/r_{11}$.\n",
    "\n",
    "### $m \\times m$ generalization. \n",
    "\n",
    "The general solution algorithm is to iterate\n",
    "\\begin{align*}\n",
    "x_i = \\frac{1}{r_{ii}} \\left(b_i - \\sum_{j=i+1}^m r_{ij} \\, x_j \\right)\n",
    "\\end{align*}\n",
    "starting at $i=m$ (the last row) and iterating up to $i=1$ (the top)."
   ]
  },
  {
   "cell_type": "markdown",
   "id": "e03614b6-52e8-4153-bf4c-80d4f7d0909f",
   "metadata": {},
   "source": [
    "### Algorithm in Julia"
   ]
  },
  {
   "cell_type": "code",
   "execution_count": 1,
   "id": "87e83b8b-a2ce-4f9c-b565-16fc1a087fe1",
   "metadata": {},
   "outputs": [
    {
     "data": {
      "text/plain": [
       "backsubstitution"
      ]
     },
     "execution_count": 1,
     "metadata": {},
     "output_type": "execute_result"
    }
   ],
   "source": [
    "# write and demo function in class, no frills, unoptimized, simple illustration \n",
    "\n",
    "\"\"\"\n",
    "x = backsubstitution(R,b)\n",
    "\n",
    "    solve upper-triangular system Rx=b for x using backsubstitution\n",
    "    assume R is upper-tri, square, full rank\n",
    "    teaching code, not for production use, no safety checks\n",
    "\"\"\"\n",
    "function backsubstitution(R,b)\n",
    "    m,n = size(R)\n",
    "    m!=n && error(\"R is not square. It is $m x $n\")\n",
    "    length(b) != m && error(\"b has wrong dimension, m = $m, but R is $m x $n\")\n",
    "    \n",
    "    x = zeros(m)\n",
    "\n",
    "    for i = m:-1:1\n",
    "        s = b[i]\n",
    "        for j = i+1:m\n",
    "            s = s - R[i,j]*x[j]\n",
    "        end\n",
    "        x[i] = s/R[i,i]\n",
    "    end\n",
    "\n",
    "    x\n",
    "end"
   ]
  },
  {
   "cell_type": "code",
   "execution_count": 2,
   "id": "e361f26a-acf4-4dbc-ac2f-2a124f321f90",
   "metadata": {},
   "outputs": [
    {
     "name": "stdout",
     "output_type": "stream",
     "text": [
      "search: \u001b[0m\u001b[1mb\u001b[22m\u001b[0m\u001b[1ma\u001b[22m\u001b[0m\u001b[1mc\u001b[22m\u001b[0m\u001b[1mk\u001b[22m\u001b[0m\u001b[1ms\u001b[22m\u001b[0m\u001b[1mu\u001b[22m\u001b[0m\u001b[1mb\u001b[22m\u001b[0m\u001b[1ms\u001b[22m\u001b[0m\u001b[1mt\u001b[22m\u001b[0m\u001b[1mi\u001b[22m\u001b[0m\u001b[1mt\u001b[22m\u001b[0m\u001b[1mu\u001b[22m\u001b[0m\u001b[1mt\u001b[22m\u001b[0m\u001b[1mi\u001b[22m\u001b[0m\u001b[1mo\u001b[22m\u001b[0m\u001b[1mn\u001b[22m\n",
      "\n"
     ]
    },
    {
     "data": {
      "text/latex": [
       "x = backsubstitution(R,b)\n",
       "\n",
       "\\begin{verbatim}\n",
       "solve upper-triangular system Rx=b for x using backsubstitution\n",
       "assume R is upper-tri, square, full rank\n",
       "teaching code, not for production use, no safety checks\n",
       "\\end{verbatim}\n"
      ],
      "text/markdown": [
       "x = backsubstitution(R,b)\n",
       "\n",
       "```\n",
       "solve upper-triangular system Rx=b for x using backsubstitution\n",
       "assume R is upper-tri, square, full rank\n",
       "teaching code, not for production use, no safety checks\n",
       "```\n"
      ],
      "text/plain": [
       "  x = backsubstitution(R,b)\n",
       "\n",
       "\u001b[36m  solve upper-triangular system Rx=b for x using backsubstitution\u001b[39m\n",
       "\u001b[36m  assume R is upper-tri, square, full rank\u001b[39m\n",
       "\u001b[36m  teaching code, not for production use, no safety checks\u001b[39m"
      ]
     },
     "execution_count": 2,
     "metadata": {},
     "output_type": "execute_result"
    }
   ],
   "source": [
    "? backsubstitution"
   ]
  },
  {
   "cell_type": "markdown",
   "id": "6462c527-9f81-4869-bef4-e1007f558030",
   "metadata": {},
   "source": [
    "### Test on random $Ax=b$ problem"
   ]
  },
  {
   "cell_type": "code",
   "execution_count": 3,
   "id": "93fdb0c4-eaea-4c2a-8af6-1fa0eb6a0100",
   "metadata": {},
   "outputs": [],
   "source": [
    "# generate random Ax=b problem\n",
    "\n",
    "A = randn(4,4)\n",
    "x = randn(4)\n",
    "b = A*x;"
   ]
  },
  {
   "cell_type": "code",
   "execution_count": 4,
   "id": "1bf85cdf-3fcf-4434-aa29-a5294b86ac1d",
   "metadata": {},
   "outputs": [
    {
     "data": {
      "text/plain": [
       "LinearAlgebra.QRCompactWY{Float64, Matrix{Float64}, Matrix{Float64}}\n",
       "Q factor: 4×4 LinearAlgebra.QRCompactWYQ{Float64, Matrix{Float64}, Matrix{Float64}}\n",
       "R factor:\n",
       "4×4 Matrix{Float64}:\n",
       " -2.29205   0.405506   1.22387    0.602448\n",
       "  0.0      -1.27463   -0.714049  -0.457083\n",
       "  0.0       0.0        0.497101   1.21002\n",
       "  0.0       0.0        0.0        2.04641"
      ]
     },
     "execution_count": 4,
     "metadata": {},
     "output_type": "execute_result"
    }
   ],
   "source": [
    "using LinearAlgebra\n",
    "\n",
    "Q,R = qr(A)"
   ]
  },
  {
   "cell_type": "code",
   "execution_count": 5,
   "id": "975001a3-8f4b-4b1b-b5bb-eb47c33cfa75",
   "metadata": {},
   "outputs": [
    {
     "data": {
      "text/plain": [
       "4×4 Matrix{Float64}:\n",
       "  0.0399739  -0.375149   0.191917  -0.0464277\n",
       " -1.60335     1.11096    1.36067    0.23009\n",
       "  0.163207   -0.311361  -0.502972  -2.45537\n",
       "  1.62927     0.563213  -0.337031  -0.373993"
      ]
     },
     "execution_count": 5,
     "metadata": {},
     "output_type": "execute_result"
    }
   ],
   "source": [
    "Q*R"
   ]
  },
  {
   "cell_type": "code",
   "execution_count": 6,
   "id": "dd37b8a5-9a98-46d7-9420-74c927218a41",
   "metadata": {},
   "outputs": [
    {
     "data": {
      "text/plain": [
       "4×4 Matrix{Float64}:\n",
       "  0.0399739  -0.375149   0.191917  -0.0464277\n",
       " -1.60335     1.11096    1.36067    0.23009\n",
       "  0.163207   -0.311361  -0.502972  -2.45537\n",
       "  1.62927     0.563213  -0.337031  -0.373993"
      ]
     },
     "execution_count": 6,
     "metadata": {},
     "output_type": "execute_result"
    }
   ],
   "source": [
    "A"
   ]
  },
  {
   "cell_type": "code",
   "execution_count": 7,
   "id": "b3d0909c-3f23-47e1-b4e2-e45e2f10bec5",
   "metadata": {},
   "outputs": [
    {
     "data": {
      "text/plain": [
       "4-element Vector{Float64}:\n",
       "  0.18038677335522893\n",
       "  0.09730599070700964\n",
       "  1.3776904191245558\n",
       " -0.24462429252719314"
      ]
     },
     "execution_count": 7,
     "metadata": {},
     "output_type": "execute_result"
    }
   ],
   "source": [
    "x̂ = backsubstitution(R,Q'*b)"
   ]
  },
  {
   "cell_type": "code",
   "execution_count": 8,
   "id": "30eae83e-b526-4d08-8e6c-a4f68d30c110",
   "metadata": {},
   "outputs": [
    {
     "data": {
      "text/plain": [
       "4-element Vector{Float64}:\n",
       "  0.1803867733552291\n",
       "  0.09730599070700963\n",
       "  1.377690419124556\n",
       " -0.2446242925271933"
      ]
     },
     "execution_count": 8,
     "metadata": {},
     "output_type": "execute_result"
    }
   ],
   "source": [
    "x"
   ]
  },
  {
   "cell_type": "code",
   "execution_count": null,
   "id": "a78fa533-ea63-4e45-8abd-c209649c3679",
   "metadata": {},
   "outputs": [],
   "source": []
  }
 ],
 "metadata": {
  "kernelspec": {
   "display_name": "Julia 1.10.0",
   "language": "julia",
   "name": "julia-1.10"
  },
  "language_info": {
   "file_extension": ".jl",
   "mimetype": "application/julia",
   "name": "julia",
   "version": "1.10.0"
  }
 },
 "nbformat": 4,
 "nbformat_minor": 5
}
