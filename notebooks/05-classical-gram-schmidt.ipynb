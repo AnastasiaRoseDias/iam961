{
 "cells": [
  {
   "cell_type": "markdown",
   "id": "988d1e3c-d661-40e1-9738-496477a4a2e2",
   "metadata": {},
   "source": [
    "# Classical Graham-Schmidt step-by-step in Julia\n",
    "\n",
    "Illustrate a few steps of Classical Graham Schmidt algorithm in Julia on a random\n",
    "matrix A, with code roughly following blackboard formulae. This will illustrate basic\n",
    "linear algebra and matrix-vector operations in Julia, which you can modify and place\n",
    "into loops to build  a `Q,R = qrcgs(A)` function for arbitrary `A`. \n",
    "\n",
    "IAM 961 Numerical Linear Algebra, University of New Hampshire, John Gibson, 2024-10-02"
   ]
  },
  {
   "cell_type": "markdown",
   "id": "dfe4d22c-2b70-46f4-af59-b0922930efac",
   "metadata": {},
   "source": [
    "## A couple steps of Classical Graham-Schmidt\n",
    "\n",
    "Given an $m \\times m$ matrix $A$ of full rank, we compute unitary $Q$ and upper-triangular $R$\n",
    "via\n",
    "\n",
    "Iterate $j=1, 2, \\ldots, m$.\n",
    "\\begin{align*}\n",
    "   r_{ij} &= q_i^* a_j \\quad \\text{for } i=1,2,\\ldots,j-1 \\\\\n",
    "   v_j &= a_j - \\sum_{i=1}^{j-1} q_i r_{ij} \\\\\n",
    "   r_{jj} &= \\|v_j\\|_2 \\\\\n",
    "   q_j &= v_j/r_{jj}\n",
    "\\end{align*}\n",
    "where $a_j$ is notation for the $j$th column of $A$, etc. \n",
    "\n",
    "### Initialization \n",
    "\n",
    "Create random square matrix $A$ and empty $Q,R$ matrices to match."
   ]
  },
  {
   "cell_type": "code",
   "execution_count": 1,
   "id": "12aea925-3ec7-4dd5-82e9-04d429795682",
   "metadata": {},
   "outputs": [
    {
     "data": {
      "text/plain": [
       "4×4 Matrix{Float64}:\n",
       "  0.383686  0.917295   -1.38342    -0.119626\n",
       "  1.72632   0.313792    0.116499    1.46465\n",
       " -0.61825   1.21897     0.154344    0.910802\n",
       " -0.781526  0.0659566  -0.0347704   0.368184"
      ]
     },
     "execution_count": 1,
     "metadata": {},
     "output_type": "execute_result"
    }
   ],
   "source": [
    "using LinearAlgebra\n",
    "\n",
    "A = randn(4,4)"
   ]
  },
  {
   "cell_type": "code",
   "execution_count": 2,
   "id": "6eea55f4-3eba-4fd5-bf58-1fd5668faefe",
   "metadata": {},
   "outputs": [
    {
     "data": {
      "text/plain": [
       "4×4 Matrix{Float64}:\n",
       " 0.0  0.0  0.0  0.0\n",
       " 0.0  0.0  0.0  0.0\n",
       " 0.0  0.0  0.0  0.0\n",
       " 0.0  0.0  0.0  0.0"
      ]
     },
     "execution_count": 2,
     "metadata": {},
     "output_type": "execute_result"
    }
   ],
   "source": [
    "m,n = size(A)  # in function qrcgs(A), check that m == n\n",
    "Q = zeros(m,m) \n",
    "R = zeros(m,m) "
   ]
  },
  {
   "cell_type": "markdown",
   "id": "648eeed4-7f2d-4891-80b6-3e8074224f32",
   "metadata": {},
   "source": [
    "### iteration j=1"
   ]
  },
  {
   "cell_type": "code",
   "execution_count": 3,
   "id": "226505c0-26ba-4494-bfdf-fc87d01d5e48",
   "metadata": {},
   "outputs": [
    {
     "data": {
      "text/plain": [
       "2.0298817719193814"
      ]
     },
     "execution_count": 3,
     "metadata": {},
     "output_type": "execute_result"
    }
   ],
   "source": [
    "j=1\n",
    "\n",
    "vj = A[:,j]       \n",
    "R[j,j] = norm(vj)"
   ]
  },
  {
   "cell_type": "code",
   "execution_count": 4,
   "id": "30af7a9d-e4d5-4486-a747-8ba994e4aa45",
   "metadata": {},
   "outputs": [
    {
     "data": {
      "text/plain": [
       "4-element Vector{Float64}:\n",
       "  0.18901866782866142\n",
       "  0.8504548927205354\n",
       " -0.3045741685313926\n",
       " -0.3850103823579199"
      ]
     },
     "execution_count": 4,
     "metadata": {},
     "output_type": "execute_result"
    }
   ],
   "source": [
    "Q[:,j] = vj/R[j,j]"
   ]
  },
  {
   "cell_type": "code",
   "execution_count": 5,
   "id": "f484df99-615b-4853-9d69-2a1baa9b6fdd",
   "metadata": {},
   "outputs": [
    {
     "data": {
      "text/plain": [
       "4×4 Matrix{Float64}:\n",
       "  0.189019  0.0  0.0  0.0\n",
       "  0.850455  0.0  0.0  0.0\n",
       " -0.304574  0.0  0.0  0.0\n",
       " -0.38501   0.0  0.0  0.0"
      ]
     },
     "execution_count": 5,
     "metadata": {},
     "output_type": "execute_result"
    }
   ],
   "source": [
    "Q"
   ]
  },
  {
   "cell_type": "code",
   "execution_count": 6,
   "id": "0c2502e6-b89f-4c2b-befa-7738bed66e67",
   "metadata": {},
   "outputs": [
    {
     "data": {
      "text/plain": [
       "4×4 Matrix{Float64}:\n",
       " 2.02988  0.0  0.0  0.0\n",
       " 0.0      0.0  0.0  0.0\n",
       " 0.0      0.0  0.0  0.0\n",
       " 0.0      0.0  0.0  0.0"
      ]
     },
     "execution_count": 6,
     "metadata": {},
     "output_type": "execute_result"
    }
   ],
   "source": [
    "R"
   ]
  },
  {
   "cell_type": "markdown",
   "id": "b7c76c70-0af7-49a1-b3b7-ec816541ad09",
   "metadata": {},
   "source": [
    "### iteration j=2"
   ]
  },
  {
   "cell_type": "code",
   "execution_count": 7,
   "id": "ae1ba47b-83cc-424d-90d2-c12d5a78d88f",
   "metadata": {},
   "outputs": [
    {
     "data": {
      "text/plain": [
       "0.04358986926240915"
      ]
     },
     "execution_count": 7,
     "metadata": {},
     "output_type": "execute_result"
    }
   ],
   "source": [
    "j=2\n",
    "\n",
    "aj = A[:,j]\n",
    "\n",
    "R[1,j] = Q[:,1]' * aj"
   ]
  },
  {
   "cell_type": "code",
   "execution_count": 8,
   "id": "c1f49b95-d311-4db5-bc63-9f90c43da5cd",
   "metadata": {},
   "outputs": [
    {
     "data": {
      "text/plain": [
       "4-element Vector{Float64}:\n",
       " 0.9090555752995674\n",
       " 0.2767211671825934\n",
       " 1.2322513193270748\n",
       " 0.08273912816134439"
      ]
     },
     "execution_count": 8,
     "metadata": {},
     "output_type": "execute_result"
    }
   ],
   "source": [
    "vj = aj - Q[:,1]*R[1,j]"
   ]
  },
  {
   "cell_type": "code",
   "execution_count": 9,
   "id": "21c34367-4a7f-4dfa-a604-92c2ba3a3c1d",
   "metadata": {},
   "outputs": [
    {
     "data": {
      "text/plain": [
       "1.5582829398611602"
      ]
     },
     "execution_count": 9,
     "metadata": {},
     "output_type": "execute_result"
    }
   ],
   "source": [
    "R[j,j] = norm(vj)"
   ]
  },
  {
   "cell_type": "code",
   "execution_count": 10,
   "id": "7f19d1db-791c-47a7-85a1-b57ebe3800f9",
   "metadata": {},
   "outputs": [
    {
     "data": {
      "text/plain": [
       "4-element Vector{Float64}:\n",
       " 0.5833700363687241\n",
       " 0.17758082316376297\n",
       " 0.7907750818582829\n",
       " 0.05309634472974226"
      ]
     },
     "execution_count": 10,
     "metadata": {},
     "output_type": "execute_result"
    }
   ],
   "source": [
    "qj = vj/R[j,j]"
   ]
  },
  {
   "cell_type": "code",
   "execution_count": 11,
   "id": "5f020e3b-4a6d-4c21-922e-7fc325099ffd",
   "metadata": {},
   "outputs": [
    {
     "data": {
      "text/plain": [
       "4-element Vector{Float64}:\n",
       " 0.5833700363687241\n",
       " 0.17758082316376297\n",
       " 0.7907750818582829\n",
       " 0.05309634472974226"
      ]
     },
     "execution_count": 11,
     "metadata": {},
     "output_type": "execute_result"
    }
   ],
   "source": [
    "Q[:,j] = qj"
   ]
  },
  {
   "cell_type": "code",
   "execution_count": 12,
   "id": "9c4c44de-b1a1-4c4a-957b-9afe6f58d0d8",
   "metadata": {},
   "outputs": [
    {
     "data": {
      "text/plain": [
       "4×4 Matrix{Float64}:\n",
       "  0.189019  0.58337    0.0  0.0\n",
       "  0.850455  0.177581   0.0  0.0\n",
       " -0.304574  0.790775   0.0  0.0\n",
       " -0.38501   0.0530963  0.0  0.0"
      ]
     },
     "execution_count": 12,
     "metadata": {},
     "output_type": "execute_result"
    }
   ],
   "source": [
    "Q"
   ]
  },
  {
   "cell_type": "code",
   "execution_count": 13,
   "id": "8922ba74-8814-4845-aafe-a51f4b5a6eed",
   "metadata": {},
   "outputs": [
    {
     "data": {
      "text/plain": [
       "4×4 Matrix{Float64}:\n",
       " 2.02988  0.0435899  0.0  0.0\n",
       " 0.0      1.55828    0.0  0.0\n",
       " 0.0      0.0        0.0  0.0\n",
       " 0.0      0.0        0.0  0.0"
      ]
     },
     "execution_count": 13,
     "metadata": {},
     "output_type": "execute_result"
    }
   ],
   "source": [
    "R"
   ]
  },
  {
   "cell_type": "markdown",
   "id": "5f25e312-3e6b-4b10-9d7f-11cd4d05dda4",
   "metadata": {},
   "source": [
    "### iteration j = 3"
   ]
  },
  {
   "cell_type": "code",
   "execution_count": 14,
   "id": "c98fdd27-9153-42df-aa1b-1bdd3867dcbd",
   "metadata": {},
   "outputs": [
    {
     "data": {
      "text/plain": [
       "4×4 Matrix{Float64}:\n",
       "  0.189019  0.58337    -0.789869   0.0\n",
       "  0.850455  0.177581    0.331135   0.0\n",
       " -0.304574  0.790775    0.512487   0.0\n",
       " -0.38501   0.0530963  -0.0617514  0.0"
      ]
     },
     "execution_count": 14,
     "metadata": {},
     "output_type": "execute_result"
    }
   ],
   "source": [
    "j = 3\n",
    "\n",
    "aj = A[:,j]\n",
    "R[1,j] = Q[:,1]'*aj\n",
    "R[2,j] = Q[:,2]'*aj\n",
    "\n",
    "vj = aj - Q[:,1]*R[1,j] - Q[:,2]*R[2,j]\n",
    "\n",
    "R[j,j] = norm(vj)\n",
    "Q[:,j] = vj/R[j,j]\n",
    "\n",
    "Q"
   ]
  },
  {
   "cell_type": "code",
   "execution_count": 15,
   "id": "cda9b269-383c-43b7-9e47-e184f61857cc",
   "metadata": {},
   "outputs": [
    {
     "data": {
      "text/plain": [
       "4×4 Matrix{Float64}:\n",
       " 2.02988  0.0435899  -0.196038  0.0\n",
       " 0.0      1.55828    -0.666155  0.0\n",
       " 0.0      0.0         1.21255   0.0\n",
       " 0.0      0.0         0.0       0.0"
      ]
     },
     "execution_count": 15,
     "metadata": {},
     "output_type": "execute_result"
    }
   ],
   "source": [
    "R"
   ]
  },
  {
   "cell_type": "markdown",
   "id": "ea55e3fb-5fb0-4503-ae92-922c350fd9bb",
   "metadata": {},
   "source": [
    "### iteration j=4"
   ]
  },
  {
   "cell_type": "code",
   "execution_count": 16,
   "id": "0c7f9d49-d83d-4e68-90a7-a449d6a25433",
   "metadata": {},
   "outputs": [
    {
     "data": {
      "text/plain": [
       "4×4 Matrix{Float64}:\n",
       "  0.189019  0.58337    -0.789869   -0.00758854\n",
       "  0.850455  0.177581    0.331135    0.368159\n",
       " -0.304574  0.790775    0.512487   -0.138805\n",
       " -0.38501   0.0530963  -0.0617514   0.919312"
      ]
     },
     "execution_count": 16,
     "metadata": {},
     "output_type": "execute_result"
    }
   ],
   "source": [
    "j = 4\n",
    "\n",
    "aj = A[:,j]\n",
    "R[1,j] = Q[:,1]'*aj\n",
    "R[2,j] = Q[:,2]'*aj\n",
    "R[3,j] = Q[:,3]'*aj\n",
    "vj = aj - Q[:,1]*R[1,j] - Q[:,2]*R[2,j]  - Q[:,3]*R[3,j]\n",
    "R[j,j] = norm(vj)\n",
    "Q[:,j] = vj/R[j,j]\n",
    "\n",
    "Q"
   ]
  },
  {
   "cell_type": "code",
   "execution_count": 17,
   "id": "4ee6f271-4139-45af-bdf2-4f406bc55ed8",
   "metadata": {},
   "outputs": [
    {
     "data": {
      "text/plain": [
       "4×4 Matrix{Float64}:\n",
       " 2.02988  0.0435899  -0.196038  0.803845\n",
       " 0.0      1.55828    -0.666155  0.930096\n",
       " 0.0      0.0         1.21255   1.02352\n",
       " 0.0      0.0         0.0       0.752185"
      ]
     },
     "execution_count": 17,
     "metadata": {},
     "output_type": "execute_result"
    }
   ],
   "source": [
    "R"
   ]
  },
  {
   "cell_type": "markdown",
   "id": "cbb0eec2-7e08-4518-89fe-345423c9711c",
   "metadata": {},
   "source": [
    "### QR is done. Now check results"
   ]
  },
  {
   "cell_type": "code",
   "execution_count": 18,
   "id": "6dd9b1a2-1872-4dee-9f87-a7935d7647fb",
   "metadata": {},
   "outputs": [
    {
     "data": {
      "text/plain": [
       "4×4 Matrix{Float64}:\n",
       "  0.383686  0.917295   -1.38342    -0.119626\n",
       "  1.72632   0.313792    0.116499    1.46465\n",
       " -0.61825   1.21897     0.154344    0.910802\n",
       " -0.781526  0.0659566  -0.0347704   0.368184"
      ]
     },
     "execution_count": 18,
     "metadata": {},
     "output_type": "execute_result"
    }
   ],
   "source": [
    "A"
   ]
  },
  {
   "cell_type": "code",
   "execution_count": 19,
   "id": "093a13e9-7b46-43c1-b1da-9d0f9a10eabd",
   "metadata": {},
   "outputs": [
    {
     "data": {
      "text/plain": [
       "4×4 Matrix{Float64}:\n",
       "  0.383686  0.917295   -1.38342    -0.119626\n",
       "  1.72632   0.313792    0.116499    1.46465\n",
       " -0.61825   1.21897     0.154344    0.910802\n",
       " -0.781526  0.0659566  -0.0347704   0.368184"
      ]
     },
     "execution_count": 19,
     "metadata": {},
     "output_type": "execute_result"
    }
   ],
   "source": [
    "Q*R"
   ]
  },
  {
   "cell_type": "code",
   "execution_count": 20,
   "id": "27ba3267-e6f1-4810-9fb0-82da1a6bc485",
   "metadata": {},
   "outputs": [
    {
     "data": {
      "text/plain": [
       "2.466969522362136e-16"
      ]
     },
     "execution_count": 20,
     "metadata": {},
     "output_type": "execute_result"
    }
   ],
   "source": [
    "norm(A-Q*R)"
   ]
  },
  {
   "cell_type": "code",
   "execution_count": 21,
   "id": "0589bc7e-0fe9-44dd-ae91-954fd207ac8c",
   "metadata": {},
   "outputs": [
    {
     "data": {
      "text/plain": [
       "4×4 Matrix{Float64}:\n",
       "  1.0          -2.29951e-17   3.61734e-17   1.09742e-16\n",
       " -2.29951e-17   1.0          -9.43842e-17   2.05105e-16\n",
       "  3.61734e-17  -9.43842e-17   1.0          -1.68438e-16\n",
       "  1.09742e-16   2.05105e-16  -1.68438e-16   1.0"
      ]
     },
     "execution_count": 21,
     "metadata": {},
     "output_type": "execute_result"
    }
   ],
   "source": [
    "Q'*Q"
   ]
  },
  {
   "cell_type": "code",
   "execution_count": 22,
   "id": "0965284f-5e62-416a-b5d5-3ea4b2cc5d01",
   "metadata": {},
   "outputs": [
    {
     "data": {
      "text/plain": [
       "5.103062509757291e-16"
      ]
     },
     "execution_count": 22,
     "metadata": {},
     "output_type": "execute_result"
    }
   ],
   "source": [
    "norm(I-Q'*Q)"
   ]
  },
  {
   "cell_type": "code",
   "execution_count": 23,
   "id": "51aa0572-7f77-4885-858a-098043367fa7",
   "metadata": {},
   "outputs": [
    {
     "data": {
      "text/plain": [
       "qrcgs"
      ]
     },
     "execution_count": 23,
     "metadata": {},
     "output_type": "execute_result"
    }
   ],
   "source": [
    "# now write a function\n",
    "\n",
    "\"\"\"\n",
    "Q,R = qrcgs(A) \n",
    "\n",
    "   return QR decomposition of square matrix A calculated with classical Gram-Schmidt algorithm\n",
    "\n",
    "   This is a learn-the-algorithm implementation not meant for serious use. Unoptimized, minimal safety checks.\n",
    "\"\"\"\n",
    "function qrcgs(A)\n",
    "    # generalize the above calculation using for loops\n",
    "    for j = 1:somenumber\n",
    "        # do stuff\n",
    "    end\n",
    "    Q,R  # the return statement\n",
    "end"
   ]
  },
  {
   "cell_type": "code",
   "execution_count": 24,
   "id": "cac8595b-2294-4c9d-ba97-893433b91a4b",
   "metadata": {},
   "outputs": [
    {
     "name": "stdout",
     "output_type": "stream",
     "text": [
      "search: \u001b[0m\u001b[1mU\u001b[22m\u001b[0m\u001b[1mI\u001b[22m\u001b[0m\u001b[1mn\u001b[22m\u001b[0m\u001b[1mt\u001b[22m\u001b[0m\u001b[1m8\u001b[22m \u001b[0m\u001b[1mU\u001b[22m\u001b[0m\u001b[1mI\u001b[22m\u001b[0m\u001b[1mn\u001b[22m\u001b[0m\u001b[1mt\u001b[22m12\u001b[0m\u001b[1m8\u001b[22m \u001b[0m\u001b[1mu\u001b[22m\u001b[0m\u001b[1mi\u001b[22m\u001b[0m\u001b[1mn\u001b[22m\u001b[0m\u001b[1mt\u001b[22m12\u001b[0m\u001b[1m8\u001b[22m\"\" @\u001b[0m\u001b[1mu\u001b[22m\u001b[0m\u001b[1mi\u001b[22m\u001b[0m\u001b[1mn\u001b[22m\u001b[0m\u001b[1mt\u001b[22m12\u001b[0m\u001b[1m8\u001b[22m_str \u001b[0m\u001b[1mU\u001b[22m\u001b[0m\u001b[1mI\u001b[22m\u001b[0m\u001b[1mn\u001b[22m\u001b[0m\u001b[1mt\u001b[22m \u001b[0m\u001b[1mU\u001b[22m\u001b[0m\u001b[1mI\u001b[22m\u001b[0m\u001b[1mn\u001b[22m\u001b[0m\u001b[1mt\u001b[22m64 \u001b[0m\u001b[1mU\u001b[22m\u001b[0m\u001b[1mI\u001b[22m\u001b[0m\u001b[1mn\u001b[22m\u001b[0m\u001b[1mt\u001b[22m32 \u001b[0m\u001b[1mU\u001b[22m\u001b[0m\u001b[1mI\u001b[22m\u001b[0m\u001b[1mn\u001b[22m\u001b[0m\u001b[1mt\u001b[22m16 C\u001b[0m\u001b[1mu\u001b[22m\u001b[0m\u001b[1mi\u001b[22m\u001b[0m\u001b[1mn\u001b[22m\u001b[0m\u001b[1mt\u001b[22m\n",
      "\n"
     ]
    },
    {
     "data": {
      "text/latex": [
       "\\begin{verbatim}\n",
       "UInt8 <: Unsigned\n",
       "\\end{verbatim}\n",
       "8-bit unsigned integer type.\n",
       "\n"
      ],
      "text/markdown": [
       "```\n",
       "UInt8 <: Unsigned\n",
       "```\n",
       "\n",
       "8-bit unsigned integer type.\n"
      ],
      "text/plain": [
       "\u001b[36m  UInt8 <: Unsigned\u001b[39m\n",
       "\n",
       "  8-bit unsigned integer type."
      ]
     },
     "execution_count": 24,
     "metadata": {},
     "output_type": "execute_result"
    }
   ],
   "source": [
    "? UInt8"
   ]
  },
  {
   "cell_type": "code",
   "execution_count": 25,
   "id": "05c85dbf-81c8-4764-83ff-a3ddad3e9def",
   "metadata": {},
   "outputs": [
    {
     "ename": "LoadError",
     "evalue": "UndefVarError: `somenumber` not defined",
     "output_type": "error",
     "traceback": [
      "UndefVarError: `somenumber` not defined",
      "",
      "Stacktrace:",
      " [1] qrcgs(A::Matrix{Float64})",
      "   @ Main ./In[23]:12",
      " [2] top-level scope",
      "   @ In[25]:1"
     ]
    }
   ],
   "source": [
    "qrcgs(A)"
   ]
  },
  {
   "cell_type": "markdown",
   "id": "f6d4606f-2673-4677-a6de-cd9b77f39dfb",
   "metadata": {},
   "source": [
    "## Examples of matrix-vector manipulations"
   ]
  },
  {
   "cell_type": "code",
   "execution_count": 26,
   "id": "bd8ac726-2ead-420e-bea8-e77acc6c28a5",
   "metadata": {
    "scrolled": true
   },
   "outputs": [
    {
     "data": {
      "text/plain": [
       "5×4 Matrix{Int64}:\n",
       " 11  12  13  14\n",
       " 21  22  23  24\n",
       " 31  32  33  34\n",
       " 41  42  43  44\n",
       " 51  52  53  54"
      ]
     },
     "execution_count": 26,
     "metadata": {},
     "output_type": "execute_result"
    }
   ],
   "source": [
    "A = [10i+j for i in 1:5, j in 1:4] # make a matrox by list comprehension"
   ]
  },
  {
   "cell_type": "code",
   "execution_count": 27,
   "id": "6d91397c-ce59-4667-b68d-2bb747246010",
   "metadata": {},
   "outputs": [
    {
     "data": {
      "text/plain": [
       "23"
      ]
     },
     "execution_count": 27,
     "metadata": {},
     "output_type": "execute_result"
    }
   ],
   "source": [
    "# get A₂₃ element\n",
    "\n",
    "A[2,3]"
   ]
  },
  {
   "cell_type": "code",
   "execution_count": 28,
   "id": "9e7ba517-d7ed-4f88-9c1a-5935106e04c6",
   "metadata": {
    "scrolled": true
   },
   "outputs": [
    {
     "data": {
      "text/plain": [
       "3-element Vector{Int64}:\n",
       " 23\n",
       " 33\n",
       " 43"
      ]
     },
     "execution_count": 28,
     "metadata": {},
     "output_type": "execute_result"
    }
   ],
   "source": [
    "# get rows 2 through 4 of 3rd col of A\n",
    "A[2:4, 3]"
   ]
  },
  {
   "cell_type": "code",
   "execution_count": 29,
   "id": "06d3768e-33a2-470a-8941-ebcc3825b54b",
   "metadata": {},
   "outputs": [
    {
     "data": {
      "text/plain": [
       "5-element Vector{Int64}:\n",
       " 13\n",
       " 23\n",
       " 33\n",
       " 43\n",
       " 53"
      ]
     },
     "execution_count": 29,
     "metadata": {},
     "output_type": "execute_result"
    }
   ],
   "source": [
    "# get 3rd col of A (all rows)\n",
    "A[:,3]"
   ]
  },
  {
   "cell_type": "code",
   "execution_count": 30,
   "id": "0fdc5f8a-38dc-44e5-8390-9b2f1f20e1ed",
   "metadata": {
    "scrolled": true
   },
   "outputs": [
    {
     "data": {
      "text/plain": [
       "3×3 Matrix{Int64}:\n",
       " 11  12  13\n",
       " 21  22  23\n",
       " 31  32  33"
      ]
     },
     "execution_count": 30,
     "metadata": {},
     "output_type": "execute_result"
    }
   ],
   "source": [
    "# get 3 x 3 principle submatrix of A\n",
    "A[1:3,1:3]"
   ]
  },
  {
   "cell_type": "code",
   "execution_count": 31,
   "id": "a036885a-4ac5-4ed1-ba09-194ebba8e8b7",
   "metadata": {},
   "outputs": [
    {
     "data": {
      "text/plain": [
       "5×4 Matrix{Int64}:\n",
       " 11  12  13  14\n",
       " 21  22  23  24\n",
       " 31  32  33  34\n",
       " 41  42   6  -4\n",
       " 51  52   2   6"
      ]
     },
     "execution_count": 31,
     "metadata": {},
     "output_type": "execute_result"
    }
   ],
   "source": [
    "# make a 2 x 2 matrix of random ints from 0 to 9\n",
    "# and assign it to the lowermost submatrix of A\n",
    "\n",
    "B = [rand(Int64) % 10 for i in 1:2, j in 1:2]\n",
    "A[4:5, 3:4] = B\n",
    "A"
   ]
  }
 ],
 "metadata": {
  "kernelspec": {
   "display_name": "Julia 1.10.0",
   "language": "julia",
   "name": "julia-1.10"
  },
  "language_info": {
   "file_extension": ".jl",
   "mimetype": "application/julia",
   "name": "julia",
   "version": "1.10.0"
  }
 },
 "nbformat": 4,
 "nbformat_minor": 5
}
