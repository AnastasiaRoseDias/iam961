{
 "cells": [
  {
   "cell_type": "markdown",
   "id": "f70d30dc",
   "metadata": {},
   "source": [
    "# SVD demo: uniqueness and indeterminacy\n",
    "\n",
    "2024-09-19 IAM 961 University of New Hampshire, J. Gibson\n",
    "\n",
    "## Case 1: distinct singular values $\\Rightarrow$ unique SVD\n",
    "\n",
    "**Step 1.** Construct a real-valued matrix $A$ with known SVD $A = \\bar{U} \\bar{\\Sigma} \\bar{V}^*$ and \n",
    "distinct singular values $\\bar{\\sigma}_1 > \\bar{\\sigma_2} > \\bar{\\sigma_3} > \\ldots$. Do so by obtaining\n",
    "random unitary $U,V$ from QR decomposition of random matrix with normal distribution\n",
    "and assigning distinct singular values."
   ]
  },
  {
   "cell_type": "code",
   "execution_count": 11,
   "id": "351b0e1a",
   "metadata": {},
   "outputs": [
    {
     "data": {
      "text/plain": [
       "4-element Vector{Float64}:\n",
       " 8.0\n",
       " 3.0\n",
       " 0.6666666666666666\n",
       " 0.1"
      ]
     },
     "execution_count": 11,
     "metadata": {},
     "output_type": "execute_result"
    }
   ],
   "source": [
    "using LinearAlgebra\n",
    "\n",
    "n=4\n",
    "Ū,tmp = qr(randn(n,n))\n",
    "V̄,tmp = qr(randn(n,n));\n",
    "\n",
    "σ̄  = [8.0, 3.0, 2/3, 0.1]\n",
    "#A = QR Q unitary, R is upper triangular"
   ]
  },
  {
   "cell_type": "code",
   "execution_count": 13,
   "id": "c87bdd58-3867-40f5-ad68-4fc747cc8fe5",
   "metadata": {},
   "outputs": [
    {
     "data": {
      "text/plain": [
       "4-element Vector{Float64}:\n",
       " -0.5008987322349738\n",
       "  0.6089633464193346\n",
       "  0.4087849628190847\n",
       " -0.45952035530122143"
      ]
     },
     "execution_count": 13,
     "metadata": {},
     "output_type": "execute_result"
    }
   ],
   "source": [
    "Ū[:,1]"
   ]
  },
  {
   "cell_type": "code",
   "execution_count": 15,
   "id": "b520f859",
   "metadata": {},
   "outputs": [
    {
     "data": {
      "text/plain": [
       "4×4 Matrix{Float64}:\n",
       "  0.763483  -1.69614   -3.63189  -0.561877\n",
       " -1.40382    4.34454    2.46956   0.836189\n",
       "  0.602036   0.636847   3.7054    0.89747\n",
       "  0.554219  -2.34619   -2.7177   -0.586157"
      ]
     },
     "execution_count": 15,
     "metadata": {},
     "output_type": "execute_result"
    }
   ],
   "source": [
    "A = Ū*diagm(σ̄)*V̄'"
   ]
  },
  {
   "cell_type": "markdown",
   "id": "984694f9",
   "metadata": {},
   "source": [
    "**Step 2.** Calculate a numerical SVD of $A$. Show that the numerical SVD is the same as the SVD by construction.\n",
    "\n",
    "Let the numerical SVD be $A = U \\Sigma V^*$ (without overbars). Then observe $U = \\bar{U}, \\sigma_i = \\bar{\\sigma_i}, V = \\bar{V}$ up to signs  in columns of $U,V$.\n",
    "\n"
   ]
  },
  {
   "cell_type": "code",
   "execution_count": 16,
   "id": "eadb2b19",
   "metadata": {},
   "outputs": [],
   "source": [
    "U,σ,V = svd(A);"
   ]
  },
  {
   "cell_type": "code",
   "execution_count": 17,
   "id": "64a79fec",
   "metadata": {},
   "outputs": [
    {
     "data": {
      "text/plain": [
       "4×4 Matrix{Float64}:\n",
       " -0.500899   0.26282     0.802884   -0.188159\n",
       "  0.608963   0.656656    0.251052    0.367342\n",
       "  0.408785  -0.705549    0.536777    0.216716\n",
       " -0.45952   -0.0439257  -0.0649712   0.884698"
      ]
     },
     "execution_count": 17,
     "metadata": {},
     "output_type": "execute_result"
    }
   ],
   "source": [
    "U"
   ]
  },
  {
   "cell_type": "code",
   "execution_count": 19,
   "id": "fd4bfecc",
   "metadata": {},
   "outputs": [
    {
     "data": {
      "text/plain": [
       "4×4 Matrix{Float64}:\n",
       " -0.500899  -0.26282    -0.802884   -0.188159\n",
       "  0.608963  -0.656656   -0.251052    0.367342\n",
       "  0.408785   0.705549   -0.536777    0.216716\n",
       " -0.45952    0.0439257   0.0649712   0.884698"
      ]
     },
     "execution_count": 19,
     "metadata": {},
     "output_type": "execute_result"
    }
   ],
   "source": [
    "Ū[:,:]"
   ]
  },
  {
   "cell_type": "code",
   "execution_count": 20,
   "id": "44801f20",
   "metadata": {},
   "outputs": [
    {
     "data": {
      "text/plain": [
       "4×4 adjoint(::Matrix{Float64}) with eltype Float64:\n",
       " -0.155734  -0.390092   0.82156   -0.385504\n",
       "  0.604214   0.68694    0.334773  -0.225757\n",
       "  0.760829  -0.609282  -0.195674  -0.107829\n",
       "  0.178359  -0.068682   0.417944   0.88814"
      ]
     },
     "execution_count": 20,
     "metadata": {},
     "output_type": "execute_result"
    }
   ],
   "source": [
    "V"
   ]
  },
  {
   "cell_type": "code",
   "execution_count": 21,
   "id": "bc85b2ff",
   "metadata": {},
   "outputs": [
    {
     "data": {
      "text/plain": [
       "4×4 Matrix{Float64}:\n",
       " -0.155734   0.390092  -0.82156   -0.385504\n",
       "  0.604214  -0.68694   -0.334773  -0.225757\n",
       "  0.760829   0.609282   0.195674  -0.107829\n",
       "  0.178359   0.068682  -0.417944   0.88814"
      ]
     },
     "execution_count": 21,
     "metadata": {},
     "output_type": "execute_result"
    }
   ],
   "source": [
    "V̄[:,:]"
   ]
  },
  {
   "cell_type": "markdown",
   "id": "8e40ecee",
   "metadata": {},
   "source": [
    "**Step 3:** Show that $A$ can be expressed as a sum of outer product matrices\n",
    "    $A = U \\Sigma V^* = \\sigma_1 u_1 v_1^* + \\sigma_2 u_2 v_2^* + \\ldots$."
   ]
  },
  {
   "cell_type": "code",
   "execution_count": 22,
   "id": "6a708031",
   "metadata": {},
   "outputs": [
    {
     "data": {
      "text/plain": [
       "4×4 Matrix{Float64}:\n",
       "  0.763483  -1.69614   -3.63189  -0.561877\n",
       " -1.40382    4.34454    2.46956   0.836189\n",
       "  0.602036   0.636847   3.7054    0.89747\n",
       "  0.554219  -2.34619   -2.7177   -0.586157"
      ]
     },
     "execution_count": 22,
     "metadata": {},
     "output_type": "execute_result"
    }
   ],
   "source": [
    "σ[1]*(U[:,1]*V[:,1]') + σ[2]*(U[:,2]*V[:,2]') + σ[3]*(U[:,3]*V[:,3]') + σ[4]*(U[:,4]*V[:,4]') "
   ]
  },
  {
   "cell_type": "code",
   "execution_count": 23,
   "id": "76ea3f61",
   "metadata": {},
   "outputs": [
    {
     "data": {
      "text/plain": [
       "4×4 Matrix{Float64}:\n",
       "  0.763483  -1.69614   -3.63189  -0.561877\n",
       " -1.40382    4.34454    2.46956   0.836189\n",
       "  0.602036   0.636847   3.7054    0.89747\n",
       "  0.554219  -2.34619   -2.7177   -0.586157"
      ]
     },
     "execution_count": 23,
     "metadata": {},
     "output_type": "execute_result"
    }
   ],
   "source": [
    "A"
   ]
  },
  {
   "cell_type": "code",
   "execution_count": 24,
   "id": "be14f6c0",
   "metadata": {},
   "outputs": [
    {
     "data": {
      "text/plain": [
       "4-element Vector{Float64}:\n",
       " 8.0\n",
       " 3.0\n",
       " 0.6666666666666666\n",
       " 0.1"
      ]
     },
     "execution_count": 24,
     "metadata": {},
     "output_type": "execute_result"
    }
   ],
   "source": [
    "σ̄"
   ]
  },
  {
   "cell_type": "code",
   "execution_count": 25,
   "id": "c62c1231-1d69-4525-a4c0-3712b1154d60",
   "metadata": {},
   "outputs": [
    {
     "data": {
      "text/plain": [
       "4-element Vector{Float64}:\n",
       " 8.0\n",
       " 2.9999999999999987\n",
       " 0.6666666666666666\n",
       " 0.09999999999999999"
      ]
     },
     "execution_count": 25,
     "metadata": {},
     "output_type": "execute_result"
    }
   ],
   "source": [
    "σ"
   ]
  },
  {
   "cell_type": "markdown",
   "id": "f16b814d",
   "metadata": {},
   "source": [
    "Change signs in corresponding columns of $U,V$, show it still forms SVD of $A$."
   ]
  },
  {
   "cell_type": "code",
   "execution_count": 26,
   "id": "f90bd53e",
   "metadata": {},
   "outputs": [
    {
     "data": {
      "text/plain": [
       "4×4 Matrix{Float64}:\n",
       "  0.763483  -1.69614   -3.63189  -0.561877\n",
       " -1.40382    4.34454    2.46956   0.836189\n",
       "  0.602036   0.636847   3.7054    0.89747\n",
       "  0.554219  -2.34619   -2.7177   -0.586157"
      ]
     },
     "execution_count": 26,
     "metadata": {},
     "output_type": "execute_result"
    }
   ],
   "source": [
    "U*diagm(σ)*V'"
   ]
  },
  {
   "cell_type": "code",
   "execution_count": 27,
   "id": "718a73d3",
   "metadata": {},
   "outputs": [
    {
     "data": {
      "text/plain": [
       "4-element Vector{Float64}:\n",
       " -0.8215602867325744\n",
       " -0.33477347168394844\n",
       "  0.19567373398615043\n",
       " -0.41794402465938446"
      ]
     },
     "execution_count": 27,
     "metadata": {},
     "output_type": "execute_result"
    }
   ],
   "source": [
    "U[:,3] = -U[:,3]\n",
    "V[:,3] = -V[:,3]"
   ]
  },
  {
   "cell_type": "code",
   "execution_count": 28,
   "id": "2b95f03d",
   "metadata": {},
   "outputs": [
    {
     "data": {
      "text/plain": [
       "4×4 Matrix{Float64}:\n",
       "  0.763483  -1.69614   -3.63189  -0.561877\n",
       " -1.40382    4.34454    2.46956   0.836189\n",
       "  0.602036   0.636847   3.7054    0.89747\n",
       "  0.554219  -2.34619   -2.7177   -0.586157"
      ]
     },
     "execution_count": 28,
     "metadata": {},
     "output_type": "execute_result"
    }
   ],
   "source": [
    "U*diagm(σ)*V'"
   ]
  },
  {
   "cell_type": "markdown",
   "id": "20baed8c",
   "metadata": {},
   "source": [
    "## Case 2: repeated singular values $\\Rightarrow$ indeterminate SVD\n",
    "\n",
    "**Step 1:** Construct a real-valued matrix $A$ with known SVD $A = \\bar{U} \\bar{\\Sigma} \\bar{V}^*$ and \n",
    "a pair of repeated singular values $\\bar{\\sigma}_1 \\geq \\bar{\\sigma_2} = \\bar{\\sigma_3} \\geq \\ldots$.\n",
    "\n",
    "Show that $A = U \\Sigma V^*$, and $\\Sigma = \\bar{\\Sigma}$, but that cols 2 and 3 of $U,V$ are different than those\n",
    "of $\\bar{U}, \\bar{V}$."
   ]
  },
  {
   "cell_type": "code",
   "execution_count": 29,
   "id": "f81c6079",
   "metadata": {},
   "outputs": [
    {
     "data": {
      "text/plain": [
       "4-element Vector{Float64}:\n",
       " 8.0\n",
       " 3.0\n",
       " 3.0\n",
       " 0.5"
      ]
     },
     "execution_count": 29,
     "metadata": {},
     "output_type": "execute_result"
    }
   ],
   "source": [
    "σ̄ = [8.0, 3.0, 3.0, 0.5]"
   ]
  },
  {
   "cell_type": "code",
   "execution_count": 35,
   "id": "d03f5bb6",
   "metadata": {},
   "outputs": [
    {
     "data": {
      "text/plain": [
       "4×4 Matrix{Float64}:\n",
       "  2.3316    -1.05198  -3.99034   0.154252\n",
       " -0.979203   4.50747   2.33909   1.21152\n",
       "  1.59761    1.03657   3.45097   1.49793\n",
       "  0.293249  -2.47683  -2.7262   -0.335223"
      ]
     },
     "execution_count": 35,
     "metadata": {},
     "output_type": "execute_result"
    }
   ],
   "source": [
    "A = Ū * diagm(σ̄ )* V̄'"
   ]
  },
  {
   "cell_type": "markdown",
   "id": "8c61241e-ebee-4eb1-a7cf-3f99e8e36c29",
   "metadata": {},
   "source": [
    "**Step 2:** Calculate and verify a numeric SVD of $A$, giving a numerical factorization $A = U \\Sigma V^*$."
   ]
  },
  {
   "cell_type": "code",
   "execution_count": 37,
   "id": "77c9310b-b8c4-4f3a-af47-e986596423fb",
   "metadata": {},
   "outputs": [
    {
     "data": {
      "text/plain": [
       "4×4 Matrix{Float64}:\n",
       "  2.3316    -1.05198  -3.99034   0.154252\n",
       " -0.979203   4.50747   2.33909   1.21152\n",
       "  1.59761    1.03657   3.45097   1.49793\n",
       "  0.293249  -2.47683  -2.7262   -0.335223"
      ]
     },
     "execution_count": 37,
     "metadata": {},
     "output_type": "execute_result"
    }
   ],
   "source": [
    "U,σ,V = svd(A);\n",
    "\n",
    "U*diagm(σ) * V'"
   ]
  },
  {
   "cell_type": "code",
   "execution_count": null,
   "id": "5a4c9c54-5701-49bb-bfec-9e47b3008cff",
   "metadata": {},
   "outputs": [],
   "source": []
  },
  {
   "cell_type": "code",
   "execution_count": 38,
   "id": "fd9771b5-63bd-46bc-9875-b6c05ec6c018",
   "metadata": {},
   "outputs": [
    {
     "data": {
      "text/plain": [
       "5.061341657731031e-15"
      ]
     },
     "execution_count": 38,
     "metadata": {},
     "output_type": "execute_result"
    }
   ],
   "source": [
    "norm(A-U*diagm(σ) * V')"
   ]
  },
  {
   "cell_type": "markdown",
   "id": "5f9f5643-2bcd-4c26-b5d9-8fcad0eb11d9",
   "metadata": {},
   "source": [
    "**Step 3:** Show that the original and numerical SVD differ in cols 2 and 3 of $U$ and same for $V$.\n",
    "\n",
    "This indeterminacy in the SVD factorization is due to the repeated singular values $\\sigma_2 = \\sigma_3$."
   ]
  },
  {
   "cell_type": "code",
   "execution_count": 40,
   "id": "b4de7a01",
   "metadata": {},
   "outputs": [
    {
     "data": {
      "text/plain": [
       "4×4 Matrix{Float64}:\n",
       " -0.500899  -0.26282    -0.802884   -0.188159\n",
       "  0.608963  -0.656656   -0.251052    0.367342\n",
       "  0.408785   0.705549   -0.536777    0.216716\n",
       " -0.45952    0.0439257   0.0649712   0.884698"
      ]
     },
     "execution_count": 40,
     "metadata": {},
     "output_type": "execute_result"
    }
   ],
   "source": [
    "Ū[:,:]"
   ]
  },
  {
   "cell_type": "code",
   "execution_count": 41,
   "id": "ada60323",
   "metadata": {},
   "outputs": [
    {
     "data": {
      "text/plain": [
       "4×4 Matrix{Float64}:\n",
       " -0.500899  -0.612548    0.581792    0.188159\n",
       "  0.608963   0.0548695   0.700866   -0.367342\n",
       "  0.408785  -0.787519   -0.407115   -0.216716\n",
       " -0.45952    0.0398504  -0.0675476  -0.884698"
      ]
     },
     "execution_count": 41,
     "metadata": {},
     "output_type": "execute_result"
    }
   ],
   "source": [
    "U"
   ]
  },
  {
   "cell_type": "markdown",
   "id": "17d1f7b6",
   "metadata": {},
   "source": [
    "**Step 4:** Show that $u_2, u_3 \\in \\text{span} \\{\\bar{u}_2, \\bar{u}_3\\}$ and same for $v$'s."
   ]
  },
  {
   "cell_type": "code",
   "execution_count": 42,
   "id": "3b405088",
   "metadata": {},
   "outputs": [],
   "source": [
    "w2 = Ū[:,2]\n",
    "w3 = Ū[:,3]\n",
    "\n",
    "u2 = U[:,2]\n",
    "u3 = U[:,3];"
   ]
  },
  {
   "cell_type": "code",
   "execution_count": 43,
   "id": "319a2f6c",
   "metadata": {},
   "outputs": [
    {
     "data": {
      "text/plain": [
       "4-element Vector{Float64}:\n",
       "  0.5817915691248187\n",
       "  0.7008660164414396\n",
       " -0.4071151219385964\n",
       " -0.06754757272996087"
      ]
     },
     "execution_count": 43,
     "metadata": {},
     "output_type": "execute_result"
    }
   ],
   "source": [
    "# expand u3 in w2, w3 basis\n",
    "\n",
    "(w2' * u3)*w2 + (w3' * u3)*w3"
   ]
  },
  {
   "cell_type": "code",
   "execution_count": 44,
   "id": "905ca43d",
   "metadata": {},
   "outputs": [
    {
     "data": {
      "text/plain": [
       "4-element Vector{Float64}:\n",
       "  0.5817915691248194\n",
       "  0.7008660164414395\n",
       " -0.407115121938597\n",
       " -0.06754757272996224"
      ]
     },
     "execution_count": 44,
     "metadata": {},
     "output_type": "execute_result"
    }
   ],
   "source": [
    "u3"
   ]
  },
  {
   "cell_type": "code",
   "execution_count": 45,
   "id": "715a2054",
   "metadata": {},
   "outputs": [
    {
     "data": {
      "text/plain": [
       "5.426552206482569e-16"
      ]
     },
     "execution_count": 45,
     "metadata": {},
     "output_type": "execute_result"
    }
   ],
   "source": [
    "norm(u2 - ((w2' * u2)*w2 + (w3' * u2)*w3))"
   ]
  },
  {
   "cell_type": "markdown",
   "id": "0cfa9d93",
   "metadata": {},
   "source": [
    "### Complex SVD with distinct singular values"
   ]
  },
  {
   "cell_type": "code",
   "execution_count": 46,
   "id": "19d2416c",
   "metadata": {},
   "outputs": [
    {
     "data": {
      "text/plain": [
       "4×4 Matrix{ComplexF64}:\n",
       " -0.184572+2.48352im   0.109674+1.87849im   …  0.174579-0.91132im\n",
       "   5.51305+3.04221im    1.61146-0.282977im      1.77751+0.63918im\n",
       "  -0.13719+1.36911im    -1.2623+4.04597im       0.45063+2.77646im\n",
       "   2.18991-0.756659im  0.153509-1.84778im       1.38678+1.32076im"
      ]
     },
     "execution_count": 46,
     "metadata": {},
     "output_type": "execute_result"
    }
   ],
   "source": [
    "Ū, tmp = qr(randn(4,4) + im*randn(4,4))\n",
    "V̄, tmp = qr(randn(4,4) + im*randn(4,4))\n",
    "\n",
    "σ̄  = [10; 4.3; 3.1; 0.2]\n",
    "\n",
    "A = Ū*diagm(σ̄ )*V̄'"
   ]
  },
  {
   "cell_type": "code",
   "execution_count": 48,
   "id": "5533f3a2-e4b2-41cf-957d-b05c7f89c881",
   "metadata": {},
   "outputs": [],
   "source": [
    "U, σ, V = svd(A);"
   ]
  },
  {
   "cell_type": "code",
   "execution_count": 49,
   "id": "e442da0c-5115-4fb0-8941-57773e35843f",
   "metadata": {},
   "outputs": [
    {
     "data": {
      "text/plain": [
       "4×4 Matrix{ComplexF64}:\n",
       " 0.0192332+0.343169im   0.153694+0.083238im   …    0.452218-0.512764im\n",
       "   0.69133+0.398237im  -0.371941-0.116316im       -0.121112+0.31976im\n",
       " -0.102212+0.405096im  -0.284323+0.786443im      -0.0394189-0.00449714im\n",
       "  0.240794-0.113151im  -0.339655-0.0536883im       0.220245-0.604628im"
      ]
     },
     "execution_count": 49,
     "metadata": {},
     "output_type": "execute_result"
    }
   ],
   "source": [
    "U"
   ]
  },
  {
   "cell_type": "code",
   "execution_count": 51,
   "id": "78f21743-50b4-4a1c-945e-52a72a441f50",
   "metadata": {},
   "outputs": [
    {
     "data": {
      "text/plain": [
       "4×4 Matrix{ComplexF64}:\n",
       "  -0.274121-0.207347im   0.106784-0.138375im  …  -0.663192+0.166147im\n",
       "  -0.750924+0.269523im  -0.174397+0.348504im      0.281013-0.194798im\n",
       "  -0.242774-0.340017im    0.73074+0.406635im     0.0299273+0.0260467im\n",
       " -0.0694996+0.256817im  -0.107406+0.326668im     -0.524142+0.373308im"
      ]
     },
     "execution_count": 51,
     "metadata": {},
     "output_type": "execute_result"
    }
   ],
   "source": [
    "Ū[:,:]"
   ]
  },
  {
   "cell_type": "code",
   "execution_count": 54,
   "id": "9af40cc6-d40e-4861-8b05-af8385cae92c",
   "metadata": {},
   "outputs": [
    {
     "data": {
      "text/plain": [
       "4-element Vector{ComplexF64}:\n",
       " 0.16019360803127572 + 0.9870856132807964im\n",
       " 0.16019360803127736 + 0.9870856132807937im\n",
       "  0.1601936080312766 + 0.9870856132807942im\n",
       " 0.16019360803127614 + 0.987085613280795im"
      ]
     },
     "execution_count": 54,
     "metadata": {},
     "output_type": "execute_result"
    }
   ],
   "source": [
    "U[:,2] ./ Ū[:,2]"
   ]
  },
  {
   "cell_type": "code",
   "execution_count": 53,
   "id": "98119be8-18ad-49fa-bf0d-184b6937156c",
   "metadata": {},
   "outputs": [
    {
     "data": {
      "text/plain": [
       "0.9999999999999996"
      ]
     },
     "execution_count": 53,
     "metadata": {},
     "output_type": "execute_result"
    }
   ],
   "source": [
    "abs(-0.6469486742084471 - 0.7625335487307634im)"
   ]
  },
  {
   "cell_type": "markdown",
   "id": "6814f029",
   "metadata": {},
   "source": [
    "### Complex SVD with repeated singular values"
   ]
  },
  {
   "cell_type": "code",
   "execution_count": null,
   "id": "e65c5a13",
   "metadata": {},
   "outputs": [],
   "source": []
  }
 ],
 "metadata": {
  "kernelspec": {
   "display_name": "Julia 1.10.0",
   "language": "julia",
   "name": "julia-1.10"
  },
  "language_info": {
   "file_extension": ".jl",
   "mimetype": "application/julia",
   "name": "julia",
   "version": "1.10.0"
  }
 },
 "nbformat": 4,
 "nbformat_minor": 5
}
