{
 "cells": [
  {
   "cell_type": "markdown",
   "metadata": {},
   "source": [
    "# Singular Value Decomposition Demo\n",
    "\n",
    "Illustrate these points\n",
    "  1. Any matrix $A$ has an SVD $A=U \\Sigma V^*$, with $U,V$ unitary and $\\Sigma$ diagonal with non-negative reals on the diagonal.\n",
    "  2. A real matrix has a real SVD.\n",
    "  3. A given matrix has a unique set of singular values.\n",
    "  4. If the singular values are distinct, $U$ and $V$ are unique (up to complex sign).\n",
    "  5. If there are repeated singular values, the corresponding columns of $U$ are indeterminate, but lie within a fixed subspace. \n",
    "  6. Nonsquare matrices and matrices with singular values equal to zero have reduced as well as full SVDs. \n"
   ]
  },
  {
   "cell_type": "markdown",
   "metadata": {},
   "source": [
    "## 1. Existence\n",
    "\n",
    "Any matrix $A$ has an SVD $A=U \\Sigma V^*$, with $U,V$ unitary and $\\Sigma$ diagonal with non-negative reals on the diagonal. \n",
    "\n",
    "Demonstrate  by computing SVD of several random matrices and showing\n",
    "\n",
    "  * that $A = U \\Sigma V^*$\n",
    "  * that $U$ and $V$ are unitary\n",
    "  * that $\\Sigma$ is diagonal with $\\sigma_1 \\geq \\sigma_2 \\geq \\ldots \\geq \\sigma_m$."
   ]
  },
  {
   "cell_type": "code",
   "execution_count": 1,
   "metadata": {
    "collapsed": false
   },
   "outputs": [
    {
     "data": {
      "text/plain": [
       "5×5 Array{Float64,2}:\n",
       " -1.237     -1.47799   -1.22748     1.81656    0.323651 \n",
       " -0.724204  -0.123652   1.93565     0.206135  -0.494739 \n",
       " -0.331345   0.134271   0.419918   -1.19748    0.0404123\n",
       "  0.763933   0.363414  -0.0748475  -1.30065    0.736241 \n",
       "  1.5345     1.28183    0.285998    0.598386  -1.81461  "
      ]
     },
     "execution_count": 1,
     "metadata": {},
     "output_type": "execute_result"
    }
   ],
   "source": [
    "A = randn(5,5)"
   ]
  },
  {
   "cell_type": "code",
   "execution_count": 2,
   "metadata": {
    "collapsed": true
   },
   "outputs": [],
   "source": [
    "U,σ,V = svd(A);"
   ]
  },
  {
   "cell_type": "code",
   "execution_count": 3,
   "metadata": {
    "collapsed": false
   },
   "outputs": [
    {
     "data": {
      "text/plain": [
       "5×5 Array{Float64,2}:\n",
       " 3.58082  0.0     0.0     0.0       0.0     \n",
       " 0.0      2.6908  0.0     0.0       0.0     \n",
       " 0.0      0.0     2.2793  0.0       0.0     \n",
       " 0.0      0.0     0.0     0.588953  0.0     \n",
       " 0.0      0.0     0.0     0.0       0.141876"
      ]
     },
     "execution_count": 3,
     "metadata": {},
     "output_type": "execute_result"
    }
   ],
   "source": [
    "Σ = diagm(σ)"
   ]
  },
  {
   "cell_type": "code",
   "execution_count": 4,
   "metadata": {
    "collapsed": false
   },
   "outputs": [
    {
     "data": {
      "text/plain": [
       "5×5 Array{Float64,2}:\n",
       " -0.792496   0.272788  -0.0704769   0.0864516  0.533944\n",
       "  0.094364   0.109579   0.914368   -0.283211   0.250621\n",
       "  0.168777  -0.358498   0.195794    0.836442   0.324073\n",
       "  0.266353  -0.459892  -0.290372   -0.439823   0.66317 \n",
       "  0.513435   0.757336  -0.19056     0.1387     0.327529"
      ]
     },
     "execution_count": 4,
     "metadata": {},
     "output_type": "execute_result"
    }
   ],
   "source": [
    "U"
   ]
  },
  {
   "cell_type": "code",
   "execution_count": 5,
   "metadata": {
    "collapsed": false
   },
   "outputs": [
    {
     "data": {
      "text/plain": [
       "5×5 Array{Float64,2}:\n",
       " 1.0           1.09155e-16   3.2443e-16    3.62457e-18   7.63344e-17\n",
       " 1.09155e-16   1.0          -4.88849e-16   5.65175e-17   1.23274e-16\n",
       " 3.2443e-16   -4.88849e-16   1.0          -8.76693e-17   1.02288e-16\n",
       " 3.62457e-18   5.65175e-17  -8.76693e-17   1.0          -6.77578e-17\n",
       " 7.63344e-17   1.23274e-16   1.02288e-16  -6.77578e-17   1.0        "
      ]
     },
     "execution_count": 5,
     "metadata": {},
     "output_type": "execute_result"
    }
   ],
   "source": [
    "U'*U"
   ]
  },
  {
   "cell_type": "code",
   "execution_count": 6,
   "metadata": {
    "collapsed": false
   },
   "outputs": [
    {
     "data": {
      "text/plain": [
       "5×5 Array{Float64,2}:\n",
       "  1.0           3.76087e-17   1.52794e-16  -1.34374e-16   1.1723e-16 \n",
       "  3.76087e-17   1.0           5.33762e-17  -8.23772e-17   1.2957e-16 \n",
       "  1.52794e-16   5.33762e-17   1.0          -9.45902e-17   1.06412e-16\n",
       " -1.34374e-16  -8.23772e-17  -9.45902e-17   1.0          -1.95549e-16\n",
       "  1.1723e-16    1.2957e-16    1.06412e-16  -1.95549e-16   1.0        "
      ]
     },
     "execution_count": 6,
     "metadata": {},
     "output_type": "execute_result"
    }
   ],
   "source": [
    "V'*V"
   ]
  },
  {
   "cell_type": "code",
   "execution_count": 7,
   "metadata": {
    "collapsed": false
   },
   "outputs": [
    {
     "data": {
      "text/plain": [
       "5×5 Array{Float64,2}:\n",
       " -1.237     -1.47799   -1.22748     1.81656    0.323651 \n",
       " -0.724204  -0.123652   1.93565     0.206135  -0.494739 \n",
       " -0.331345   0.134271   0.419918   -1.19748    0.0404123\n",
       "  0.763933   0.363414  -0.0748475  -1.30065    0.736241 \n",
       "  1.5345     1.28183    0.285998    0.598386  -1.81461  "
      ]
     },
     "execution_count": 7,
     "metadata": {},
     "output_type": "execute_result"
    }
   ],
   "source": [
    "U*Σ*V'"
   ]
  },
  {
   "cell_type": "code",
   "execution_count": 8,
   "metadata": {
    "collapsed": false
   },
   "outputs": [
    {
     "data": {
      "text/plain": [
       "5×5 Array{Float64,2}:\n",
       " -1.237     -1.47799   -1.22748     1.81656    0.323651 \n",
       " -0.724204  -0.123652   1.93565     0.206135  -0.494739 \n",
       " -0.331345   0.134271   0.419918   -1.19748    0.0404123\n",
       "  0.763933   0.363414  -0.0748475  -1.30065    0.736241 \n",
       "  1.5345     1.28183    0.285998    0.598386  -1.81461  "
      ]
     },
     "execution_count": 8,
     "metadata": {},
     "output_type": "execute_result"
    }
   ],
   "source": [
    "A"
   ]
  },
  {
   "cell_type": "code",
   "execution_count": 9,
   "metadata": {
    "collapsed": false
   },
   "outputs": [
    {
     "data": {
      "text/plain": [
       "2.6022267756813083e-15"
      ]
     },
     "execution_count": 9,
     "metadata": {},
     "output_type": "execute_result"
    }
   ],
   "source": [
    "norm(A-U*Σ*V')"
   ]
  },
  {
   "cell_type": "markdown",
   "metadata": {},
   "source": [
    "## 2. Real A has real SVD, complex A has complex SVD\n",
    "\n",
    "We saw that a real matrix has a real SVD above. Show here that a complex matrix has an SVD with complex $U, V$ but real $\\Sigma$."
   ]
  },
  {
   "cell_type": "code",
   "execution_count": 10,
   "metadata": {
    "collapsed": false
   },
   "outputs": [
    {
     "data": {
      "text/plain": [
       "3×3 Array{Complex{Float64},2}:\n",
       " -0.0658463-1.07672im   0.0550466+0.608291im    -1.54694+1.0772im  \n",
       "   -1.60493-0.884238im    -1.1701+0.0571607im  -0.174674-0.363866im\n",
       "  -0.364106-0.257187im  -0.336272+1.40918im     -1.04167+0.559414im"
      ]
     },
     "execution_count": 10,
     "metadata": {},
     "output_type": "execute_result"
    }
   ],
   "source": [
    "A = randn(3,3) + randn(3,3)*im"
   ]
  },
  {
   "cell_type": "code",
   "execution_count": 11,
   "metadata": {
    "collapsed": false
   },
   "outputs": [
    {
     "data": {
      "text/plain": [
       "3×3 Array{Float64,2}:\n",
       " 2.96511  0.0     0.0     \n",
       " 0.0      2.1597  0.0     \n",
       " 0.0      0.0     0.471706"
      ]
     },
     "execution_count": 11,
     "metadata": {},
     "output_type": "execute_result"
    }
   ],
   "source": [
    "U,σ,V = svd(A);\n",
    "Σ = diagm(σ)"
   ]
  },
  {
   "cell_type": "code",
   "execution_count": 12,
   "metadata": {
    "collapsed": false
   },
   "outputs": [
    {
     "data": {
      "text/plain": [
       "3×3 Array{Complex{Float64},2}:\n",
       "  -0.51684-0.366871im  0.408874-0.392005im    0.33511-0.406372im\n",
       " -0.157183-0.435811im  -0.78387-0.151447im   0.319499+0.214229im\n",
       " -0.539676-0.303965im  0.143639+0.145373im  -0.583357+0.48403im "
      ]
     },
     "execution_count": 12,
     "metadata": {},
     "output_type": "execute_result"
    }
   ],
   "source": [
    "U"
   ]
  },
  {
   "cell_type": "code",
   "execution_count": 13,
   "metadata": {
    "collapsed": false
   },
   "outputs": [
    {
     "data": {
      "text/plain": [
       "3×3 Array{Complex{Float64},2}:\n",
       "          1.0+0.0im          …  -2.77556e-17-1.11022e-16im\n",
       "  5.55112e-17+8.32667e-17im      4.16334e-17+5.55112e-17im\n",
       " -2.77556e-17+1.11022e-16im              1.0+0.0im        "
      ]
     },
     "execution_count": 13,
     "metadata": {},
     "output_type": "execute_result"
    }
   ],
   "source": [
    "U'*U"
   ]
  },
  {
   "cell_type": "code",
   "execution_count": 14,
   "metadata": {
    "collapsed": false
   },
   "outputs": [
    {
     "data": {
      "text/plain": [
       "3.0810483346089203e-16"
      ]
     },
     "execution_count": 14,
     "metadata": {},
     "output_type": "execute_result"
    }
   ],
   "source": [
    "norm(U'*U - I)"
   ]
  },
  {
   "cell_type": "code",
   "execution_count": 15,
   "metadata": {
    "collapsed": false
   },
   "outputs": [
    {
     "data": {
      "text/plain": [
       "3×3 Array{Complex{Float64},2}:\n",
       " -0.0658463-1.07672im   0.0550466+0.608291im    -1.54694+1.0772im  \n",
       "   -1.60493-0.884238im    -1.1701+0.0571607im  -0.174674-0.363866im\n",
       "  -0.364106-0.257187im  -0.336272+1.40918im     -1.04167+0.559414im"
      ]
     },
     "execution_count": 15,
     "metadata": {},
     "output_type": "execute_result"
    }
   ],
   "source": [
    "U*Σ*V'"
   ]
  },
  {
   "cell_type": "code",
   "execution_count": 16,
   "metadata": {
    "collapsed": false
   },
   "outputs": [
    {
     "data": {
      "text/plain": [
       "3×3 Array{Complex{Float64},2}:\n",
       " -0.0658463-1.07672im   0.0550466+0.608291im    -1.54694+1.0772im  \n",
       "   -1.60493-0.884238im    -1.1701+0.0571607im  -0.174674-0.363866im\n",
       "  -0.364106-0.257187im  -0.336272+1.40918im     -1.04167+0.559414im"
      ]
     },
     "execution_count": 16,
     "metadata": {},
     "output_type": "execute_result"
    }
   ],
   "source": [
    "A"
   ]
  },
  {
   "cell_type": "code",
   "execution_count": 17,
   "metadata": {
    "collapsed": false
   },
   "outputs": [
    {
     "data": {
      "text/plain": [
       "1.275069438759701e-15"
      ]
     },
     "execution_count": 17,
     "metadata": {},
     "output_type": "execute_result"
    }
   ],
   "source": [
    "norm(A-U*Σ*V')"
   ]
  },
  {
   "cell_type": "markdown",
   "metadata": {},
   "source": [
    "## 3. Uniqueness of singular values\n",
    "\n",
    "A given matrix has a unique set of singular values. Demonstrate by constructing several matrices $A$ from known random $U, \\Sigma, V$, and show that the computed singular values are always the same as the input values. \n",
    "\n",
    "To generate random unitary matrices $U$ and $V$, compute the $QR$ decomposition of random normal matrices."
   ]
  },
  {
   "cell_type": "code",
   "execution_count": 18,
   "metadata": {
    "collapsed": true
   },
   "outputs": [],
   "source": [
    "U,tmp = qr(randn(5,5));\n",
    "V,tmp = qr(randn(5,5));"
   ]
  },
  {
   "cell_type": "code",
   "execution_count": 19,
   "metadata": {
    "collapsed": false
   },
   "outputs": [
    {
     "data": {
      "text/plain": [
       "5×5 Array{Float64,2}:\n",
       " -0.690492    0.453174   -0.334346    0.32349    0.318466\n",
       "  0.143178   -0.0634647  -0.715497   -0.620608   0.279969\n",
       " -0.0548915   0.440077   -0.247251   -0.154919  -0.847459\n",
       " -0.309032    0.323415    0.559277   -0.681752   0.149417\n",
       "  0.635772    0.70167     0.0485119   0.146338   0.282285"
      ]
     },
     "execution_count": 19,
     "metadata": {},
     "output_type": "execute_result"
    }
   ],
   "source": [
    "U"
   ]
  },
  {
   "cell_type": "code",
   "execution_count": 20,
   "metadata": {
    "collapsed": false
   },
   "outputs": [
    {
     "data": {
      "text/plain": [
       "5×5 Array{Float64,2}:\n",
       "  1.0          -6.52487e-18   1.48467e-16  -6.27464e-17  -2.27603e-16\n",
       " -6.52487e-18   1.0          -3.58786e-16   1.59794e-16  -1.65492e-16\n",
       "  1.48467e-16  -3.58786e-16   1.0          -6.57675e-17   1.55573e-16\n",
       " -6.27464e-17   1.59794e-16  -6.57675e-17   1.0          -2.70044e-17\n",
       " -2.27603e-16  -1.65492e-16   1.55573e-16  -2.70044e-17   1.0        "
      ]
     },
     "execution_count": 20,
     "metadata": {},
     "output_type": "execute_result"
    }
   ],
   "source": [
    "U'*U"
   ]
  },
  {
   "cell_type": "code",
   "execution_count": 21,
   "metadata": {
    "collapsed": false
   },
   "outputs": [
    {
     "data": {
      "text/plain": [
       "5×5 Array{Float64,2}:\n",
       " -0.103689   0.372691   -0.882638    0.0389598  0.264164\n",
       " -0.162492  -0.909838   -0.310649   -0.102385   0.196991\n",
       "  0.527549  -0.0371144   0.157717    0.410581   0.725853\n",
       "  0.307897   0.0915639   0.0468813  -0.902984   0.281491\n",
       " -0.767943   0.15341     0.31205    -0.0635828  0.534145"
      ]
     },
     "execution_count": 21,
     "metadata": {},
     "output_type": "execute_result"
    }
   ],
   "source": [
    "V"
   ]
  },
  {
   "cell_type": "code",
   "execution_count": 22,
   "metadata": {
    "collapsed": false
   },
   "outputs": [
    {
     "data": {
      "text/plain": [
       "5×5 Array{Float64,2}:\n",
       "  1.0          -1.89382e-16   6.73756e-16   4.7648e-18   -4.06741e-16\n",
       " -1.89382e-16   1.0          -2.65574e-16   4.48388e-17   1.07841e-16\n",
       "  6.73756e-16  -2.65574e-16   1.0           1.0135e-16   -1.3265e-16 \n",
       "  4.7648e-18    4.48388e-17   1.0135e-16    1.0          -1.25932e-16\n",
       " -4.06741e-16   1.07841e-16  -1.3265e-16   -1.25932e-16   1.0        "
      ]
     },
     "execution_count": 22,
     "metadata": {},
     "output_type": "execute_result"
    }
   ],
   "source": [
    "V'*V"
   ]
  },
  {
   "cell_type": "code",
   "execution_count": 23,
   "metadata": {
    "collapsed": false
   },
   "outputs": [
    {
     "data": {
      "text/plain": [
       "5-element Array{Float64,1}:\n",
       " 17.0 \n",
       " 11.3 \n",
       "  3.19\n",
       "  0.43\n",
       "  0.01"
      ]
     },
     "execution_count": 23,
     "metadata": {},
     "output_type": "execute_result"
    }
   ],
   "source": [
    "σ = [17.0, 11.3, 3.19, 0.43, 0.01]"
   ]
  },
  {
   "cell_type": "code",
   "execution_count": 24,
   "metadata": {
    "collapsed": false
   },
   "outputs": [
    {
     "data": {
      "text/plain": [
       "5×5 Array{Float64,2}:\n",
       " 17.0   0.0  0.0   0.0   0.0 \n",
       "  0.0  11.3  0.0   0.0   0.0 \n",
       "  0.0   0.0  3.19  0.0   0.0 \n",
       "  0.0   0.0  0.0   0.43  0.0 \n",
       "  0.0   0.0  0.0   0.0   0.01"
      ]
     },
     "execution_count": 24,
     "metadata": {},
     "output_type": "execute_result"
    }
   ],
   "source": [
    "Σ = diagm(σ)"
   ]
  },
  {
   "cell_type": "code",
   "execution_count": 25,
   "metadata": {
    "collapsed": false
   },
   "outputs": [
    {
     "data": {
      "text/plain": [
       "5×5 Array{Float64,2}:\n",
       " 4.0733    -2.43405   -6.49141   -3.32004    9.46003\n",
       " 1.48525    0.993891   0.843171   0.818522  -2.67298\n",
       " 2.64143   -4.12271   -0.834749   0.188809   1.23308\n",
       " 0.321035  -2.99534   -2.74504   -0.93415    5.17124\n",
       " 1.70094   -9.02418    5.45983    4.00502   -7.03786"
      ]
     },
     "execution_count": 25,
     "metadata": {},
     "output_type": "execute_result"
    }
   ],
   "source": [
    "A = U*Σ*V'"
   ]
  },
  {
   "cell_type": "code",
   "execution_count": 26,
   "metadata": {
    "collapsed": false
   },
   "outputs": [],
   "source": [
    "Û,σ̂,V̂ = svd(A);"
   ]
  },
  {
   "cell_type": "code",
   "execution_count": 27,
   "metadata": {
    "collapsed": false
   },
   "outputs": [
    {
     "data": {
      "text/plain": [
       "5-element Array{Float64,1}:\n",
       " 17.0 \n",
       " 11.3 \n",
       "  3.19\n",
       "  0.43\n",
       "  0.01"
      ]
     },
     "execution_count": 27,
     "metadata": {},
     "output_type": "execute_result"
    }
   ],
   "source": [
    "σ̂"
   ]
  },
  {
   "cell_type": "code",
   "execution_count": 28,
   "metadata": {
    "collapsed": false
   },
   "outputs": [
    {
     "data": {
      "text/plain": [
       "5-element Array{Float64,1}:\n",
       " 17.0 \n",
       " 11.3 \n",
       "  3.19\n",
       "  0.43\n",
       "  0.01"
      ]
     },
     "execution_count": 28,
     "metadata": {},
     "output_type": "execute_result"
    }
   ],
   "source": [
    "σ"
   ]
  },
  {
   "cell_type": "code",
   "execution_count": 29,
   "metadata": {
    "collapsed": false
   },
   "outputs": [
    {
     "data": {
      "text/plain": [
       "5-element Array{Float64,1}:\n",
       " -7.10543e-15\n",
       " -5.32907e-15\n",
       "  0.0        \n",
       " -3.33067e-16\n",
       " -8.50015e-17"
      ]
     },
     "execution_count": 29,
     "metadata": {},
     "output_type": "execute_result"
    }
   ],
   "source": [
    "σ - σ̂"
   ]
  },
  {
   "cell_type": "markdown",
   "metadata": {},
   "source": [
    "## 4. Uniqueness of U, V for distinct singular values\n",
    "\n",
    "From above computations we have a matrix $A$ constructed from a known SVD, $A= U\\Sigma V^*$, and an SVD of $A$ computed numerically, $A=\\hat{U} \\hat{\\Sigma} \\hat{V}^*$. When we compare $U$ and $\\hat{U}$, we see they are the same (to numerical precision). "
   ]
  },
  {
   "cell_type": "code",
   "execution_count": 30,
   "metadata": {
    "collapsed": false
   },
   "outputs": [
    {
     "data": {
      "text/plain": [
       "5×5 Array{Float64,2}:\n",
       " -0.690492    0.453174   -0.334346    0.32349    0.318466\n",
       "  0.143178   -0.0634647  -0.715497   -0.620608   0.279969\n",
       " -0.0548915   0.440077   -0.247251   -0.154919  -0.847459\n",
       " -0.309032    0.323415    0.559277   -0.681752   0.149417\n",
       "  0.635772    0.70167     0.0485119   0.146338   0.282285"
      ]
     },
     "execution_count": 30,
     "metadata": {},
     "output_type": "execute_result"
    }
   ],
   "source": [
    "U"
   ]
  },
  {
   "cell_type": "code",
   "execution_count": 31,
   "metadata": {
    "collapsed": false
   },
   "outputs": [
    {
     "data": {
      "text/plain": [
       "5×5 Array{Float64,2}:\n",
       " -0.690492   -0.453174    0.334346    0.32349    0.318466\n",
       "  0.143178    0.0634647   0.715497   -0.620608   0.279969\n",
       " -0.0548915  -0.440077    0.247251   -0.154919  -0.847459\n",
       " -0.309032   -0.323415   -0.559277   -0.681752   0.149417\n",
       "  0.635772   -0.70167    -0.0485119   0.146338   0.282285"
      ]
     },
     "execution_count": 31,
     "metadata": {},
     "output_type": "execute_result"
    }
   ],
   "source": [
    "Û"
   ]
  },
  {
   "cell_type": "markdown",
   "metadata": {},
   "source": [
    "$V$ and $\\hat{V}$ are also the same."
   ]
  },
  {
   "cell_type": "code",
   "execution_count": 32,
   "metadata": {
    "collapsed": false
   },
   "outputs": [
    {
     "data": {
      "text/plain": [
       "5×5 Array{Float64,2}:\n",
       " -0.103689   0.372691   -0.882638    0.0389598  0.264164\n",
       " -0.162492  -0.909838   -0.310649   -0.102385   0.196991\n",
       "  0.527549  -0.0371144   0.157717    0.410581   0.725853\n",
       "  0.307897   0.0915639   0.0468813  -0.902984   0.281491\n",
       " -0.767943   0.15341     0.31205    -0.0635828  0.534145"
      ]
     },
     "execution_count": 32,
     "metadata": {},
     "output_type": "execute_result"
    }
   ],
   "source": [
    "V"
   ]
  },
  {
   "cell_type": "code",
   "execution_count": 33,
   "metadata": {
    "collapsed": false
   },
   "outputs": [
    {
     "data": {
      "text/plain": [
       "5×5 Array{Float64,2}:\n",
       " -0.103689  -0.372691    0.882638    0.0389598  0.264164\n",
       " -0.162492   0.909838    0.310649   -0.102385   0.196991\n",
       "  0.527549   0.0371144  -0.157717    0.410581   0.725853\n",
       "  0.307897  -0.0915639  -0.0468813  -0.902984   0.281491\n",
       " -0.767943  -0.15341    -0.31205    -0.0635828  0.534145"
      ]
     },
     "execution_count": 33,
     "metadata": {},
     "output_type": "execute_result"
    }
   ],
   "source": [
    "V̂"
   ]
  },
  {
   "cell_type": "code",
   "execution_count": 34,
   "metadata": {
    "collapsed": false
   },
   "outputs": [],
   "source": [
    "Σ̂ = diagm(σ̂);"
   ]
  },
  {
   "cell_type": "code",
   "execution_count": 35,
   "metadata": {
    "collapsed": false
   },
   "outputs": [
    {
     "data": {
      "text/plain": [
       "5×5 Array{Float64,2}:\n",
       " 4.0733    -2.43405   -6.49141   -3.32004    9.46003\n",
       " 1.48525    0.993891   0.843171   0.818522  -2.67298\n",
       " 2.64143   -4.12271   -0.834749   0.188809   1.23308\n",
       " 0.321035  -2.99534   -2.74504   -0.93415    5.17124\n",
       " 1.70094   -9.02418    5.45983    4.00502   -7.03786"
      ]
     },
     "execution_count": 35,
     "metadata": {},
     "output_type": "execute_result"
    }
   ],
   "source": [
    "Û * Σ̂  * V̂'"
   ]
  },
  {
   "cell_type": "code",
   "execution_count": 36,
   "metadata": {
    "collapsed": false
   },
   "outputs": [
    {
     "data": {
      "text/plain": [
       "5×5 Array{Float64,2}:\n",
       " 4.0733    -2.43405   -6.49141   -3.32004    9.46003\n",
       " 1.48525    0.993891   0.843171   0.818522  -2.67298\n",
       " 2.64143   -4.12271   -0.834749   0.188809   1.23308\n",
       " 0.321035  -2.99534   -2.74504   -0.93415    5.17124\n",
       " 1.70094   -9.02418    5.45983    4.00502   -7.03786"
      ]
     },
     "execution_count": 36,
     "metadata": {},
     "output_type": "execute_result"
    }
   ],
   "source": [
    "A"
   ]
  },
  {
   "cell_type": "markdown",
   "metadata": {},
   "source": [
    "### U,V are unique up to sign\n",
    "\n",
    "With distinct singular values $U$ and $V$ are unique only up to sign.\n",
    "Here we'll change the sign of a single column of $U$ and the same column of $V$, and show that the modified matrices are still an SVD of $A$."
   ]
  },
  {
   "cell_type": "code",
   "execution_count": 37,
   "metadata": {
    "collapsed": false
   },
   "outputs": [
    {
     "data": {
      "text/plain": [
       "5×5 Array{Float64,2}:\n",
       " -0.690492    0.453174    0.334346    0.32349    0.318466\n",
       "  0.143178   -0.0634647   0.715497   -0.620608   0.279969\n",
       " -0.0548915   0.440077    0.247251   -0.154919  -0.847459\n",
       " -0.309032    0.323415   -0.559277   -0.681752   0.149417\n",
       "  0.635772    0.70167    -0.0485119   0.146338   0.282285"
      ]
     },
     "execution_count": 37,
     "metadata": {},
     "output_type": "execute_result"
    }
   ],
   "source": [
    "U[:,3] = -U[:,3];\n",
    "U"
   ]
  },
  {
   "cell_type": "code",
   "execution_count": 38,
   "metadata": {
    "collapsed": false
   },
   "outputs": [
    {
     "data": {
      "text/plain": [
       "5×5 Array{Float64,2}:\n",
       " -0.103689   0.372691    0.882638    0.0389598  0.264164\n",
       " -0.162492  -0.909838    0.310649   -0.102385   0.196991\n",
       "  0.527549  -0.0371144  -0.157717    0.410581   0.725853\n",
       "  0.307897   0.0915639  -0.0468813  -0.902984   0.281491\n",
       " -0.767943   0.15341    -0.31205    -0.0635828  0.534145"
      ]
     },
     "execution_count": 38,
     "metadata": {},
     "output_type": "execute_result"
    }
   ],
   "source": [
    "V[:,3] = -V[:,3];\n",
    "V"
   ]
  },
  {
   "cell_type": "code",
   "execution_count": 39,
   "metadata": {
    "collapsed": false
   },
   "outputs": [
    {
     "data": {
      "text/plain": [
       "5×5 Array{Float64,2}:\n",
       " -0.103689  -0.372691    0.882638    0.0389598  0.264164\n",
       " -0.162492   0.909838    0.310649   -0.102385   0.196991\n",
       "  0.527549   0.0371144  -0.157717    0.410581   0.725853\n",
       "  0.307897  -0.0915639  -0.0468813  -0.902984   0.281491\n",
       " -0.767943  -0.15341    -0.31205    -0.0635828  0.534145"
      ]
     },
     "execution_count": 39,
     "metadata": {},
     "output_type": "execute_result"
    }
   ],
   "source": [
    "V̂"
   ]
  },
  {
   "cell_type": "code",
   "execution_count": 40,
   "metadata": {
    "collapsed": false
   },
   "outputs": [
    {
     "data": {
      "text/plain": [
       "5×5 Array{Float64,2}:\n",
       " 4.0733    -2.43405   -6.49141   -3.32004    9.46003\n",
       " 1.48525    0.993891   0.843171   0.818522  -2.67298\n",
       " 2.64143   -4.12271   -0.834749   0.188809   1.23308\n",
       " 0.321035  -2.99534   -2.74504   -0.93415    5.17124\n",
       " 1.70094   -9.02418    5.45983    4.00502   -7.03786"
      ]
     },
     "execution_count": 40,
     "metadata": {},
     "output_type": "execute_result"
    }
   ],
   "source": [
    "U*Σ*V'"
   ]
  },
  {
   "cell_type": "code",
   "execution_count": 41,
   "metadata": {
    "collapsed": false
   },
   "outputs": [
    {
     "data": {
      "text/plain": [
       "5×5 Array{Float64,2}:\n",
       " 4.0733    -2.43405   -6.49141   -3.32004    9.46003\n",
       " 1.48525    0.993891   0.843171   0.818522  -2.67298\n",
       " 2.64143   -4.12271   -0.834749   0.188809   1.23308\n",
       " 0.321035  -2.99534   -2.74504   -0.93415    5.17124\n",
       " 1.70094   -9.02418    5.45983    4.00502   -7.03786"
      ]
     },
     "execution_count": 41,
     "metadata": {},
     "output_type": "execute_result"
    }
   ],
   "source": [
    "A"
   ]
  },
  {
   "cell_type": "markdown",
   "metadata": {},
   "source": [
    "## 5. Nonuniquess of U,V for repeated singular values\n",
    "\n",
    "If $A$ has repeated singular values, there's an indeterminacy in the corresponding columns of $U$ and $V$. Show this by setting $A = U \\Sigma V^*$ with repeated singular values in $\\Sigma$, then computing an SVD numerically, $A = \\hat{U} \\hat{\\Sigma} \\hat{V}^*$. The computed $\\hat{\\Sigma}$ will equal the original $\\Sigma$, but $U$ and $\\hat{U}$ will differ in the columns corresponding to the repeated singular values, and same for $V$ and $\\hat{V}$."
   ]
  },
  {
   "cell_type": "code",
   "execution_count": 42,
   "metadata": {
    "collapsed": false
   },
   "outputs": [
    {
     "data": {
      "text/plain": [
       "5-element Array{Float64,1}:\n",
       " 17.0 \n",
       " 11.3 \n",
       "  3.19\n",
       "  0.43\n",
       "  0.01"
      ]
     },
     "execution_count": 42,
     "metadata": {},
     "output_type": "execute_result"
    }
   ],
   "source": [
    "σ"
   ]
  },
  {
   "cell_type": "code",
   "execution_count": 43,
   "metadata": {
    "collapsed": false
   },
   "outputs": [
    {
     "data": {
      "text/plain": [
       "5-element Array{Float64,1}:\n",
       " 17.0 \n",
       " 11.3 \n",
       " 11.3 \n",
       "  0.43\n",
       "  0.01"
      ]
     },
     "execution_count": 43,
     "metadata": {},
     "output_type": "execute_result"
    }
   ],
   "source": [
    "σ = [17, 11.3, 11.3, 0.43, 0.01]"
   ]
  },
  {
   "cell_type": "code",
   "execution_count": 44,
   "metadata": {
    "collapsed": false
   },
   "outputs": [
    {
     "data": {
      "text/plain": [
       "5×5 Array{Float64,2}:\n",
       "  6.46661  -1.59171  -6.91907    -3.44716     8.61389\n",
       "  6.60691   2.79649  -0.0720119   0.546485   -4.48371\n",
       "  4.4113   -3.49979  -1.151       0.0948027   0.60736\n",
       " -3.68238  -4.40436  -2.02967    -0.721509    6.58661\n",
       "  1.35368  -9.1464    5.52188     4.02347    -6.91509"
      ]
     },
     "execution_count": 44,
     "metadata": {},
     "output_type": "execute_result"
    }
   ],
   "source": [
    "Σ = diagm(σ);\n",
    "A = U*Σ*V'"
   ]
  },
  {
   "cell_type": "code",
   "execution_count": 45,
   "metadata": {
    "collapsed": true
   },
   "outputs": [],
   "source": [
    "Û, σ̂, V̂ = svd(A);"
   ]
  },
  {
   "cell_type": "code",
   "execution_count": 46,
   "metadata": {
    "collapsed": false
   },
   "outputs": [
    {
     "data": {
      "text/plain": [
       "5-element Array{Float64,1}:\n",
       " 17.0 \n",
       " 11.3 \n",
       " 11.3 \n",
       "  0.43\n",
       "  0.01"
      ]
     },
     "execution_count": 46,
     "metadata": {},
     "output_type": "execute_result"
    }
   ],
   "source": [
    "σ̂"
   ]
  },
  {
   "cell_type": "code",
   "execution_count": 47,
   "metadata": {
    "collapsed": false
   },
   "outputs": [
    {
     "data": {
      "text/plain": [
       "5×5 Array{Float64,2}:\n",
       " -0.690492    0.453174    0.334346    0.32349    0.318466\n",
       "  0.143178   -0.0634647   0.715497   -0.620608   0.279969\n",
       " -0.0548915   0.440077    0.247251   -0.154919  -0.847459\n",
       " -0.309032    0.323415   -0.559277   -0.681752   0.149417\n",
       "  0.635772    0.70167    -0.0485119   0.146338   0.282285"
      ]
     },
     "execution_count": 47,
     "metadata": {},
     "output_type": "execute_result"
    }
   ],
   "source": [
    "U"
   ]
  },
  {
   "cell_type": "code",
   "execution_count": 48,
   "metadata": {
    "collapsed": false
   },
   "outputs": [
    {
     "data": {
      "text/plain": [
       "5×5 Array{Float64,2}:\n",
       "  0.690492   -0.484294   0.287425   0.32349   -0.318466\n",
       " -0.143178   -0.634458  -0.336788  -0.620608  -0.279969\n",
       "  0.0548915  -0.398964   0.309239  -0.154919   0.847459\n",
       "  0.309032    0.389423   0.515497  -0.681752  -0.149417\n",
       " -0.635772   -0.228252   0.665278   0.146338  -0.282285"
      ]
     },
     "execution_count": 48,
     "metadata": {},
     "output_type": "execute_result"
    }
   ],
   "source": [
    "Û"
   ]
  },
  {
   "cell_type": "code",
   "execution_count": 49,
   "metadata": {
    "collapsed": false
   },
   "outputs": [
    {
     "data": {
      "text/plain": [
       "5×5 Array{Float64,2}:\n",
       " -0.103689   0.372691    0.882638    0.0389598  0.264164\n",
       " -0.162492  -0.909838    0.310649   -0.102385   0.196991\n",
       "  0.527549  -0.0371144  -0.157717    0.410581   0.725853\n",
       "  0.307897   0.0915639  -0.0468813  -0.902984   0.281491\n",
       " -0.767943   0.15341    -0.31205    -0.0635828  0.534145"
      ]
     },
     "execution_count": 49,
     "metadata": {},
     "output_type": "execute_result"
    }
   ],
   "source": [
    "V"
   ]
  },
  {
   "cell_type": "code",
   "execution_count": 50,
   "metadata": {
    "collapsed": false
   },
   "outputs": [
    {
     "data": {
      "text/plain": [
       "5×5 Array{Float64,2}:\n",
       "  0.103689  -0.958096     0.0         0.0389598  -0.264164\n",
       "  0.162492   0.0677362   -0.95902    -0.102385   -0.196991\n",
       " -0.527549   0.159733     0.0271593   0.410581   -0.725853\n",
       " -0.307897   0.00757144   0.102589   -0.902984   -0.281491\n",
       "  0.767943   0.227798     0.262712   -0.0635828  -0.534145"
      ]
     },
     "execution_count": 50,
     "metadata": {},
     "output_type": "execute_result"
    }
   ],
   "source": [
    "V̂"
   ]
  },
  {
   "cell_type": "markdown",
   "metadata": {},
   "source": [
    "You can see that $\\hat{v}_2, \\hat{v}_3$ differ from $v_2, v_3$. However, \n",
    "$\\hat{v}_2 \\in \\text{span} \\, v_2, v_3$ and $\\hat{v}_3 \\in \\text{span} \\, v_2, v_3$, and vice versa."
   ]
  },
  {
   "cell_type": "code",
   "execution_count": 51,
   "metadata": {
    "collapsed": false
   },
   "outputs": [
    {
     "data": {
      "text/plain": [
       "([0.372691, -0.909838, -0.0371144, 0.0915639, 0.15341], [0.882638, 0.310649, -0.157717, -0.0468813, -0.31205])"
      ]
     },
     "execution_count": 51,
     "metadata": {},
     "output_type": "execute_result"
    }
   ],
   "source": [
    "v2, v3 = V[:,2], V[:,3]"
   ]
  },
  {
   "cell_type": "code",
   "execution_count": 52,
   "metadata": {
    "collapsed": false
   },
   "outputs": [
    {
     "data": {
      "text/plain": [
       "([-0.958096, 0.0677362, 0.159733, 0.00757144, 0.227798], [0.0, -0.95902, 0.0271593, 0.102589, 0.262712])"
      ]
     },
     "execution_count": 52,
     "metadata": {},
     "output_type": "execute_result"
    }
   ],
   "source": [
    "v̂2, v̂3 = V̂[:,2], V̂[:,3]"
   ]
  },
  {
   "cell_type": "code",
   "execution_count": 53,
   "metadata": {
    "collapsed": false
   },
   "outputs": [
    {
     "data": {
      "text/plain": [
       "5-element Array{Float64,1}:\n",
       " -0.958096  \n",
       "  0.0677362 \n",
       "  0.159733  \n",
       "  0.00757144\n",
       "  0.227798  "
      ]
     },
     "execution_count": 53,
     "metadata": {},
     "output_type": "execute_result"
    }
   ],
   "source": [
    "dot(v2,v̂2)*v2 + dot(v3,v̂2)*v3  # show v̂2 ∈ span v2, v3"
   ]
  },
  {
   "cell_type": "code",
   "execution_count": 54,
   "metadata": {
    "collapsed": false
   },
   "outputs": [
    {
     "data": {
      "text/plain": [
       "5-element Array{Float64,1}:\n",
       " -0.958096  \n",
       "  0.0677362 \n",
       "  0.159733  \n",
       "  0.00757144\n",
       "  0.227798  "
      ]
     },
     "execution_count": 54,
     "metadata": {},
     "output_type": "execute_result"
    }
   ],
   "source": [
    "v̂2"
   ]
  },
  {
   "cell_type": "code",
   "execution_count": 55,
   "metadata": {
    "collapsed": false
   },
   "outputs": [
    {
     "data": {
      "text/plain": [
       "5-element Array{Float64,1}:\n",
       "  1.11022e-16\n",
       " -0.95902    \n",
       "  0.0271593  \n",
       "  0.102589   \n",
       "  0.262712   "
      ]
     },
     "execution_count": 55,
     "metadata": {},
     "output_type": "execute_result"
    }
   ],
   "source": [
    "dot(v2,v̂3)*v2 + dot(v3,v̂3)*v3  # show v̂3 ∈ span v2, v3"
   ]
  },
  {
   "cell_type": "code",
   "execution_count": 56,
   "metadata": {
    "collapsed": false
   },
   "outputs": [
    {
     "data": {
      "text/plain": [
       "5-element Array{Float64,1}:\n",
       "  0.0      \n",
       " -0.95902  \n",
       "  0.0271593\n",
       "  0.102589 \n",
       "  0.262712 "
      ]
     },
     "execution_count": 56,
     "metadata": {},
     "output_type": "execute_result"
    }
   ],
   "source": [
    "v̂3"
   ]
  },
  {
   "cell_type": "code",
   "execution_count": 57,
   "metadata": {
    "collapsed": false
   },
   "outputs": [
    {
     "data": {
      "text/plain": [
       "5-element Array{Float64,1}:\n",
       "  0.882638 \n",
       "  0.310649 \n",
       " -0.157717 \n",
       " -0.0468813\n",
       " -0.31205  "
      ]
     },
     "execution_count": 57,
     "metadata": {},
     "output_type": "execute_result"
    }
   ],
   "source": [
    "dot(v̂2,v3)*v̂2 + dot(v̂3,v3)*v̂3"
   ]
  },
  {
   "cell_type": "code",
   "execution_count": 58,
   "metadata": {
    "collapsed": false
   },
   "outputs": [
    {
     "data": {
      "text/plain": [
       "5-element Array{Float64,1}:\n",
       "  0.882638 \n",
       "  0.310649 \n",
       " -0.157717 \n",
       " -0.0468813\n",
       " -0.31205  "
      ]
     },
     "execution_count": 58,
     "metadata": {},
     "output_type": "execute_result"
    }
   ],
   "source": [
    "v3"
   ]
  },
  {
   "cell_type": "code",
   "execution_count": 59,
   "metadata": {
    "collapsed": false
   },
   "outputs": [
    {
     "data": {
      "text/plain": [
       "5-element Array{Float64,1}:\n",
       "  0.372691 \n",
       " -0.909838 \n",
       " -0.0371144\n",
       "  0.0915639\n",
       "  0.15341  "
      ]
     },
     "execution_count": 59,
     "metadata": {},
     "output_type": "execute_result"
    }
   ],
   "source": [
    "dot(v̂2,v2)*v̂2 + dot(v̂3,v2)*v̂3"
   ]
  },
  {
   "cell_type": "code",
   "execution_count": 60,
   "metadata": {
    "collapsed": false
   },
   "outputs": [
    {
     "data": {
      "text/plain": [
       "5-element Array{Float64,1}:\n",
       "  0.372691 \n",
       " -0.909838 \n",
       " -0.0371144\n",
       "  0.0915639\n",
       "  0.15341  "
      ]
     },
     "execution_count": 60,
     "metadata": {},
     "output_type": "execute_result"
    }
   ],
   "source": [
    "v2"
   ]
  },
  {
   "cell_type": "markdown",
   "metadata": {},
   "source": [
    "## Nonuniqueness of U,V for complex A"
   ]
  },
  {
   "cell_type": "code",
   "execution_count": 61,
   "metadata": {
    "collapsed": false
   },
   "outputs": [
    {
     "data": {
      "text/plain": [
       "5-element Array{Float64,1}:\n",
       " 17.0 \n",
       " 11.3 \n",
       " 11.3 \n",
       "  0.43\n",
       "  0.01"
      ]
     },
     "execution_count": 61,
     "metadata": {},
     "output_type": "execute_result"
    }
   ],
   "source": [
    "σ"
   ]
  },
  {
   "cell_type": "code",
   "execution_count": 62,
   "metadata": {
    "collapsed": false
   },
   "outputs": [
    {
     "data": {
      "text/plain": [
       "3.19"
      ]
     },
     "execution_count": 62,
     "metadata": {},
     "output_type": "execute_result"
    }
   ],
   "source": [
    "σ[3] = 3.19"
   ]
  },
  {
   "cell_type": "code",
   "execution_count": 63,
   "metadata": {
    "collapsed": false
   },
   "outputs": [
    {
     "data": {
      "text/plain": [
       "5-element Array{Float64,1}:\n",
       " 17.0 \n",
       " 11.3 \n",
       "  3.19\n",
       "  0.43\n",
       "  0.01"
      ]
     },
     "execution_count": 63,
     "metadata": {},
     "output_type": "execute_result"
    }
   ],
   "source": [
    "σ"
   ]
  },
  {
   "cell_type": "code",
   "execution_count": 64,
   "metadata": {
    "collapsed": false
   },
   "outputs": [
    {
     "data": {
      "text/plain": [
       "5×5 Array{Complex{Float64},2}:\n",
       "  -0.459226-0.125829im   0.0113226+0.669436im   …   0.251565-0.264035im\n",
       "   0.459401-0.0576542im  -0.100011+0.124491im       0.226278-0.17462im \n",
       " -0.0014611+0.464442im   -0.112143+0.309783im       0.430885+0.458204im\n",
       "   0.223216-0.140363im   -0.404824+0.11425im       -0.188684-0.193959im\n",
       "  -0.139178+0.50428im    -0.485022+0.0741886im     -0.224131-0.515982im"
      ]
     },
     "execution_count": 64,
     "metadata": {},
     "output_type": "execute_result"
    }
   ],
   "source": [
    "U,tmp = qr(randn(5,5) + randn(5,5)*im);\n",
    "U"
   ]
  },
  {
   "cell_type": "code",
   "execution_count": 65,
   "metadata": {
    "collapsed": false
   },
   "outputs": [
    {
     "data": {
      "text/plain": [
       "5×5 Array{Complex{Float64},2}:\n",
       " -0.0379374-0.41755im      -0.057211+0.0225577im   …   0.371218-0.558642im \n",
       " -0.0252808+0.0999782im     -0.15601+0.084064im       -0.511823+0.345654im \n",
       "  -0.455819+0.399089im     -0.158125-0.298927im        0.183775-0.013631im \n",
       "  -0.620746+0.0265203im      0.13391-0.00266107im       0.23944+0.238381im \n",
       "  -0.204964+0.135997im   -0.00601781+0.912401im        0.112746-0.0885936im"
      ]
     },
     "execution_count": 65,
     "metadata": {},
     "output_type": "execute_result"
    }
   ],
   "source": [
    "V,tmp = qr(randn(5,5) + randn(5,5)*im);\n",
    "V"
   ]
  },
  {
   "cell_type": "code",
   "execution_count": 66,
   "metadata": {
    "collapsed": false
   },
   "outputs": [
    {
     "data": {
      "text/plain": [
       "5×5 Array{Complex{Float64},2}:\n",
       "   1.2795-3.44776im   0.502616-0.0228307im  …      8.13179+1.27127im \n",
       " 0.684829+3.80117im    1.13631-0.226315im        -0.524233+0.360524im\n",
       " -2.85788-0.812658im   1.58632-1.3408im            4.37043-0.41418im \n",
       "  1.02628+1.53191im   0.203358-0.212375im      -0.00938975+4.14161im \n",
       " -3.11599-1.31102im    1.90323+0.154339im          2.54194+3.58427im "
      ]
     },
     "execution_count": 66,
     "metadata": {},
     "output_type": "execute_result"
    }
   ],
   "source": [
    "σ = [17, 11.3, 3.19, 0.43, 0.01]\n",
    "Σ = diagm(σ)\n",
    "A = U*Σ*V'"
   ]
  },
  {
   "cell_type": "code",
   "execution_count": 67,
   "metadata": {
    "collapsed": false
   },
   "outputs": [],
   "source": [
    "Û, σ̂, V̂ = svd(A);"
   ]
  },
  {
   "cell_type": "code",
   "execution_count": 68,
   "metadata": {
    "collapsed": false
   },
   "outputs": [
    {
     "data": {
      "text/plain": [
       "5-element Array{Float64,1}:\n",
       " 17.0 \n",
       " 11.3 \n",
       "  3.19\n",
       "  0.43\n",
       "  0.01"
      ]
     },
     "execution_count": 68,
     "metadata": {},
     "output_type": "execute_result"
    }
   ],
   "source": [
    "σ"
   ]
  },
  {
   "cell_type": "code",
   "execution_count": 69,
   "metadata": {
    "collapsed": false
   },
   "outputs": [
    {
     "data": {
      "text/plain": [
       "5-element Array{Float64,1}:\n",
       " 17.0 \n",
       " 11.3 \n",
       "  3.19\n",
       "  0.43\n",
       "  0.01"
      ]
     },
     "execution_count": 69,
     "metadata": {},
     "output_type": "execute_result"
    }
   ],
   "source": [
    "σ̂"
   ]
  },
  {
   "cell_type": "code",
   "execution_count": 70,
   "metadata": {
    "collapsed": false
   },
   "outputs": [
    {
     "data": {
      "text/plain": [
       "5×5 Array{Complex{Float64},2}:\n",
       "  -0.459226-0.125829im   0.0113226+0.669436im   …   0.251565-0.264035im\n",
       "   0.459401-0.0576542im  -0.100011+0.124491im       0.226278-0.17462im \n",
       " -0.0014611+0.464442im   -0.112143+0.309783im       0.430885+0.458204im\n",
       "   0.223216-0.140363im   -0.404824+0.11425im       -0.188684-0.193959im\n",
       "  -0.139178+0.50428im    -0.485022+0.0741886im     -0.224131-0.515982im"
      ]
     },
     "execution_count": 70,
     "metadata": {},
     "output_type": "execute_result"
    }
   ],
   "source": [
    "U"
   ]
  },
  {
   "cell_type": "code",
   "execution_count": 71,
   "metadata": {
    "collapsed": false
   },
   "outputs": [
    {
     "data": {
      "text/plain": [
       "5×5 Array{Complex{Float64},2}:\n",
       " -0.166866+0.445957im    -0.23502+0.626928im   …  -0.359139-0.0633936im\n",
       " -0.015849-0.462734im   -0.138704+0.0791289im     -0.270672-0.0918194im\n",
       "  0.462405+0.0434799im  -0.217957+0.247056im       0.143157-0.612469im \n",
       "  -0.11959-0.235001im   -0.418514-0.0422053im     -0.057118+0.264499im \n",
       "  0.489618+0.184237im   -0.478427-0.108892im      -0.305707+0.472245im "
      ]
     },
     "execution_count": 71,
     "metadata": {},
     "output_type": "execute_result"
    }
   ],
   "source": [
    "Û"
   ]
  },
  {
   "cell_type": "code",
   "execution_count": 72,
   "metadata": {
    "collapsed": false
   },
   "outputs": [
    {
     "data": {
      "text/plain": [
       "5×5 Array{Complex{Float64},2}:\n",
       " -0.0379374-0.41755im      -0.057211+0.0225577im   …   0.371218-0.558642im \n",
       " -0.0252808+0.0999782im     -0.15601+0.084064im       -0.511823+0.345654im \n",
       "  -0.455819+0.399089im     -0.158125-0.298927im        0.183775-0.013631im \n",
       "  -0.620746+0.0265203im      0.13391-0.00266107im       0.23944+0.238381im \n",
       "  -0.204964+0.135997im   -0.00601781+0.912401im        0.112746-0.0885936im"
      ]
     },
     "execution_count": 72,
     "metadata": {},
     "output_type": "execute_result"
    }
   ],
   "source": [
    "V"
   ]
  },
  {
   "cell_type": "code",
   "execution_count": 73,
   "metadata": {
    "collapsed": false
   },
   "outputs": [
    {
     "data": {
      "text/plain": [
       "5×5 Array{Complex{Float64},2}:\n",
       "   -0.41927-0.0im        -0.0614976-0.0im        …  -0.670734-0.0im      \n",
       "  0.0972805+0.0342236im   -0.175971+0.0209791im      0.571158+0.234986im \n",
       "   0.356207+0.490061im   -0.0374546-0.336092im      -0.113063-0.145519im \n",
       " -0.0297564+0.6206im       0.125552+0.0466436im     0.0660251-0.331358im \n",
       "   0.116893+0.216429im    -0.340273+0.846597im      -0.136187-0.0448722im"
      ]
     },
     "execution_count": 73,
     "metadata": {},
     "output_type": "execute_result"
    }
   ],
   "source": [
    "V̂"
   ]
  },
  {
   "cell_type": "code",
   "execution_count": 74,
   "metadata": {
    "collapsed": false
   },
   "outputs": [
    {
     "data": {
      "text/plain": [
       "5-element Array{Complex{Float64},1}:\n",
       " 0.0904844+0.995898im\n",
       " 0.0904844+0.995898im\n",
       " 0.0904844+0.995898im\n",
       " 0.0904844+0.995898im\n",
       " 0.0904844+0.995898im"
      ]
     },
     "execution_count": 74,
     "metadata": {},
     "output_type": "execute_result"
    }
   ],
   "source": [
    "V[:,1]./V̂[:,1]"
   ]
  },
  {
   "cell_type": "code",
   "execution_count": 75,
   "metadata": {
    "collapsed": false
   },
   "outputs": [
    {
     "data": {
      "text/plain": [
       "5-element Array{Complex{Float64},1}:\n",
       " 0.0904844+0.995898im\n",
       " 0.0904844+0.995898im\n",
       " 0.0904844+0.995898im\n",
       " 0.0904844+0.995898im\n",
       " 0.0904844+0.995898im"
      ]
     },
     "execution_count": 75,
     "metadata": {},
     "output_type": "execute_result"
    }
   ],
   "source": [
    "U[:,1]./Û[:,1]"
   ]
  },
  {
   "cell_type": "code",
   "execution_count": 76,
   "metadata": {
    "collapsed": false
   },
   "outputs": [
    {
     "data": {
      "text/plain": [
       "1.726864528966473e-15"
      ]
     },
     "execution_count": 76,
     "metadata": {},
     "output_type": "execute_result"
    }
   ],
   "source": [
    "norm(V̂'*V̂ - I)"
   ]
  },
  {
   "cell_type": "markdown",
   "metadata": {},
   "source": [
    "## Reduced versus full SVD"
   ]
  },
  {
   "cell_type": "code",
   "execution_count": 77,
   "metadata": {
    "collapsed": false
   },
   "outputs": [],
   "source": [
    "U,tmp = qr(randn(5,5));\n",
    "V,tmp = qr(randn(5,5));\n",
    "σ = [17, 11.3, 3.19, 0, 0];\n",
    "Σ = diagm(σ);\n",
    "A = U*Σ*V';"
   ]
  },
  {
   "cell_type": "code",
   "execution_count": 78,
   "metadata": {
    "collapsed": false
   },
   "outputs": [],
   "source": [
    "Û, σ̂, V̂ = svd(A);"
   ]
  },
  {
   "cell_type": "code",
   "execution_count": 79,
   "metadata": {
    "collapsed": false
   },
   "outputs": [
    {
     "data": {
      "text/plain": [
       "5×5 Array{Float64,2}:\n",
       " -0.383952   0.557217   0.0886687   0.315196   -0.659454 \n",
       " -0.556828  -0.417318  -0.432639    0.54607     0.174412 \n",
       " -0.269233  -0.379359  -0.313138   -0.647877   -0.515558 \n",
       " -0.628399   0.394517   0.0991195  -0.423661    0.510057 \n",
       "  0.274138   0.464541  -0.834914   -0.0567976   0.0935034"
      ]
     },
     "execution_count": 79,
     "metadata": {},
     "output_type": "execute_result"
    }
   ],
   "source": [
    "U"
   ]
  },
  {
   "cell_type": "code",
   "execution_count": 80,
   "metadata": {
    "collapsed": false
   },
   "outputs": [
    {
     "data": {
      "text/plain": [
       "5×5 Array{Float64,2}:\n",
       " -0.383952   0.557217   0.0886687   0.317946   -0.658132 \n",
       " -0.556828  -0.417318  -0.432639    0.545337    0.17669  \n",
       " -0.269233  -0.379359  -0.313138   -0.64572    -0.518258 \n",
       " -0.628399   0.394517   0.0991195  -0.425786    0.508285 \n",
       "  0.274138   0.464541  -0.834914   -0.0571873   0.0932655"
      ]
     },
     "execution_count": 80,
     "metadata": {},
     "output_type": "execute_result"
    }
   ],
   "source": [
    "Û"
   ]
  },
  {
   "cell_type": "code",
   "execution_count": 81,
   "metadata": {
    "collapsed": false
   },
   "outputs": [
    {
     "data": {
      "text/plain": [
       "5×5 Array{Float64,2}:\n",
       " 17.0   0.0  0.0   0.0         0.0        \n",
       "  0.0  11.3  0.0   0.0         0.0        \n",
       "  0.0   0.0  3.19  0.0         0.0        \n",
       "  0.0   0.0  0.0   7.3951e-16  0.0        \n",
       "  0.0   0.0  0.0   0.0         1.85036e-16"
      ]
     },
     "execution_count": 81,
     "metadata": {},
     "output_type": "execute_result"
    }
   ],
   "source": [
    "Σ̂ = diagm(σ̂)"
   ]
  },
  {
   "cell_type": "markdown",
   "metadata": {},
   "source": [
    "#### Construct a reduced SVD by truncating U, $\\Sigma$, V"
   ]
  },
  {
   "cell_type": "code",
   "execution_count": 82,
   "metadata": {
    "collapsed": false
   },
   "outputs": [
    {
     "data": {
      "text/plain": [
       "5×3 Array{Float64,2}:\n",
       " -0.383952   0.557217   0.0886687\n",
       " -0.556828  -0.417318  -0.432639 \n",
       " -0.269233  -0.379359  -0.313138 \n",
       " -0.628399   0.394517   0.0991195\n",
       "  0.274138   0.464541  -0.834914 "
      ]
     },
     "execution_count": 82,
     "metadata": {},
     "output_type": "execute_result"
    }
   ],
   "source": [
    "Û = U[:,1:3]"
   ]
  },
  {
   "cell_type": "code",
   "execution_count": 83,
   "metadata": {
    "collapsed": false
   },
   "outputs": [
    {
     "data": {
      "text/plain": [
       "5×3 Array{Float64,2}:\n",
       " -0.877633   0.36405    0.187099\n",
       " -0.274972  -0.462847  -0.435618\n",
       " -0.261278  -0.651321  -0.209894\n",
       "  0.224759  -0.245556   0.520985\n",
       " -0.188062  -0.41076    0.678049"
      ]
     },
     "execution_count": 83,
     "metadata": {},
     "output_type": "execute_result"
    }
   ],
   "source": [
    "V̂ = V[:,1:3]"
   ]
  },
  {
   "cell_type": "code",
   "execution_count": 84,
   "metadata": {
    "collapsed": false
   },
   "outputs": [
    {
     "data": {
      "text/plain": [
       "3-element Array{Float64,1}:\n",
       " 17.0 \n",
       " 11.3 \n",
       "  3.19"
      ]
     },
     "execution_count": 84,
     "metadata": {},
     "output_type": "execute_result"
    }
   ],
   "source": [
    "σ̂  = σ[1:3]"
   ]
  },
  {
   "cell_type": "code",
   "execution_count": 85,
   "metadata": {
    "collapsed": false
   },
   "outputs": [
    {
     "data": {
      "text/plain": [
       "3×3 Array{Float64,2}:\n",
       " 17.0   0.0  0.0 \n",
       "  0.0  11.3  0.0 \n",
       "  0.0   0.0  3.19"
      ]
     },
     "execution_count": 85,
     "metadata": {},
     "output_type": "execute_result"
    }
   ],
   "source": [
    "Σ̂  = Σ[1:3,1:3]"
   ]
  },
  {
   "cell_type": "code",
   "execution_count": 86,
   "metadata": {
    "collapsed": false
   },
   "outputs": [
    {
     "data": {
      "text/plain": [
       "5×5 Array{Float64,2}:\n",
       " -0.383952   0.557217   0.0886687   0.315196   -0.659454 \n",
       " -0.556828  -0.417318  -0.432639    0.54607     0.174412 \n",
       " -0.269233  -0.379359  -0.313138   -0.647877   -0.515558 \n",
       " -0.628399   0.394517   0.0991195  -0.423661    0.510057 \n",
       "  0.274138   0.464541  -0.834914   -0.0567976   0.0935034"
      ]
     },
     "execution_count": 86,
     "metadata": {},
     "output_type": "execute_result"
    }
   ],
   "source": [
    "U"
   ]
  },
  {
   "cell_type": "code",
   "execution_count": 87,
   "metadata": {
    "collapsed": false
   },
   "outputs": [
    {
     "data": {
      "text/plain": [
       "5×3 Array{Float64,2}:\n",
       " -0.383952   0.557217   0.0886687\n",
       " -0.556828  -0.417318  -0.432639 \n",
       " -0.269233  -0.379359  -0.313138 \n",
       " -0.628399   0.394517   0.0991195\n",
       "  0.274138   0.464541  -0.834914 "
      ]
     },
     "execution_count": 87,
     "metadata": {},
     "output_type": "execute_result"
    }
   ],
   "source": [
    "Û"
   ]
  },
  {
   "cell_type": "code",
   "execution_count": 88,
   "metadata": {
    "collapsed": false
   },
   "outputs": [
    {
     "data": {
      "text/plain": [
       "5×5 Array{Float64,2}:\n",
       " -0.877633   0.36405    0.187099  -0.181672   0.170927\n",
       " -0.274972  -0.462847  -0.435618  -0.519089  -0.500945\n",
       " -0.261278  -0.651321  -0.209894   0.310753   0.605717\n",
       "  0.224759  -0.245556   0.520985  -0.693777   0.36937 \n",
       " -0.188062  -0.41076    0.678049   0.345902  -0.465307"
      ]
     },
     "execution_count": 88,
     "metadata": {},
     "output_type": "execute_result"
    }
   ],
   "source": [
    "V"
   ]
  },
  {
   "cell_type": "code",
   "execution_count": 89,
   "metadata": {
    "collapsed": false
   },
   "outputs": [
    {
     "data": {
      "text/plain": [
       "5×3 Array{Float64,2}:\n",
       " -0.877633   0.36405    0.187099\n",
       " -0.274972  -0.462847  -0.435618\n",
       " -0.261278  -0.651321  -0.209894\n",
       "  0.224759  -0.245556   0.520985\n",
       " -0.188062  -0.41076    0.678049"
      ]
     },
     "execution_count": 89,
     "metadata": {},
     "output_type": "execute_result"
    }
   ],
   "source": [
    "V̂"
   ]
  },
  {
   "cell_type": "code",
   "execution_count": 90,
   "metadata": {
    "collapsed": false
   },
   "outputs": [
    {
     "data": {
      "text/plain": [
       "5×5 Array{Float64,2}:\n",
       " 17.0   0.0  0.0   0.0  0.0\n",
       "  0.0  11.3  0.0   0.0  0.0\n",
       "  0.0   0.0  3.19  0.0  0.0\n",
       "  0.0   0.0  0.0   0.0  0.0\n",
       "  0.0   0.0  0.0   0.0  0.0"
      ]
     },
     "execution_count": 90,
     "metadata": {},
     "output_type": "execute_result"
    }
   ],
   "source": [
    "Σ"
   ]
  },
  {
   "cell_type": "code",
   "execution_count": 91,
   "metadata": {
    "collapsed": false
   },
   "outputs": [
    {
     "data": {
      "text/plain": [
       "3×3 Array{Float64,2}:\n",
       " 17.0   0.0  0.0 \n",
       "  0.0  11.3  0.0 \n",
       "  0.0   0.0  3.19"
      ]
     },
     "execution_count": 91,
     "metadata": {},
     "output_type": "execute_result"
    }
   ],
   "source": [
    "Σ̂"
   ]
  },
  {
   "cell_type": "code",
   "execution_count": 92,
   "metadata": {
    "collapsed": false
   },
   "outputs": [
    {
     "data": {
      "text/plain": [
       "5×5 Array{Float64,2}:\n",
       "  8.07366  -1.24277   -2.45503   -2.86584   -1.16706 \n",
       "  6.33278   5.38675    5.83438   -1.68865    2.78144 \n",
       "  2.26941   3.67779    4.19758   -0.496495   1.94427 \n",
       " 11.0577    0.736329  -0.178808  -3.33102    0.392235\n",
       " -2.67738  -2.55088   -4.07761   -1.62912   -4.83854 "
      ]
     },
     "execution_count": 92,
     "metadata": {},
     "output_type": "execute_result"
    }
   ],
   "source": [
    "Û*Σ̂*V̂'"
   ]
  },
  {
   "cell_type": "code",
   "execution_count": 93,
   "metadata": {
    "collapsed": false
   },
   "outputs": [
    {
     "data": {
      "text/plain": [
       "5×5 Array{Float64,2}:\n",
       "  8.07366  -1.24277   -2.45503   -2.86584   -1.16706 \n",
       "  6.33278   5.38675    5.83438   -1.68865    2.78144 \n",
       "  2.26941   3.67779    4.19758   -0.496495   1.94427 \n",
       " 11.0577    0.736329  -0.178808  -3.33102    0.392235\n",
       " -2.67738  -2.55088   -4.07761   -1.62912   -4.83854 "
      ]
     },
     "execution_count": 93,
     "metadata": {},
     "output_type": "execute_result"
    }
   ],
   "source": [
    "A"
   ]
  },
  {
   "cell_type": "code",
   "execution_count": 94,
   "metadata": {
    "collapsed": false
   },
   "outputs": [
    {
     "data": {
      "text/plain": [
       "5×5 Array{Float64,2}:\n",
       " -0.383952   0.557217   0.0886687   0.315196   -0.659454 \n",
       " -0.556828  -0.417318  -0.432639    0.54607     0.174412 \n",
       " -0.269233  -0.379359  -0.313138   -0.647877   -0.515558 \n",
       " -0.628399   0.394517   0.0991195  -0.423661    0.510057 \n",
       "  0.274138   0.464541  -0.834914   -0.0567976   0.0935034"
      ]
     },
     "execution_count": 94,
     "metadata": {},
     "output_type": "execute_result"
    }
   ],
   "source": [
    "U"
   ]
  },
  {
   "cell_type": "code",
   "execution_count": 95,
   "metadata": {
    "collapsed": false
   },
   "outputs": [
    {
     "data": {
      "text/plain": [
       "5×3 Array{Float64,2}:\n",
       " -0.383952   0.557217   0.0886687\n",
       " -0.556828  -0.417318  -0.432639 \n",
       " -0.269233  -0.379359  -0.313138 \n",
       " -0.628399   0.394517   0.0991195\n",
       "  0.274138   0.464541  -0.834914 "
      ]
     },
     "execution_count": 95,
     "metadata": {},
     "output_type": "execute_result"
    }
   ],
   "source": [
    "Û"
   ]
  },
  {
   "cell_type": "code",
   "execution_count": null,
   "metadata": {
    "collapsed": true
   },
   "outputs": [],
   "source": []
  }
 ],
 "metadata": {
  "kernelspec": {
   "display_name": "Julia 0.6.0",
   "language": "julia",
   "name": "julia-0.6"
  },
  "language_info": {
   "file_extension": ".jl",
   "mimetype": "application/julia",
   "name": "julia",
   "version": "0.6.0"
  }
 },
 "nbformat": 4,
 "nbformat_minor": 0
}
