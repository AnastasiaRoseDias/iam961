{
 "cells": [
  {
   "cell_type": "markdown",
   "metadata": {},
   "source": [
    "# IAM 961 HW3: QR decomp\n",
    "\n",
    "Due Sunday Oct 13, 2022. Some basic Julia syntax tips are provided at the end of this notebook.\n",
    "\n",
    "## Problem 1.\n",
    "Write the following Julia functions for computing the QR decomposition of a matrix\n",
    "  + `qrcgs(A)` via Classical Gram-Schmidt orthogonalization,\n",
    "  + `qrmgs(A)` via Modified Gram-Schmidt orthogonalization, and\n",
    "  + `qrhouse(A)` via Householder triangularization.\n",
    "  \n",
    "Each function should return the two matrices Q and R. \n",
    "\n",
    "You can assume that A is real, square, and full rank. If you like you can generalize in the following ways\n",
    "  + to handle nonsquare matrices,\n",
    "  + to return either the full or reduced QR for nonsquare A, depending on a flag (a boolean function argument),\n",
    "  + to handle rank-deficient matrices, or nearly rank-deficient matrics,\n",
    "  + to handle both real and complex matrices, or\n",
    "  + to work with any floating-point numeric type.\n",
    "  \n",
    "I recommend you start with the simplest case: A is real, square, and full rank. \n",
    "Then, if you want expand the algorithm's capabilities one by one for optional problems 8-11. \n",
    "Test your algorithms on sample problems as you develop them. \n",
    "When you get errors, read the error messages for clues on what's gone wrong."
   ]
  },
  {
   "cell_type": "code",
   "execution_count": null,
   "metadata": {},
   "outputs": [],
   "source": [
    "using LinearAlgebra\n",
    "\n",
    "function qrcgs(A)\n",
    "    # fill in with CGS algorithm\n",
    "    \n",
    "    Q, R # return matrices Q and R\n",
    "end\n",
    "\n",
    "function qrmgs(A)\n",
    "    # fill in with MGS algorithm\n",
    "    \n",
    "    Q,R\n",
    "end\n",
    "\n",
    "function qrhouse(A)\n",
    "    # fill in Householder algorithm\n",
    "    \n",
    "    Q,R\n",
    "end  "
   ]
  },
  {
   "cell_type": "markdown",
   "metadata": {},
   "source": [
    "## Problem 2.\n",
    "Test that your QR algorithms work correctly on a fairly small and well-conditioned matrix (e.g. a 5 x 5 matrix with normally distributed elements, `A = randn(5,5)`).  You should test that $Q$ is unitary and that $QR \\approx A$. Verify to your own satisfaction that $R$ is upper-triangular. Make these tests as compact and readable as you can!"
   ]
  },
  {
   "cell_type": "code",
   "execution_count": null,
   "metadata": {
    "scrolled": false
   },
   "outputs": [],
   "source": []
  },
  {
   "cell_type": "markdown",
   "metadata": {},
   "source": [
    "## Problem 3. \n",
    "Write a `backsub(R,b)` function that returns the solution $x$ of the upper-triangular system $Rx=b$ by backsubstitution. You can assume that $R$ is square and nonsingular. Test your backsubstitution function by solving an $Ax=b$ problem with your 5 x 5 $A$ matrix, one of your QR algorithms, and a known solution $x$. \n"
   ]
  },
  {
   "cell_type": "code",
   "execution_count": null,
   "metadata": {},
   "outputs": [],
   "source": [
    "function backsub(R, b)\n",
    "    # fill in\n",
    "end\n"
   ]
  },
  {
   "cell_type": "markdown",
   "metadata": {},
   "source": [
    "## Problem 4.\n",
    "\n",
    "Here's a function `A = randommatrix(m, n, kappa, T)` function that returns an m x n\n",
    "random matrix with elements of type T, condition number κ, and exponentially graded\n",
    "singular values (e.g.. $\\sigma_1/\\sigma_m = \\kappa$ and $\\sigma_{j+1}/\\sigma_{j} = \\text{const}$\n",
    "for m x m square matrices). \n",
    "\n",
    "The element type defaults to `Float64`. Other choices\n",
    "include `Float16, Float32, BigFloat, Complex{Float16}, Complex{Float32}, ...`.\n",
    "\n"
   ]
  },
  {
   "cell_type": "code",
   "execution_count": null,
   "metadata": {},
   "outputs": [],
   "source": [
    "using LinearAlgebra\n",
    "\n",
    "function randommatrix(m, n, κ, T=Float64)\n",
    "\n",
    "    # construct singular value spectrum \n",
    "    p = min(m,n)\n",
    "    c = κ^(-one(T)/(p-1))   # auxiliary variable for singular values\n",
    "    σ = c.^(0:p-1)          # singular values log-scaled between 1 and 1/κ\n",
    "    Σ = diagm(m,n,σ)   \n",
    "\n",
    "    # construct randomly oriented unitary U,V of element type T    \n",
    "    (U,tmp) = qr(randn(T,m,m)) # set U to random unitary matrix\n",
    "    (V,tmp) = qr(randn(T,n,n)) # set V to random unitary matrix\n",
    "    \n",
    "    U*Σ*V'\n",
    "end"
   ]
  },
  {
   "cell_type": "markdown",
   "metadata": {},
   "source": [
    "Test that the function works correctly by constructing a small matrix `A` with κ=10^8\n",
    "and then computing its condition number with `cond(A)`. "
   ]
  },
  {
   "cell_type": "code",
   "execution_count": null,
   "metadata": {},
   "outputs": [],
   "source": [
    "A = "
   ]
  },
  {
   "cell_type": "code",
   "execution_count": null,
   "metadata": {},
   "outputs": [],
   "source": [
    "using LinearAlgebra\n",
    "#using GenericSVD # you'll need this to compute condition numbers of BigFloat matrices\n",
    "\n",
    "cond(A)"
   ]
  },
  {
   "cell_type": "markdown",
   "metadata": {},
   "source": [
    "## Problem 5.\n",
    "Solve a large number of random $Ax=b$ problems using your QR decompositions\n",
    "and `randommatrix` and `backsubs` functions, and produce a scatter \n",
    "plot of the normalized solution error  $\\|\\hat{x}-x\\|/\\|x\\|$ versus $\\kappa$. \n",
    "Plot data points from CGS in blue, MGS in red, and Householder in green.\n",
    "\n",
    "Specifically: Construct a random $A$ matrix with $\\kappa = 10^n$ where $n$ is \n",
    "a random real-valued number uniformly distributed between 0 and 18. \n",
    "Select a random $x$ vector with `x = randn(m,1)`, and then set $b = Ax$. For each of\n",
    "the CGS, MGS, and Householder QR algorithms, compute the numerical solution $\\hat{x}$ \n",
    "of $Ax=b$ via QR and then plot $\\|\\hat{x}-x\\|/\\|x\\|$ versus $\\kappa$ using log-log axes\n",
    "and the color scheme specified above.  Do this for a hundred or so random $Ax=b$ problems and \n",
    "for a fairly small value of $m$ (perhaps 10 or 20). "
   ]
  },
  {
   "cell_type": "code",
   "execution_count": null,
   "metadata": {},
   "outputs": [],
   "source": []
  },
  {
   "cell_type": "code",
   "execution_count": null,
   "metadata": {},
   "outputs": [],
   "source": []
  },
  {
   "cell_type": "markdown",
   "metadata": {},
   "source": [
    "## Problem 6 \n",
    "Comment on your results. What can you explain about the scatter plots \n",
    "based on the algorithms and their implementation in finite-precision arithmetic?\n",
    "Or, contrariwise, what can you say about the algorithms based on the scatter \n",
    "plots? "
   ]
  },
  {
   "cell_type": "code",
   "execution_count": null,
   "metadata": {},
   "outputs": [],
   "source": []
  },
  {
   "cell_type": "markdown",
   "metadata": {},
   "source": [
    "## Problem 7 (optional)\n",
    "If you are curious, repeat problem 5 for a different value of $m$ \n",
    "(perhaps $m=100$). Does the dimensionality of the matrix (the value of $m$) \n",
    "make any difference?"
   ]
  },
  {
   "cell_type": "code",
   "execution_count": null,
   "metadata": {},
   "outputs": [],
   "source": []
  },
  {
   "cell_type": "markdown",
   "metadata": {},
   "source": [
    "## Problem 8 (optional)\n",
    "\n",
    "You probably wrote your QR and backsolve algorithms assuming that matrix $A$ is square. Revise your functions to work on nonsquare $m \\times n$ matrices as well."
   ]
  },
  {
   "cell_type": "code",
   "execution_count": null,
   "metadata": {},
   "outputs": [],
   "source": []
  },
  {
   "cell_type": "markdown",
   "metadata": {},
   "source": [
    "## Problem 9 (optional)\n",
    "\n",
    "The QR decompositon algorithms break down when the matrix $A$ is singular. Revise your CGS, MGS, and Householder QR algorithms to handle singular matrices gracefully. Show revised algorithms work well on singular or nearly singular matrices."
   ]
  },
  {
   "cell_type": "code",
   "execution_count": null,
   "metadata": {},
   "outputs": [],
   "source": []
  },
  {
   "cell_type": "markdown",
   "metadata": {},
   "source": [
    "## Problem 10 (optional)\n",
    "\n",
    "As shown in the lecture demo, the breakdown of CGS and MGS algorithms as $A$ becomes singular is a loss of orthogonality in the matrix $Q$. Can you think of any way to revise CGS or MGS to improve the orthogonality of $Q$, perhaps by rerunning CGS or MGS on the not-quite-orthogonal $Q$ matrix from a first pass of the algorithm? Or by recalculating each $q_j$ from the first-pass approximate $q_j$ in each pass of the ``for j = 1 to m`` loop? Does any such method work? Why or why not?"
   ]
  },
  {
   "cell_type": "code",
   "execution_count": null,
   "metadata": {},
   "outputs": [],
   "source": []
  },
  {
   "cell_type": "markdown",
   "metadata": {},
   "source": [
    "## Problem 11 (optional)\n",
    "\n",
    "Julia uses 64-bit floating-point numbers by default. E.g. "
   ]
  },
  {
   "cell_type": "code",
   "execution_count": null,
   "metadata": {},
   "outputs": [],
   "source": [
    "A = randn(3,3)"
   ]
  },
  {
   "cell_type": "markdown",
   "metadata": {},
   "source": [
    "However, you can specify 16-bit, 32-bit, and arbitrary-precision floating-point numbers if you want, e.g."
   ]
  },
  {
   "cell_type": "code",
   "execution_count": null,
   "metadata": {},
   "outputs": [],
   "source": [
    "@show Float16(pi)\n",
    "@show Float32(pi)\n",
    "@show Float64(pi)\n",
    "@show BigFloat(pi)\n",
    "A = BigFloat(1.0)*randn(3,3)"
   ]
  },
  {
   "cell_type": "code",
   "execution_count": null,
   "metadata": {},
   "outputs": [],
   "source": [
    "setprecision(1024)  # 1024 bits\n",
    "BigFloat(pi)"
   ]
  },
  {
   "cell_type": "markdown",
   "metadata": {},
   "source": [
    "For optional problem 10, revise your CGS, MGS, Householder, and backsolve functions to work equally well on matrices of all floating-point number types. To get you started, here's how to revise your function signatures to access and use type information from function arguments.\n"
   ]
  },
  {
   "cell_type": "code",
   "execution_count": null,
   "metadata": {},
   "outputs": [],
   "source": [
    "# Function f takes an m x n matrix as input and returns \n",
    "# a zero matrix of same size and numeric type\n",
    "\n",
    "function f(A::Matrix{T}) where T\n",
    "    (m,n) = size(A)\n",
    "    Z = zeros(T, m,n)\n",
    "end\n",
    "\n",
    "@show f(ones(Float16,1,2))\n",
    "@show f(ones(Float32,1,2))\n",
    "@show f(ones(Float64,1,2))\n",
    "@show f(ones(BigFloat,1,2))\n",
    "@show f(ones(Complex{Float32},1,2));\n",
    "@show f(ones(Complex{BigFloat},1,2));"
   ]
  },
  {
   "cell_type": "markdown",
   "metadata": {},
   "source": [
    "## Julia syntax tips"
   ]
  },
  {
   "cell_type": "code",
   "execution_count": 1,
   "metadata": {},
   "outputs": [],
   "source": [
    "using LinearAlgebra"
   ]
  },
  {
   "cell_type": "code",
   "execution_count": 2,
   "metadata": {},
   "outputs": [
    {
     "name": "stdout",
     "output_type": "stream",
     "text": [
      "A * x = [-4.051533098870963, 1.1840678650351246, -0.60606020903652, 2.8215828335824433]\n",
      "matvecmult(A, x) = [-4.051533098870963, 1.1840678650351246, -0.60606020903652, 2.8215828335824433]\n"
     ]
    }
   ],
   "source": [
    "# a basic function in Julia illustrating inputs, outputs\n",
    "# error-checking, string interpolation, for loop, etc. \n",
    "\n",
    "\"\"\"\n",
    "    `matvecmult(A,x)`\n",
    "\n",
    "Compute the matrix-vector product `A*x`. Usage: `y = matvecmult(A,x)`.\n",
    "\"\"\"\n",
    "function matvecmult(A,x)\n",
    "    m,n = size(A)\n",
    "    \n",
    "    if length(x) != m\n",
    "        error(\"vector dim = $(length(x)) != $(m) = col dim A\")\n",
    "    end\n",
    "    \n",
    "    y = zeros(m)\n",
    "    for j=1:n\n",
    "        for i=1:m\n",
    "            y[i] += A[i,j]*x[j]\n",
    "        end\n",
    "    end\n",
    "    y\n",
    "end\n",
    "\n",
    "m = 4\n",
    "A = randn(m,m)\n",
    "x = randn(m)\n",
    "\n",
    "@show A*x\n",
    "@show matvecmult(A,x);"
   ]
  },
  {
   "cell_type": "code",
   "execution_count": 4,
   "metadata": {},
   "outputs": [
    {
     "data": {
      "text/plain": [
       "(8, 3)"
      ]
     },
     "execution_count": 4,
     "metadata": {},
     "output_type": "execute_result"
    }
   ],
   "source": [
    "# a function that returns two values in a tuple\n",
    "function f(x)\n",
    "    2x, x-1\n",
    "end\n",
    "\n",
    "s,t = f(4)"
   ]
  },
  {
   "cell_type": "code",
   "execution_count": 5,
   "metadata": {},
   "outputs": [
    {
     "data": {
      "text/plain": [
       "2×3 Matrix{Float64}:\n",
       " 0.0  0.0  0.0\n",
       " 0.0  0.0  0.0"
      ]
     },
     "execution_count": 5,
     "metadata": {},
     "output_type": "execute_result"
    }
   ],
   "source": [
    "# allocating an 2 x 3 matrix of zeros\n",
    "A = zeros(2,3)"
   ]
  },
  {
   "cell_type": "code",
   "execution_count": 6,
   "metadata": {},
   "outputs": [
    {
     "data": {
      "text/plain": [
       "2×3 Matrix{BigFloat}:\n",
       " 0.0  0.0  0.0\n",
       " 0.0  0.0  0.0"
      ]
     },
     "execution_count": 6,
     "metadata": {},
     "output_type": "execute_result"
    }
   ],
   "source": [
    "# getting the type of a numerical variable and allocating a matrix of that type\n",
    "x = BigFloat(pi)\n",
    "T = typeof(x)\n",
    "A = zeros(T, 2, 3)"
   ]
  },
  {
   "cell_type": "code",
   "execution_count": 7,
   "metadata": {},
   "outputs": [
    {
     "name": "stdout",
     "output_type": "stream",
     "text": [
      "a = [999, 0, 0]\n",
      "b = [999, 0, 0]\n"
     ]
    }
   ],
   "source": [
    "# In Julia, variables are references (pointers) to objects.\n",
    "# The assignment below creates a new reference to the same object.\n",
    "# So a change made to one affects the other.\n",
    "a = [0; 0; 0]\n",
    "b = a\n",
    "\n",
    "b[1] = 999\n",
    "\n",
    "@show a\n",
    "@show b;\n"
   ]
  },
  {
   "cell_type": "code",
   "execution_count": 8,
   "metadata": {},
   "outputs": [
    {
     "name": "stdout",
     "output_type": "stream",
     "text": [
      "a = [0, 0, 0]\n",
      "b = [999, 0, 0]\n"
     ]
    }
   ],
   "source": [
    "# If you want an entirely new copy of a vector or matrix, use copy()\n",
    "a = [0; 0; 0]\n",
    "b = copy(a)\n",
    "\n",
    "b[1] = 999;\n",
    "\n",
    "@show a\n",
    "@show b;\n"
   ]
  },
  {
   "cell_type": "code",
   "execution_count": 9,
   "metadata": {},
   "outputs": [
    {
     "data": {
      "text/plain": [
       "4×4 Matrix{Float64}:\n",
       " 1.0  1.0  1.0  0.0\n",
       " 1.0  1.0  1.0  0.0\n",
       " 1.0  1.0  1.0  0.0\n",
       " 1.0  1.0  1.0  0.0"
      ]
     },
     "execution_count": 9,
     "metadata": {},
     "output_type": "execute_result"
    }
   ],
   "source": [
    "# Matrix-vector syntax is much like Matlab. But use square brackets!\n",
    "A = zeros(4,4)\n",
    "B = ones(4,3)\n",
    "A[:, 1:3] = B\n",
    "\n",
    "A"
   ]
  },
  {
   "cell_type": "code",
   "execution_count": 10,
   "metadata": {},
   "outputs": [
    {
     "name": "stdout",
     "output_type": "stream",
     "text": [
      "dot(v1, v2) = 9\n",
      "typeof(dot(v1, v2)) = Int64\n",
      "v1' * v2 = 9\n",
      "typeof(v1' * v2) = Int64\n"
     ]
    },
    {
     "data": {
      "text/plain": [
       "Int64"
      ]
     },
     "execution_count": 10,
     "metadata": {},
     "output_type": "execute_result"
    }
   ],
   "source": [
    "# Use the dot function from the LinearAlgebra to compute the inner product \n",
    "# between two vectors, not the v1' * v2 you'd use in Matlab. This is necessary\n",
    "# because Julia is careful about types and returns a scalar for the inner\n",
    "# product. Matlab does the inner product as a matrix multiplication and \n",
    "# returns the scalar as a 1 x 1 matrix!\n",
    "\n",
    "v1 = [1 ; 1 ; 1]\n",
    "v2 = [2 ; 3 ; 4]\n",
    "\n",
    "@show dot(v1, v2)\n",
    "@show typeof(dot(v1, v2))\n",
    "\n",
    "@show v1' * v2\n",
    "@show typeof(v1' * v2)"
   ]
  },
  {
   "cell_type": "code",
   "execution_count": 11,
   "metadata": {},
   "outputs": [
    {
     "ename": "LoadError",
     "evalue": "MethodError: no method matching *(::Vector{Float64}, ::Vector{Float64})\n\n\u001b[0mClosest candidates are:\n\u001b[0m  *(::Any, ::Any, \u001b[31m::Any\u001b[39m, \u001b[31m::Any...\u001b[39m)\n\u001b[0m\u001b[90m   @\u001b[39m \u001b[90mBase\u001b[39m \u001b[90m\u001b[4moperators.jl:587\u001b[24m\u001b[39m\n\u001b[0m  *(\u001b[31m::Diagonal\u001b[39m, ::AbstractVector)\n\u001b[0m\u001b[90m   @\u001b[39m \u001b[35mLinearAlgebra\u001b[39m \u001b[90m~/packages/julia-1.10.0/share/julia/stdlib/v1.10/LinearAlgebra/src/\u001b[39m\u001b[90m\u001b[4mdiagonal.jl:283\u001b[24m\u001b[39m\n\u001b[0m  *(\u001b[31m::Number\u001b[39m, ::AbstractArray)\n\u001b[0m\u001b[90m   @\u001b[39m \u001b[90mBase\u001b[39m \u001b[90m\u001b[4marraymath.jl:21\u001b[24m\u001b[39m\n\u001b[0m  ...\n",
     "output_type": "error",
     "traceback": [
      "MethodError: no method matching *(::Vector{Float64}, ::Vector{Float64})\n\n\u001b[0mClosest candidates are:\n\u001b[0m  *(::Any, ::Any, \u001b[31m::Any\u001b[39m, \u001b[31m::Any...\u001b[39m)\n\u001b[0m\u001b[90m   @\u001b[39m \u001b[90mBase\u001b[39m \u001b[90m\u001b[4moperators.jl:587\u001b[24m\u001b[39m\n\u001b[0m  *(\u001b[31m::Diagonal\u001b[39m, ::AbstractVector)\n\u001b[0m\u001b[90m   @\u001b[39m \u001b[35mLinearAlgebra\u001b[39m \u001b[90m~/packages/julia-1.10.0/share/julia/stdlib/v1.10/LinearAlgebra/src/\u001b[39m\u001b[90m\u001b[4mdiagonal.jl:283\u001b[24m\u001b[39m\n\u001b[0m  *(\u001b[31m::Number\u001b[39m, ::AbstractArray)\n\u001b[0m\u001b[90m   @\u001b[39m \u001b[90mBase\u001b[39m \u001b[90m\u001b[4marraymath.jl:21\u001b[24m\u001b[39m\n\u001b[0m  ...\n",
      "",
      "Stacktrace:",
      " [1] top-level scope",
      "   @ In[11]:7"
     ]
    }
   ],
   "source": [
    "# Some thing that work in Matlab need different syntax in Julia,\n",
    "# due to Julia's stricter typing \n",
    "A = rand(4,4)\n",
    "B = rand(4,4)\n",
    "\n",
    "# This will throw an error in Julia, though it works in Matlab\n",
    "A[1,:] * B[:,3]  \n"
   ]
  },
  {
   "cell_type": "code",
   "execution_count": 12,
   "metadata": {},
   "outputs": [
    {
     "data": {
      "text/plain": [
       "10-element Vector{Float64}:\n",
       " 0.0\n",
       " 0.3420201433256687\n",
       " 0.6427876096865393\n",
       " 0.8660254037844386\n",
       " 0.984807753012208\n",
       " 0.984807753012208\n",
       " 0.8660254037844387\n",
       " 0.6427876096865395\n",
       " 0.3420201433256689\n",
       " 1.2246467991473532e-16"
      ]
     },
     "execution_count": 12,
     "metadata": {},
     "output_type": "execute_result"
    }
   ],
   "source": [
    "# Julia's dot syntax is more consistent than Matlab's.\n",
    "# If you want to apply a scalar function to a vector of values,\n",
    "# you need to use dots\n",
    "\n",
    "x = range(0.0, pi, length=10)\n",
    "sin.(x)"
   ]
  },
  {
   "cell_type": "code",
   "execution_count": 13,
   "metadata": {},
   "outputs": [
    {
     "data": {
      "text/plain": [
       "2×2 Matrix{Float64}:\n",
       " 2.71828  0.0\n",
       " 0.0      7.38906"
      ]
     },
     "execution_count": 13,
     "metadata": {},
     "output_type": "execute_result"
    }
   ],
   "source": [
    "# This distinction is sometimes meaningful and important!\n",
    "A = [1 0; 0 2]\n",
    "\n",
    "# The exponential of a matrix....\n",
    "exp(A)"
   ]
  },
  {
   "cell_type": "code",
   "execution_count": 14,
   "metadata": {},
   "outputs": [
    {
     "data": {
      "text/plain": [
       "2×2 Matrix{Float64}:\n",
       " 2.71828  1.0\n",
       " 1.0      7.38906"
      ]
     },
     "execution_count": 14,
     "metadata": {},
     "output_type": "execute_result"
    }
   ],
   "source": [
    "# ...compared to the elementwise exponential \n",
    "exp.(A)"
   ]
  },
  {
   "cell_type": "code",
   "execution_count": 15,
   "metadata": {},
   "outputs": [
    {
     "data": {
      "image/png": "[encoded data removed]",
      "image/svg+xml": [
       "<?xml version=\"1.0\" encoding=\"utf-8\"?>\n",
       "<svg xmlns=\"http://www.w3.org/2000/svg\" xmlns:xlink=\"http://www.w3.org/1999/xlink\" width=\"600\" height=\"400\" viewBox=\"0 0 2400 1600\">\n",
       "<defs>\n",
       "  <clipPath id=\"clip840\">\n",
       "    <rect x=\"0\" y=\"0\" width=\"2400\" height=\"1600\"/>\n",
       "  </clipPath>\n",
       "</defs>\n",
       "<path clip-path=\"url(#clip840)\" d=\"M0 1600 L2400 1600 L2400 0 L0 0  Z\" fill=\"#ffffff\" fill-rule=\"evenodd\" fill-opacity=\"1\"/>\n",
       "<defs>\n",
       "  <clipPath id=\"clip841\">\n",
       "    <rect x=\"480\" y=\"0\" width=\"1681\" height=\"1600\"/>\n",
       "  </clipPath>\n",
       "</defs>\n",
       "<path clip-path=\"url(#clip840)\" d=\"M244.451 1410.9 L2352.76 1410.9 L2352.76 123.472 L244.451 123.472  Z\" fill=\"#ffffff\" fill-rule=\"evenodd\" fill-opacity=\"1\"/>\n",
       "<defs>\n",
       "  <clipPath id=\"clip842\">\n",
       "    <rect x=\"244\" y=\"123\" width=\"2109\" height=\"1288\"/>\n",
       "  </clipPath>\n",
       "</defs>\n",
       "<polyline clip-path=\"url(#clip842)\" style=\"stroke:#000000; stroke-linecap:round; stroke-linejoin:round; stroke-width:2; stroke-opacity:0.1; fill:none\" points=\"244.451,1410.9 244.451,123.472 \"/>\n",
       "<polyline clip-path=\"url(#clip842)\" style=\"stroke:#000000; stroke-linecap:round; stroke-linejoin:round; stroke-width:2; stroke-opacity:0.1; fill:none\" points=\"1202.77,1410.9 1202.77,123.472 \"/>\n",
       "<polyline clip-path=\"url(#clip842)\" style=\"stroke:#000000; stroke-linecap:round; stroke-linejoin:round; stroke-width:2; stroke-opacity:0.1; fill:none\" points=\"2161.09,1410.9 2161.09,123.472 \"/>\n",
       "<polyline clip-path=\"url(#clip840)\" style=\"stroke:#000000; stroke-linecap:round; stroke-linejoin:round; stroke-width:4; stroke-opacity:1; fill:none\" points=\"244.451,1410.9 2352.76,1410.9 \"/>\n",
       "<polyline clip-path=\"url(#clip840)\" style=\"stroke:#000000; stroke-linecap:round; stroke-linejoin:round; stroke-width:4; stroke-opacity:1; fill:none\" points=\"244.451,1410.9 244.451,1392 \"/>\n",
       "<polyline clip-path=\"url(#clip840)\" style=\"stroke:#000000; stroke-linecap:round; stroke-linejoin:round; stroke-width:4; stroke-opacity:1; fill:none\" points=\"1202.77,1410.9 1202.77,1392 \"/>\n",
       "<polyline clip-path=\"url(#clip840)\" style=\"stroke:#000000; stroke-linecap:round; stroke-linejoin:round; stroke-width:4; stroke-opacity:1; fill:none\" points=\"2161.09,1410.9 2161.09,1392 \"/>\n",
       "<path clip-path=\"url(#clip840)\" d=\"M209.434 1485.02 L217.073 1485.02 L217.073 1458.66 L208.762 1460.32 L208.762 1456.06 L217.026 1454.4 L221.702 1454.4 L221.702 1485.02 L229.341 1485.02 L229.341 1488.96 L209.434 1488.96 L209.434 1485.02 Z\" fill=\"#000000\" fill-rule=\"nonzero\" fill-opacity=\"1\" /><path clip-path=\"url(#clip840)\" d=\"M248.785 1457.48 Q245.174 1457.48 243.346 1461.04 Q241.54 1464.58 241.54 1471.71 Q241.54 1478.82 243.346 1482.38 Q245.174 1485.92 248.785 1485.92 Q252.42 1485.92 254.225 1482.38 Q256.054 1478.82 256.054 1471.71 Q256.054 1464.58 254.225 1461.04 Q252.42 1457.48 248.785 1457.48 M248.785 1453.77 Q254.596 1453.77 257.651 1458.38 Q260.73 1462.96 260.73 1471.71 Q260.73 1480.44 257.651 1485.04 Q254.596 1489.63 248.785 1489.63 Q242.975 1489.63 239.897 1485.04 Q236.841 1480.44 236.841 1471.71 Q236.841 1462.96 239.897 1458.38 Q242.975 1453.77 248.785 1453.77 Z\" fill=\"#000000\" fill-rule=\"nonzero\" fill-opacity=\"1\" /><path clip-path=\"url(#clip840)\" d=\"M270.435 1435.97 Q267.501 1435.97 266.015 1438.86 Q264.548 1441.74 264.548 1447.53 Q264.548 1453.31 266.015 1456.2 Q267.501 1459.08 270.435 1459.08 Q273.387 1459.08 274.854 1456.2 Q276.34 1453.31 276.34 1447.53 Q276.34 1441.74 274.854 1438.86 Q273.387 1435.97 270.435 1435.97 M270.435 1432.96 Q275.155 1432.96 277.638 1436.7 Q280.139 1440.43 280.139 1447.53 Q280.139 1454.62 277.638 1458.37 Q275.155 1462.09 270.435 1462.09 Q265.714 1462.09 263.212 1458.37 Q260.73 1454.62 260.73 1447.53 Q260.73 1440.43 263.212 1436.7 Q265.714 1432.96 270.435 1432.96 Z\" fill=\"#000000\" fill-rule=\"nonzero\" fill-opacity=\"1\" /><path clip-path=\"url(#clip840)\" d=\"M1168.37 1485.02 L1176.01 1485.02 L1176.01 1458.66 L1167.7 1460.32 L1167.7 1456.06 L1175.97 1454.4 L1180.64 1454.4 L1180.64 1485.02 L1188.28 1485.02 L1188.28 1488.96 L1168.37 1488.96 L1168.37 1485.02 Z\" fill=\"#000000\" fill-rule=\"nonzero\" fill-opacity=\"1\" /><path clip-path=\"url(#clip840)\" d=\"M1207.73 1457.48 Q1204.12 1457.48 1202.29 1461.04 Q1200.48 1464.58 1200.48 1471.71 Q1200.48 1478.82 1202.29 1482.38 Q1204.12 1485.92 1207.73 1485.92 Q1211.36 1485.92 1213.17 1482.38 Q1214.99 1478.82 1214.99 1471.71 Q1214.99 1464.58 1213.17 1461.04 Q1211.36 1457.48 1207.73 1457.48 M1207.73 1453.77 Q1213.54 1453.77 1216.59 1458.38 Q1219.67 1462.96 1219.67 1471.71 Q1219.67 1480.44 1216.59 1485.04 Q1213.54 1489.63 1207.73 1489.63 Q1201.92 1489.63 1198.84 1485.04 Q1195.78 1480.44 1195.78 1471.71 Q1195.78 1462.96 1198.84 1458.38 Q1201.92 1453.77 1207.73 1453.77 Z\" fill=\"#000000\" fill-rule=\"nonzero\" fill-opacity=\"1\" /><path clip-path=\"url(#clip840)\" d=\"M1220.86 1433.47 L1235.77 1433.47 L1235.77 1436.66 L1224.34 1436.66 L1224.34 1443.55 Q1225.16 1443.27 1225.99 1443.13 Q1226.82 1442.98 1227.65 1442.98 Q1232.35 1442.98 1235.09 1445.56 Q1237.84 1448.14 1237.84 1452.54 Q1237.84 1457.07 1235.02 1459.59 Q1232.2 1462.09 1227.06 1462.09 Q1225.29 1462.09 1223.45 1461.79 Q1221.63 1461.49 1219.67 1460.89 L1219.67 1457.07 Q1221.36 1457.99 1223.17 1458.44 Q1224.97 1458.89 1226.99 1458.89 Q1230.24 1458.89 1232.14 1457.18 Q1234.04 1455.47 1234.04 1452.54 Q1234.04 1449.6 1232.14 1447.89 Q1230.24 1446.18 1226.99 1446.18 Q1225.46 1446.18 1223.94 1446.52 Q1222.44 1446.86 1220.86 1447.57 L1220.86 1433.47 Z\" fill=\"#000000\" fill-rule=\"nonzero\" fill-opacity=\"1\" /><path clip-path=\"url(#clip840)\" d=\"M2114.67 1485.02 L2122.31 1485.02 L2122.31 1458.66 L2114 1460.32 L2114 1456.06 L2122.26 1454.4 L2126.94 1454.4 L2126.94 1485.02 L2134.58 1485.02 L2134.58 1488.96 L2114.67 1488.96 L2114.67 1485.02 Z\" fill=\"#000000\" fill-rule=\"nonzero\" fill-opacity=\"1\" /><path clip-path=\"url(#clip840)\" d=\"M2154.02 1457.48 Q2150.41 1457.48 2148.58 1461.04 Q2146.77 1464.58 2146.77 1471.71 Q2146.77 1478.82 2148.58 1482.38 Q2150.41 1485.92 2154.02 1485.92 Q2157.65 1485.92 2159.46 1482.38 Q2161.29 1478.82 2161.29 1471.71 Q2161.29 1464.58 2159.46 1461.04 Q2157.65 1457.48 2154.02 1457.48 M2154.02 1453.77 Q2159.83 1453.77 2162.89 1458.38 Q2165.96 1462.96 2165.96 1471.71 Q2165.96 1480.44 2162.89 1485.04 Q2159.83 1489.63 2154.02 1489.63 Q2148.21 1489.63 2145.13 1485.04 Q2142.07 1480.44 2142.07 1471.71 Q2142.07 1462.96 2145.13 1458.38 Q2148.21 1453.77 2154.02 1453.77 Z\" fill=\"#000000\" fill-rule=\"nonzero\" fill-opacity=\"1\" /><path clip-path=\"url(#clip840)\" d=\"M2166.51 1458.35 L2172.72 1458.35 L2172.72 1436.93 L2165.96 1438.28 L2165.96 1434.82 L2172.68 1433.47 L2176.48 1433.47 L2176.48 1458.35 L2182.68 1458.35 L2182.68 1461.55 L2166.51 1461.55 L2166.51 1458.35 Z\" fill=\"#000000\" fill-rule=\"nonzero\" fill-opacity=\"1\" /><path clip-path=\"url(#clip840)\" d=\"M2198.48 1435.97 Q2195.55 1435.97 2194.06 1438.86 Q2192.6 1441.74 2192.6 1447.53 Q2192.6 1453.31 2194.06 1456.2 Q2195.55 1459.08 2198.48 1459.08 Q2201.44 1459.08 2202.9 1456.2 Q2204.39 1453.31 2204.39 1447.53 Q2204.39 1441.74 2202.9 1438.86 Q2201.44 1435.97 2198.48 1435.97 M2198.48 1432.96 Q2203.2 1432.96 2205.69 1436.7 Q2208.19 1440.43 2208.19 1447.53 Q2208.19 1454.62 2205.69 1458.37 Q2203.2 1462.09 2198.48 1462.09 Q2193.76 1462.09 2191.26 1458.37 Q2188.78 1454.62 2188.78 1447.53 Q2188.78 1440.43 2191.26 1436.7 Q2193.76 1432.96 2198.48 1432.96 Z\" fill=\"#000000\" fill-rule=\"nonzero\" fill-opacity=\"1\" /><path clip-path=\"url(#clip840)\" d=\"M1315.22 1538.54 L1302.33 1555.88 L1315.89 1574.19 L1308.98 1574.19 L1298.6 1560.18 L1288.23 1574.19 L1281.32 1574.19 L1295.17 1555.53 L1282.5 1538.54 L1289.4 1538.54 L1298.86 1551.24 L1308.31 1538.54 L1315.22 1538.54 Z\" fill=\"#000000\" fill-rule=\"nonzero\" fill-opacity=\"1\" /><polyline clip-path=\"url(#clip842)\" style=\"stroke:#000000; stroke-linecap:round; stroke-linejoin:round; stroke-width:2; stroke-opacity:0.1; fill:none\" points=\"244.451,1410.9 2352.76,1410.9 \"/>\n",
       "<polyline clip-path=\"url(#clip842)\" style=\"stroke:#000000; stroke-linecap:round; stroke-linejoin:round; stroke-width:2; stroke-opacity:0.1; fill:none\" points=\"244.451,1196.33 2352.76,1196.33 \"/>\n",
       "<polyline clip-path=\"url(#clip842)\" style=\"stroke:#000000; stroke-linecap:round; stroke-linejoin:round; stroke-width:2; stroke-opacity:0.1; fill:none\" points=\"244.451,981.755 2352.76,981.755 \"/>\n",
       "<polyline clip-path=\"url(#clip842)\" style=\"stroke:#000000; stroke-linecap:round; stroke-linejoin:round; stroke-width:2; stroke-opacity:0.1; fill:none\" points=\"244.451,767.184 2352.76,767.184 \"/>\n",
       "<polyline clip-path=\"url(#clip842)\" style=\"stroke:#000000; stroke-linecap:round; stroke-linejoin:round; stroke-width:2; stroke-opacity:0.1; fill:none\" points=\"244.451,552.614 2352.76,552.614 \"/>\n",
       "<polyline clip-path=\"url(#clip842)\" style=\"stroke:#000000; stroke-linecap:round; stroke-linejoin:round; stroke-width:2; stroke-opacity:0.1; fill:none\" points=\"244.451,338.043 2352.76,338.043 \"/>\n",
       "<polyline clip-path=\"url(#clip842)\" style=\"stroke:#000000; stroke-linecap:round; stroke-linejoin:round; stroke-width:2; stroke-opacity:0.1; fill:none\" points=\"244.451,123.472 2352.76,123.472 \"/>\n",
       "<polyline clip-path=\"url(#clip840)\" style=\"stroke:#000000; stroke-linecap:round; stroke-linejoin:round; stroke-width:4; stroke-opacity:1; fill:none\" points=\"244.451,1410.9 244.451,123.472 \"/>\n",
       "<polyline clip-path=\"url(#clip840)\" style=\"stroke:#000000; stroke-linecap:round; stroke-linejoin:round; stroke-width:4; stroke-opacity:1; fill:none\" points=\"244.451,1410.9 263.349,1410.9 \"/>\n",
       "<polyline clip-path=\"url(#clip840)\" style=\"stroke:#000000; stroke-linecap:round; stroke-linejoin:round; stroke-width:4; stroke-opacity:1; fill:none\" points=\"244.451,1196.33 263.349,1196.33 \"/>\n",
       "<polyline clip-path=\"url(#clip840)\" style=\"stroke:#000000; stroke-linecap:round; stroke-linejoin:round; stroke-width:4; stroke-opacity:1; fill:none\" points=\"244.451,981.755 263.349,981.755 \"/>\n",
       "<polyline clip-path=\"url(#clip840)\" style=\"stroke:#000000; stroke-linecap:round; stroke-linejoin:round; stroke-width:4; stroke-opacity:1; fill:none\" points=\"244.451,767.184 263.349,767.184 \"/>\n",
       "<polyline clip-path=\"url(#clip840)\" style=\"stroke:#000000; stroke-linecap:round; stroke-linejoin:round; stroke-width:4; stroke-opacity:1; fill:none\" points=\"244.451,552.614 263.349,552.614 \"/>\n",
       "<polyline clip-path=\"url(#clip840)\" style=\"stroke:#000000; stroke-linecap:round; stroke-linejoin:round; stroke-width:4; stroke-opacity:1; fill:none\" points=\"244.451,338.043 263.349,338.043 \"/>\n",
       "<polyline clip-path=\"url(#clip840)\" style=\"stroke:#000000; stroke-linecap:round; stroke-linejoin:round; stroke-width:4; stroke-opacity:1; fill:none\" points=\"244.451,123.472 263.349,123.472 \"/>\n",
       "<path clip-path=\"url(#clip840)\" d=\"M137.745 1430.69 L145.384 1430.69 L145.384 1404.32 L137.074 1405.99 L137.074 1401.73 L145.338 1400.06 L150.014 1400.06 L150.014 1430.69 L157.653 1430.69 L157.653 1434.62 L137.745 1434.62 L137.745 1430.69 Z\" fill=\"#000000\" fill-rule=\"nonzero\" fill-opacity=\"1\" /><path clip-path=\"url(#clip840)\" d=\"M177.097 1403.14 Q173.486 1403.14 171.657 1406.71 Q169.852 1410.25 169.852 1417.38 Q169.852 1424.49 171.657 1428.05 Q173.486 1431.59 177.097 1431.59 Q180.731 1431.59 182.537 1428.05 Q184.365 1424.49 184.365 1417.38 Q184.365 1410.25 182.537 1406.71 Q180.731 1403.14 177.097 1403.14 M177.097 1399.44 Q182.907 1399.44 185.963 1404.05 Q189.041 1408.63 189.041 1417.38 Q189.041 1426.11 185.963 1430.71 Q182.907 1435.3 177.097 1435.3 Q171.287 1435.3 168.208 1430.71 Q165.153 1426.11 165.153 1417.38 Q165.153 1408.63 168.208 1404.05 Q171.287 1399.44 177.097 1399.44 Z\" fill=\"#000000\" fill-rule=\"nonzero\" fill-opacity=\"1\" /><path clip-path=\"url(#clip840)\" d=\"M198.746 1381.64 Q195.812 1381.64 194.326 1384.53 Q192.859 1387.41 192.859 1393.2 Q192.859 1398.98 194.326 1401.87 Q195.812 1404.75 198.746 1404.75 Q201.699 1404.75 203.166 1401.87 Q204.652 1398.98 204.652 1393.2 Q204.652 1387.41 203.166 1384.53 Q201.699 1381.64 198.746 1381.64 M198.746 1378.63 Q203.467 1378.63 205.949 1382.37 Q208.451 1386.09 208.451 1393.2 Q208.451 1400.29 205.949 1404.04 Q203.467 1407.76 198.746 1407.76 Q194.025 1407.76 191.524 1404.04 Q189.041 1400.29 189.041 1393.2 Q189.041 1386.09 191.524 1382.37 Q194.025 1378.63 198.746 1378.63 Z\" fill=\"#000000\" fill-rule=\"nonzero\" fill-opacity=\"1\" /><path clip-path=\"url(#clip840)\" d=\"M139.325 1216.12 L146.964 1216.12 L146.964 1189.75 L138.654 1191.42 L138.654 1187.16 L146.918 1185.49 L151.594 1185.49 L151.594 1216.12 L159.232 1216.12 L159.232 1220.05 L139.325 1220.05 L139.325 1216.12 Z\" fill=\"#000000\" fill-rule=\"nonzero\" fill-opacity=\"1\" /><path clip-path=\"url(#clip840)\" d=\"M178.677 1188.57 Q175.066 1188.57 173.237 1192.14 Q171.431 1195.68 171.431 1202.81 Q171.431 1209.91 173.237 1213.48 Q175.066 1217.02 178.677 1217.02 Q182.311 1217.02 184.117 1213.48 Q185.945 1209.91 185.945 1202.81 Q185.945 1195.68 184.117 1192.14 Q182.311 1188.57 178.677 1188.57 M178.677 1184.87 Q184.487 1184.87 187.542 1189.47 Q190.621 1194.06 190.621 1202.81 Q190.621 1211.54 187.542 1216.14 Q184.487 1220.72 178.677 1220.72 Q172.867 1220.72 169.788 1216.14 Q166.732 1211.54 166.732 1202.81 Q166.732 1194.06 169.788 1189.47 Q172.867 1184.87 178.677 1184.87 Z\" fill=\"#000000\" fill-rule=\"nonzero\" fill-opacity=\"1\" /><path clip-path=\"url(#clip840)\" d=\"M195.191 1189.45 L208.451 1189.45 L208.451 1192.64 L190.621 1192.64 L190.621 1189.45 Q192.784 1187.21 196.508 1183.45 Q200.251 1179.67 201.21 1178.57 Q203.034 1176.52 203.749 1175.11 Q204.482 1173.68 204.482 1172.31 Q204.482 1170.07 202.903 1168.66 Q201.342 1167.25 198.821 1167.25 Q197.035 1167.25 195.041 1167.87 Q193.066 1168.49 190.809 1169.75 L190.809 1165.92 Q193.104 1165 195.097 1164.53 Q197.091 1164.06 198.746 1164.06 Q203.11 1164.06 205.705 1166.24 Q208.3 1168.42 208.3 1172.07 Q208.3 1173.8 207.642 1175.36 Q207.003 1176.9 205.291 1179.01 Q204.821 1179.55 202.301 1182.17 Q199.781 1184.76 195.191 1189.45 Z\" fill=\"#000000\" fill-rule=\"nonzero\" fill-opacity=\"1\" /><path clip-path=\"url(#clip840)\" d=\"M136.692 1001.55 L144.331 1001.55 L144.331 975.182 L136.021 976.849 L136.021 972.589 L144.285 970.923 L148.96 970.923 L148.96 1001.55 L156.599 1001.55 L156.599 1005.48 L136.692 1005.48 L136.692 1001.55 Z\" fill=\"#000000\" fill-rule=\"nonzero\" fill-opacity=\"1\" /><path clip-path=\"url(#clip840)\" d=\"M176.044 974.001 Q172.433 974.001 170.604 977.566 Q168.798 981.108 168.798 988.237 Q168.798 995.344 170.604 998.909 Q172.433 1002.45 176.044 1002.45 Q179.678 1002.45 181.483 998.909 Q183.312 995.344 183.312 988.237 Q183.312 981.108 181.483 977.566 Q179.678 974.001 176.044 974.001 M176.044 970.298 Q181.854 970.298 184.909 974.904 Q187.988 979.488 187.988 988.237 Q187.988 996.964 184.909 1001.57 Q181.854 1006.15 176.044 1006.15 Q170.234 1006.15 167.155 1001.57 Q164.099 996.964 164.099 988.237 Q164.099 979.488 167.155 974.904 Q170.234 970.298 176.044 970.298 Z\" fill=\"#000000\" fill-rule=\"nonzero\" fill-opacity=\"1\" /><path clip-path=\"url(#clip840)\" d=\"M200.664 953.303 L191.073 968.292 L200.664 968.292 L200.664 953.303 M199.668 949.992 L204.445 949.992 L204.445 968.292 L208.451 968.292 L208.451 971.452 L204.445 971.452 L204.445 978.072 L200.664 978.072 L200.664 971.452 L187.988 971.452 L187.988 967.784 L199.668 949.992 Z\" fill=\"#000000\" fill-rule=\"nonzero\" fill-opacity=\"1\" /><path clip-path=\"url(#clip840)\" d=\"M137.764 786.977 L145.403 786.977 L145.403 760.611 L137.093 762.278 L137.093 758.019 L145.357 756.352 L150.033 756.352 L150.033 786.977 L157.671 786.977 L157.671 790.912 L137.764 790.912 L137.764 786.977 Z\" fill=\"#000000\" fill-rule=\"nonzero\" fill-opacity=\"1\" /><path clip-path=\"url(#clip840)\" d=\"M177.116 759.431 Q173.505 759.431 171.676 762.995 Q169.87 766.537 169.87 773.667 Q169.87 780.773 171.676 784.338 Q173.505 787.88 177.116 787.88 Q180.75 787.88 182.556 784.338 Q184.384 780.773 184.384 773.667 Q184.384 766.537 182.556 762.995 Q180.75 759.431 177.116 759.431 M177.116 755.727 Q182.926 755.727 185.981 760.333 Q189.06 764.917 189.06 773.667 Q189.06 782.394 185.981 787 Q182.926 791.583 177.116 791.583 Q171.306 791.583 168.227 787 Q165.171 782.394 165.171 773.667 Q165.171 764.917 168.227 760.333 Q171.306 755.727 177.116 755.727 Z\" fill=\"#000000\" fill-rule=\"nonzero\" fill-opacity=\"1\" /><path clip-path=\"url(#clip840)\" d=\"M199.085 747.948 Q196.527 747.948 195.022 749.697 Q193.536 751.446 193.536 754.493 Q193.536 757.521 195.022 759.289 Q196.527 761.038 199.085 761.038 Q201.643 761.038 203.128 759.289 Q204.633 757.521 204.633 754.493 Q204.633 751.446 203.128 749.697 Q201.643 747.948 199.085 747.948 M206.627 736.042 L206.627 739.503 Q205.197 738.826 203.73 738.468 Q202.282 738.111 200.853 738.111 Q197.091 738.111 195.097 740.65 Q193.123 743.189 192.84 748.324 Q193.95 746.687 195.624 745.822 Q197.298 744.938 199.31 744.938 Q203.542 744.938 205.987 747.515 Q208.451 750.073 208.451 754.493 Q208.451 758.818 205.893 761.433 Q203.335 764.047 199.085 764.047 Q194.213 764.047 191.637 760.323 Q189.06 756.58 189.06 749.49 Q189.06 742.832 192.22 738.882 Q195.38 734.914 200.702 734.914 Q202.132 734.914 203.58 735.196 Q205.047 735.478 206.627 736.042 Z\" fill=\"#000000\" fill-rule=\"nonzero\" fill-opacity=\"1\" /><path clip-path=\"url(#clip840)\" d=\"M137.896 572.406 L145.535 572.406 L145.535 546.04 L137.224 547.707 L137.224 543.448 L145.488 541.781 L150.164 541.781 L150.164 572.406 L157.803 572.406 L157.803 576.341 L137.896 576.341 L137.896 572.406 Z\" fill=\"#000000\" fill-rule=\"nonzero\" fill-opacity=\"1\" /><path clip-path=\"url(#clip840)\" d=\"M177.247 544.86 Q173.636 544.86 171.808 548.425 Q170.002 551.966 170.002 559.096 Q170.002 566.202 171.808 569.767 Q173.636 573.309 177.247 573.309 Q180.882 573.309 182.687 569.767 Q184.516 566.202 184.516 559.096 Q184.516 551.966 182.687 548.425 Q180.882 544.86 177.247 544.86 M177.247 541.156 Q183.058 541.156 186.113 545.763 Q189.192 550.346 189.192 559.096 Q189.192 567.823 186.113 572.429 Q183.058 577.013 177.247 577.013 Q171.437 577.013 168.359 572.429 Q165.303 567.823 165.303 559.096 Q165.303 550.346 168.359 545.763 Q171.437 541.156 177.247 541.156 Z\" fill=\"#000000\" fill-rule=\"nonzero\" fill-opacity=\"1\" /><path clip-path=\"url(#clip840)\" d=\"M198.821 535.596 Q196.113 535.596 194.552 537.044 Q193.01 538.493 193.01 541.032 Q193.01 543.571 194.552 545.019 Q196.113 546.467 198.821 546.467 Q201.53 546.467 203.091 545.019 Q204.652 543.552 204.652 541.032 Q204.652 538.493 203.091 537.044 Q201.548 535.596 198.821 535.596 M195.022 533.979 Q192.577 533.377 191.204 531.703 Q189.85 530.029 189.85 527.622 Q189.85 524.255 192.239 522.299 Q194.646 520.343 198.821 520.343 Q203.015 520.343 205.404 522.299 Q207.793 524.255 207.793 527.622 Q207.793 530.029 206.42 531.703 Q205.066 533.377 202.639 533.979 Q205.385 534.618 206.909 536.48 Q208.451 538.342 208.451 541.032 Q208.451 545.113 205.949 547.295 Q203.467 549.476 198.821 549.476 Q194.176 549.476 191.674 547.295 Q189.192 545.113 189.192 541.032 Q189.192 538.342 190.734 536.48 Q192.276 534.618 195.022 533.979 M193.63 527.979 Q193.63 530.161 194.985 531.383 Q196.358 532.606 198.821 532.606 Q201.266 532.606 202.639 531.383 Q204.031 530.161 204.031 527.979 Q204.031 525.797 202.639 524.575 Q201.266 523.352 198.821 523.352 Q196.358 523.352 194.985 524.575 Q193.63 525.797 193.63 527.979 Z\" fill=\"#000000\" fill-rule=\"nonzero\" fill-opacity=\"1\" /><path clip-path=\"url(#clip840)\" d=\"M114.931 357.835 L122.57 357.835 L122.57 331.47 L114.26 333.136 L114.26 328.877 L122.524 327.21 L127.2 327.21 L127.2 357.835 L134.839 357.835 L134.839 361.77 L114.931 361.77 L114.931 357.835 Z\" fill=\"#000000\" fill-rule=\"nonzero\" fill-opacity=\"1\" /><path clip-path=\"url(#clip840)\" d=\"M154.283 330.289 Q150.672 330.289 148.843 333.854 Q147.038 337.396 147.038 344.525 Q147.038 351.632 148.843 355.196 Q150.672 358.738 154.283 358.738 Q157.917 358.738 159.723 355.196 Q161.552 351.632 161.552 344.525 Q161.552 337.396 159.723 333.854 Q157.917 330.289 154.283 330.289 M154.283 326.585 Q160.093 326.585 163.149 331.192 Q166.227 335.775 166.227 344.525 Q166.227 353.252 163.149 357.858 Q160.093 362.442 154.283 362.442 Q148.473 362.442 145.394 357.858 Q142.339 353.252 142.339 344.525 Q142.339 335.775 145.394 331.192 Q148.473 326.585 154.283 326.585 Z\" fill=\"#000000\" fill-rule=\"nonzero\" fill-opacity=\"1\" /><path clip-path=\"url(#clip840)\" d=\"M166.773 331.163 L172.979 331.163 L172.979 309.741 L166.227 311.095 L166.227 307.634 L172.942 306.28 L176.741 306.28 L176.741 331.163 L182.948 331.163 L182.948 334.36 L166.773 334.36 L166.773 331.163 Z\" fill=\"#000000\" fill-rule=\"nonzero\" fill-opacity=\"1\" /><path clip-path=\"url(#clip840)\" d=\"M198.746 308.782 Q195.812 308.782 194.326 311.678 Q192.859 314.555 192.859 320.348 Q192.859 326.122 194.326 329.019 Q195.812 331.896 198.746 331.896 Q201.699 331.896 203.166 329.019 Q204.652 326.122 204.652 320.348 Q204.652 314.555 203.166 311.678 Q201.699 308.782 198.746 308.782 M198.746 305.772 Q203.467 305.772 205.949 309.515 Q208.451 313.239 208.451 320.348 Q208.451 327.439 205.949 331.182 Q203.467 334.906 198.746 334.906 Q194.025 334.906 191.524 331.182 Q189.041 327.439 189.041 320.348 Q189.041 313.239 191.524 309.515 Q194.025 305.772 198.746 305.772 Z\" fill=\"#000000\" fill-rule=\"nonzero\" fill-opacity=\"1\" /><path clip-path=\"url(#clip840)\" d=\"M116.229 143.265 L123.868 143.265 L123.868 116.899 L115.558 118.566 L115.558 114.306 L123.822 112.64 L128.498 112.64 L128.498 143.265 L136.136 143.265 L136.136 147.2 L116.229 147.2 L116.229 143.265 Z\" fill=\"#000000\" fill-rule=\"nonzero\" fill-opacity=\"1\" /><path clip-path=\"url(#clip840)\" d=\"M155.581 115.718 Q151.97 115.718 150.141 119.283 Q148.335 122.825 148.335 129.954 Q148.335 137.061 150.141 140.626 Q151.97 144.167 155.581 144.167 Q159.215 144.167 161.021 140.626 Q162.849 137.061 162.849 129.954 Q162.849 122.825 161.021 119.283 Q159.215 115.718 155.581 115.718 M155.581 112.015 Q161.391 112.015 164.447 116.621 Q167.525 121.204 167.525 129.954 Q167.525 138.681 164.447 143.288 Q161.391 147.871 155.581 147.871 Q149.771 147.871 146.692 143.288 Q143.636 138.681 143.636 129.954 Q143.636 121.204 146.692 116.621 Q149.771 112.015 155.581 112.015 Z\" fill=\"#000000\" fill-rule=\"nonzero\" fill-opacity=\"1\" /><path clip-path=\"url(#clip840)\" d=\"M168.071 116.592 L174.277 116.592 L174.277 95.17 L167.525 96.5241 L167.525 93.0635 L174.24 91.7093 L178.039 91.7093 L178.039 116.592 L184.245 116.592 L184.245 119.789 L168.071 119.789 L168.071 116.592 Z\" fill=\"#000000\" fill-rule=\"nonzero\" fill-opacity=\"1\" /><path clip-path=\"url(#clip840)\" d=\"M195.191 116.592 L208.451 116.592 L208.451 119.789 L190.621 119.789 L190.621 116.592 Q192.784 114.354 196.508 110.592 Q200.251 106.812 201.21 105.721 Q203.034 103.671 203.749 102.26 Q204.482 100.831 204.482 99.4581 Q204.482 97.22 202.903 95.8094 Q201.342 94.3988 198.821 94.3988 Q197.035 94.3988 195.041 95.0195 Q193.066 95.6401 190.809 96.9003 L190.809 93.0635 Q193.104 92.1419 195.097 91.6717 Q197.091 91.2015 198.746 91.2015 Q203.11 91.2015 205.705 93.3832 Q208.3 95.5649 208.3 99.2136 Q208.3 100.944 207.642 102.505 Q207.003 104.047 205.291 106.154 Q204.821 106.699 202.301 109.313 Q199.781 111.909 195.191 116.592 Z\" fill=\"#000000\" fill-rule=\"nonzero\" fill-opacity=\"1\" /><path clip-path=\"url(#clip840)\" d=\"M67.3143 765.497 Q73.68 767.98 75.6216 770.335 Q77.5631 772.691 77.5631 776.637 L77.5631 781.316 L72.6615 781.316 L72.6615 777.879 Q72.6615 775.46 71.5157 774.123 Q70.3699 772.786 66.1048 771.163 L63.4312 770.113 L28.3562 784.531 L28.3562 778.324 L56.238 767.184 L28.3562 756.044 L28.3562 749.838 L67.3143 765.497 Z\" fill=\"#000000\" fill-rule=\"nonzero\" fill-opacity=\"1\" /><path clip-path=\"url(#clip840)\" d=\"M1047.77 49.7694 Q1038.74 49.7694 1035.25 51.8354 Q1031.77 53.9013 1031.77 58.8839 Q1031.77 62.8538 1034.36 65.2034 Q1037 67.5124 1041.49 67.5124 Q1047.69 67.5124 1051.42 63.1374 Q1055.18 58.7219 1055.18 51.4303 L1055.18 49.7694 L1047.77 49.7694 M1062.64 46.6907 L1062.64 72.576 L1055.18 72.576 L1055.18 65.6895 Q1052.63 69.8214 1048.82 71.8063 Q1045.02 73.7508 1039.51 73.7508 Q1032.54 73.7508 1028.41 69.8619 Q1024.32 65.9325 1024.32 59.3701 Q1024.32 51.7138 1029.42 47.825 Q1034.57 43.9361 1044.73 43.9361 L1055.18 43.9361 L1055.18 43.2069 Q1055.18 38.0623 1051.78 35.2672 Q1048.42 32.4315 1042.3 32.4315 Q1038.41 32.4315 1034.73 33.3632 Q1031.04 34.295 1027.64 36.1584 L1027.64 29.2718 Q1031.73 27.692 1035.58 26.9223 Q1039.43 26.1121 1043.07 26.1121 Q1052.92 26.1121 1057.78 31.2163 Q1062.64 36.3204 1062.64 46.6907 Z\" fill=\"#000000\" fill-rule=\"nonzero\" fill-opacity=\"1\" /><path clip-path=\"url(#clip840)\" d=\"M1136.93 49.9314 Q1136.93 41.7081 1133.53 37.0496 Q1130.17 32.3505 1124.25 32.3505 Q1118.34 32.3505 1114.94 37.0496 Q1111.57 41.7081 1111.57 49.9314 Q1111.57 58.1548 1114.94 62.8538 Q1118.34 67.5124 1124.25 67.5124 Q1130.17 67.5124 1133.53 62.8538 Q1136.93 58.1548 1136.93 49.9314 M1111.57 34.0924 Q1113.92 30.0415 1117.49 28.0971 Q1121.09 26.1121 1126.08 26.1121 Q1134.34 26.1121 1139.48 32.6746 Q1144.67 39.2371 1144.67 49.9314 Q1144.67 60.6258 1139.48 67.1883 Q1134.34 73.7508 1126.08 73.7508 Q1121.09 73.7508 1117.49 71.8063 Q1113.92 69.8214 1111.57 65.7705 L1111.57 72.576 L1104.08 72.576 L1104.08 9.54393 L1111.57 9.54393 L1111.57 34.0924 Z\" fill=\"#000000\" fill-rule=\"nonzero\" fill-opacity=\"1\" /><path clip-path=\"url(#clip840)\" d=\"M1177.64 49.7694 Q1168.61 49.7694 1165.13 51.8354 Q1161.64 53.9013 1161.64 58.8839 Q1161.64 62.8538 1164.23 65.2034 Q1166.87 67.5124 1171.36 67.5124 Q1177.56 67.5124 1181.29 63.1374 Q1185.06 58.7219 1185.06 51.4303 L1185.06 49.7694 L1177.64 49.7694 M1192.51 46.6907 L1192.51 72.576 L1185.06 72.576 L1185.06 65.6895 Q1182.5 69.8214 1178.7 71.8063 Q1174.89 73.7508 1169.38 73.7508 Q1162.41 73.7508 1158.28 69.8619 Q1154.19 65.9325 1154.19 59.3701 Q1154.19 51.7138 1159.29 47.825 Q1164.44 43.9361 1174.61 43.9361 L1185.06 43.9361 L1185.06 43.2069 Q1185.06 38.0623 1181.65 35.2672 Q1178.29 32.4315 1172.17 32.4315 Q1168.29 32.4315 1164.6 33.3632 Q1160.91 34.295 1157.51 36.1584 L1157.51 29.2718 Q1161.6 27.692 1165.45 26.9223 Q1169.3 26.1121 1172.94 26.1121 Q1182.79 26.1121 1187.65 31.2163 Q1192.51 36.3204 1192.51 46.6907 Z\" fill=\"#000000\" fill-rule=\"nonzero\" fill-opacity=\"1\" /><path clip-path=\"url(#clip840)\" d=\"M1234.15 34.1734 Q1232.9 33.4443 1231.4 33.1202 Q1229.94 32.7556 1228.16 32.7556 Q1221.84 32.7556 1218.44 36.8875 Q1215.07 40.9789 1215.07 48.6757 L1215.07 72.576 L1207.58 72.576 L1207.58 27.2059 L1215.07 27.2059 L1215.07 34.2544 Q1217.42 30.1225 1221.19 28.1376 Q1224.96 26.1121 1230.35 26.1121 Q1231.12 26.1121 1232.05 26.2337 Q1232.98 26.3147 1234.11 26.5172 L1234.15 34.1734 Z\" fill=\"#000000\" fill-rule=\"nonzero\" fill-opacity=\"1\" /><path clip-path=\"url(#clip840)\" d=\"M1232.9 46.5287 L1254.73 46.5287 L1254.73 53.1722 L1232.9 53.1722 L1232.9 46.5287 Z\" fill=\"#000000\" fill-rule=\"nonzero\" fill-opacity=\"1\" /><path clip-path=\"url(#clip840)\" d=\"M1289.57 9.54393 L1289.57 15.7418 L1282.44 15.7418 Q1278.43 15.7418 1276.85 17.3622 Q1275.31 18.9825 1275.31 23.1955 L1275.31 27.2059 L1287.58 27.2059 L1287.58 32.9987 L1275.31 32.9987 L1275.31 72.576 L1267.82 72.576 L1267.82 32.9987 L1260.69 32.9987 L1260.69 27.2059 L1267.82 27.2059 L1267.82 24.0462 Q1267.82 16.471 1271.34 13.0277 Q1274.87 9.54393 1282.52 9.54393 L1289.57 9.54393 Z\" fill=\"#000000\" fill-rule=\"nonzero\" fill-opacity=\"1\" /><path clip-path=\"url(#clip840)\" d=\"M1313.39 32.4315 Q1307.39 32.4315 1303.91 37.1306 Q1300.43 41.7891 1300.43 49.9314 Q1300.43 58.0738 1303.87 62.7728 Q1307.35 67.4314 1313.39 67.4314 Q1319.34 67.4314 1322.83 62.7323 Q1326.31 58.0333 1326.31 49.9314 Q1326.31 41.8701 1322.83 37.1711 Q1319.34 32.4315 1313.39 32.4315 M1313.39 26.1121 Q1323.11 26.1121 1328.66 32.4315 Q1334.21 38.7509 1334.21 49.9314 Q1334.21 61.0714 1328.66 67.4314 Q1323.11 73.7508 1313.39 73.7508 Q1303.63 73.7508 1298.08 67.4314 Q1292.57 61.0714 1292.57 49.9314 Q1292.57 38.7509 1298.08 32.4315 Q1303.63 26.1121 1313.39 26.1121 Z\" fill=\"#000000\" fill-rule=\"nonzero\" fill-opacity=\"1\" /><path clip-path=\"url(#clip840)\" d=\"M1364.15 32.4315 Q1358.15 32.4315 1354.67 37.1306 Q1351.18 41.7891 1351.18 49.9314 Q1351.18 58.0738 1354.63 62.7728 Q1358.11 67.4314 1364.15 67.4314 Q1370.1 67.4314 1373.59 62.7323 Q1377.07 58.0333 1377.07 49.9314 Q1377.07 41.8701 1373.59 37.1711 Q1370.1 32.4315 1364.15 32.4315 M1364.15 26.1121 Q1373.87 26.1121 1379.42 32.4315 Q1384.97 38.7509 1384.97 49.9314 Q1384.97 61.0714 1379.42 67.4314 Q1373.87 73.7508 1364.15 73.7508 Q1354.38 73.7508 1348.83 67.4314 Q1343.33 61.0714 1343.33 49.9314 Q1343.33 38.7509 1348.83 32.4315 Q1354.38 26.1121 1364.15 26.1121 Z\" fill=\"#000000\" fill-rule=\"nonzero\" fill-opacity=\"1\" /><path clip-path=\"url(#clip840)\" d=\"M1430.91 65.7705 L1430.91 89.8329 L1423.41 89.8329 L1423.41 27.2059 L1430.91 27.2059 L1430.91 34.0924 Q1433.26 30.0415 1436.82 28.0971 Q1440.43 26.1121 1445.41 26.1121 Q1453.67 26.1121 1458.82 32.6746 Q1464 39.2371 1464 49.9314 Q1464 60.6258 1458.82 67.1883 Q1453.67 73.7508 1445.41 73.7508 Q1440.43 73.7508 1436.82 71.8063 Q1433.26 69.8214 1430.91 65.7705 M1456.26 49.9314 Q1456.26 41.7081 1452.86 37.0496 Q1449.5 32.3505 1443.59 32.3505 Q1437.67 32.3505 1434.27 37.0496 Q1430.91 41.7081 1430.91 49.9314 Q1430.91 58.1548 1434.27 62.8538 Q1437.67 67.5124 1443.59 67.5124 Q1449.5 67.5124 1452.86 62.8538 Q1456.26 58.1548 1456.26 49.9314 Z\" fill=\"#000000\" fill-rule=\"nonzero\" fill-opacity=\"1\" /><path clip-path=\"url(#clip840)\" d=\"M1476.36 9.54393 L1483.81 9.54393 L1483.81 72.576 L1476.36 72.576 L1476.36 9.54393 Z\" fill=\"#000000\" fill-rule=\"nonzero\" fill-opacity=\"1\" /><path clip-path=\"url(#clip840)\" d=\"M1516.99 32.4315 Q1510.99 32.4315 1507.51 37.1306 Q1504.02 41.7891 1504.02 49.9314 Q1504.02 58.0738 1507.47 62.7728 Q1510.95 67.4314 1516.99 67.4314 Q1522.94 67.4314 1526.43 62.7323 Q1529.91 58.0333 1529.91 49.9314 Q1529.91 41.8701 1526.43 37.1711 Q1522.94 32.4315 1516.99 32.4315 M1516.99 26.1121 Q1526.71 26.1121 1532.26 32.4315 Q1537.81 38.7509 1537.81 49.9314 Q1537.81 61.0714 1532.26 67.4314 Q1526.71 73.7508 1516.99 73.7508 Q1507.22 73.7508 1501.68 67.4314 Q1496.17 61.0714 1496.17 49.9314 Q1496.17 38.7509 1501.68 32.4315 Q1507.22 26.1121 1516.99 26.1121 Z\" fill=\"#000000\" fill-rule=\"nonzero\" fill-opacity=\"1\" /><path clip-path=\"url(#clip840)\" d=\"M1557.54 14.324 L1557.54 27.2059 L1572.89 27.2059 L1572.89 32.9987 L1557.54 32.9987 L1557.54 57.6282 Q1557.54 63.1779 1559.04 64.7578 Q1560.58 66.3376 1565.23 66.3376 L1572.89 66.3376 L1572.89 72.576 L1565.23 72.576 Q1556.61 72.576 1553.32 69.3758 Q1550.04 66.1351 1550.04 57.6282 L1550.04 32.9987 L1544.57 32.9987 L1544.57 27.2059 L1550.04 27.2059 L1550.04 14.324 L1557.54 14.324 Z\" fill=\"#000000\" fill-rule=\"nonzero\" fill-opacity=\"1\" /><circle clip-path=\"url(#clip842)\" cx=\"2113.31\" cy=\"303.267\" r=\"10.8\" fill=\"#0000ff\" fill-rule=\"evenodd\" fill-opacity=\"1\" stroke=\"#000000\" stroke-opacity=\"1\" stroke-width=\"3.2\"/>\n",
       "<circle clip-path=\"url(#clip842)\" cx=\"1675.47\" cy=\"581.634\" r=\"10.8\" fill=\"#0000ff\" fill-rule=\"evenodd\" fill-opacity=\"1\" stroke=\"#000000\" stroke-opacity=\"1\" stroke-width=\"3.2\"/>\n",
       "<circle clip-path=\"url(#clip842)\" cx=\"672.09\" cy=\"1075.55\" r=\"10.8\" fill=\"#0000ff\" fill-rule=\"evenodd\" fill-opacity=\"1\" stroke=\"#000000\" stroke-opacity=\"1\" stroke-width=\"3.2\"/>\n",
       "<circle clip-path=\"url(#clip842)\" cx=\"1399.43\" cy=\"736.013\" r=\"10.8\" fill=\"#0000ff\" fill-rule=\"evenodd\" fill-opacity=\"1\" stroke=\"#000000\" stroke-opacity=\"1\" stroke-width=\"3.2\"/>\n",
       "<circle clip-path=\"url(#clip842)\" cx=\"1775.06\" cy=\"550.335\" r=\"10.8\" fill=\"#0000ff\" fill-rule=\"evenodd\" fill-opacity=\"1\" stroke=\"#000000\" stroke-opacity=\"1\" stroke-width=\"3.2\"/>\n",
       "<circle clip-path=\"url(#clip842)\" cx=\"1389.61\" cy=\"694.154\" r=\"10.8\" fill=\"#0000ff\" fill-rule=\"evenodd\" fill-opacity=\"1\" stroke=\"#000000\" stroke-opacity=\"1\" stroke-width=\"3.2\"/>\n",
       "<circle clip-path=\"url(#clip842)\" cx=\"672.175\" cy=\"1148.65\" r=\"10.8\" fill=\"#0000ff\" fill-rule=\"evenodd\" fill-opacity=\"1\" stroke=\"#000000\" stroke-opacity=\"1\" stroke-width=\"3.2\"/>\n",
       "<circle clip-path=\"url(#clip842)\" cx=\"1444.31\" cy=\"688.64\" r=\"10.8\" fill=\"#0000ff\" fill-rule=\"evenodd\" fill-opacity=\"1\" stroke=\"#000000\" stroke-opacity=\"1\" stroke-width=\"3.2\"/>\n",
       "<circle clip-path=\"url(#clip842)\" cx=\"1104.94\" cy=\"823.649\" r=\"10.8\" fill=\"#0000ff\" fill-rule=\"evenodd\" fill-opacity=\"1\" stroke=\"#000000\" stroke-opacity=\"1\" stroke-width=\"3.2\"/>\n",
       "<circle clip-path=\"url(#clip842)\" cx=\"1921.24\" cy=\"368.875\" r=\"10.8\" fill=\"#0000ff\" fill-rule=\"evenodd\" fill-opacity=\"1\" stroke=\"#000000\" stroke-opacity=\"1\" stroke-width=\"3.2\"/>\n",
       "<circle clip-path=\"url(#clip842)\" cx=\"338.358\" cy=\"1329.25\" r=\"10.8\" fill=\"#0000ff\" fill-rule=\"evenodd\" fill-opacity=\"1\" stroke=\"#000000\" stroke-opacity=\"1\" stroke-width=\"3.2\"/>\n",
       "<circle clip-path=\"url(#clip842)\" cx=\"399.019\" cy=\"1278.54\" r=\"10.8\" fill=\"#0000ff\" fill-rule=\"evenodd\" fill-opacity=\"1\" stroke=\"#000000\" stroke-opacity=\"1\" stroke-width=\"3.2\"/>\n",
       "<circle clip-path=\"url(#clip842)\" cx=\"1124.32\" cy=\"815.21\" r=\"10.8\" fill=\"#0000ff\" fill-rule=\"evenodd\" fill-opacity=\"1\" stroke=\"#000000\" stroke-opacity=\"1\" stroke-width=\"3.2\"/>\n",
       "<circle clip-path=\"url(#clip842)\" cx=\"1456.05\" cy=\"701.452\" r=\"10.8\" fill=\"#0000ff\" fill-rule=\"evenodd\" fill-opacity=\"1\" stroke=\"#000000\" stroke-opacity=\"1\" stroke-width=\"3.2\"/>\n",
       "<circle clip-path=\"url(#clip842)\" cx=\"1877.69\" cy=\"464.974\" r=\"10.8\" fill=\"#0000ff\" fill-rule=\"evenodd\" fill-opacity=\"1\" stroke=\"#000000\" stroke-opacity=\"1\" stroke-width=\"3.2\"/>\n",
       "<circle clip-path=\"url(#clip842)\" cx=\"260.438\" cy=\"1332.53\" r=\"10.8\" fill=\"#0000ff\" fill-rule=\"evenodd\" fill-opacity=\"1\" stroke=\"#000000\" stroke-opacity=\"1\" stroke-width=\"3.2\"/>\n",
       "<circle clip-path=\"url(#clip842)\" cx=\"1615.85\" cy=\"606.546\" r=\"10.8\" fill=\"#0000ff\" fill-rule=\"evenodd\" fill-opacity=\"1\" stroke=\"#000000\" stroke-opacity=\"1\" stroke-width=\"3.2\"/>\n",
       "<circle clip-path=\"url(#clip842)\" cx=\"1251.18\" cy=\"832.716\" r=\"10.8\" fill=\"#0000ff\" fill-rule=\"evenodd\" fill-opacity=\"1\" stroke=\"#000000\" stroke-opacity=\"1\" stroke-width=\"3.2\"/>\n",
       "<circle clip-path=\"url(#clip842)\" cx=\"1257.18\" cy=\"768.541\" r=\"10.8\" fill=\"#0000ff\" fill-rule=\"evenodd\" fill-opacity=\"1\" stroke=\"#000000\" stroke-opacity=\"1\" stroke-width=\"3.2\"/>\n",
       "<circle clip-path=\"url(#clip842)\" cx=\"1521.66\" cy=\"631.53\" r=\"10.8\" fill=\"#0000ff\" fill-rule=\"evenodd\" fill-opacity=\"1\" stroke=\"#000000\" stroke-opacity=\"1\" stroke-width=\"3.2\"/>\n",
       "<circle clip-path=\"url(#clip842)\" cx=\"1536.29\" cy=\"657.787\" r=\"10.8\" fill=\"#0000ff\" fill-rule=\"evenodd\" fill-opacity=\"1\" stroke=\"#000000\" stroke-opacity=\"1\" stroke-width=\"3.2\"/>\n",
       "<circle clip-path=\"url(#clip842)\" cx=\"425.895\" cy=\"1224.89\" r=\"10.8\" fill=\"#0000ff\" fill-rule=\"evenodd\" fill-opacity=\"1\" stroke=\"#000000\" stroke-opacity=\"1\" stroke-width=\"3.2\"/>\n",
       "<circle clip-path=\"url(#clip842)\" cx=\"1737.19\" cy=\"478.271\" r=\"10.8\" fill=\"#0000ff\" fill-rule=\"evenodd\" fill-opacity=\"1\" stroke=\"#000000\" stroke-opacity=\"1\" stroke-width=\"3.2\"/>\n",
       "<circle clip-path=\"url(#clip842)\" cx=\"983.874\" cy=\"959.2\" r=\"10.8\" fill=\"#0000ff\" fill-rule=\"evenodd\" fill-opacity=\"1\" stroke=\"#000000\" stroke-opacity=\"1\" stroke-width=\"3.2\"/>\n",
       "<circle clip-path=\"url(#clip842)\" cx=\"1790.28\" cy=\"504.341\" r=\"10.8\" fill=\"#0000ff\" fill-rule=\"evenodd\" fill-opacity=\"1\" stroke=\"#000000\" stroke-opacity=\"1\" stroke-width=\"3.2\"/>\n",
       "<circle clip-path=\"url(#clip842)\" cx=\"735.35\" cy=\"1116.36\" r=\"10.8\" fill=\"#0000ff\" fill-rule=\"evenodd\" fill-opacity=\"1\" stroke=\"#000000\" stroke-opacity=\"1\" stroke-width=\"3.2\"/>\n",
       "<circle clip-path=\"url(#clip842)\" cx=\"1536.65\" cy=\"652.773\" r=\"10.8\" fill=\"#0000ff\" fill-rule=\"evenodd\" fill-opacity=\"1\" stroke=\"#000000\" stroke-opacity=\"1\" stroke-width=\"3.2\"/>\n",
       "<circle clip-path=\"url(#clip842)\" cx=\"844.509\" cy=\"1037.93\" r=\"10.8\" fill=\"#0000ff\" fill-rule=\"evenodd\" fill-opacity=\"1\" stroke=\"#000000\" stroke-opacity=\"1\" stroke-width=\"3.2\"/>\n",
       "<circle clip-path=\"url(#clip842)\" cx=\"562.556\" cy=\"1134.2\" r=\"10.8\" fill=\"#0000ff\" fill-rule=\"evenodd\" fill-opacity=\"1\" stroke=\"#000000\" stroke-opacity=\"1\" stroke-width=\"3.2\"/>\n",
       "<circle clip-path=\"url(#clip842)\" cx=\"289.075\" cy=\"1317.74\" r=\"10.8\" fill=\"#0000ff\" fill-rule=\"evenodd\" fill-opacity=\"1\" stroke=\"#000000\" stroke-opacity=\"1\" stroke-width=\"3.2\"/>\n",
       "<circle clip-path=\"url(#clip842)\" cx=\"1274.8\" cy=\"728.257\" r=\"10.8\" fill=\"#0000ff\" fill-rule=\"evenodd\" fill-opacity=\"1\" stroke=\"#000000\" stroke-opacity=\"1\" stroke-width=\"3.2\"/>\n",
       "<circle clip-path=\"url(#clip842)\" cx=\"743.729\" cy=\"1130.7\" r=\"10.8\" fill=\"#0000ff\" fill-rule=\"evenodd\" fill-opacity=\"1\" stroke=\"#000000\" stroke-opacity=\"1\" stroke-width=\"3.2\"/>\n",
       "<circle clip-path=\"url(#clip842)\" cx=\"2036.48\" cy=\"381.849\" r=\"10.8\" fill=\"#0000ff\" fill-rule=\"evenodd\" fill-opacity=\"1\" stroke=\"#000000\" stroke-opacity=\"1\" stroke-width=\"3.2\"/>\n",
       "<circle clip-path=\"url(#clip842)\" cx=\"655.722\" cy=\"1141.84\" r=\"10.8\" fill=\"#0000ff\" fill-rule=\"evenodd\" fill-opacity=\"1\" stroke=\"#000000\" stroke-opacity=\"1\" stroke-width=\"3.2\"/>\n",
       "<circle clip-path=\"url(#clip842)\" cx=\"659.924\" cy=\"1163.13\" r=\"10.8\" fill=\"#0000ff\" fill-rule=\"evenodd\" fill-opacity=\"1\" stroke=\"#000000\" stroke-opacity=\"1\" stroke-width=\"3.2\"/>\n",
       "<circle clip-path=\"url(#clip842)\" cx=\"2150.49\" cy=\"278.259\" r=\"10.8\" fill=\"#0000ff\" fill-rule=\"evenodd\" fill-opacity=\"1\" stroke=\"#000000\" stroke-opacity=\"1\" stroke-width=\"3.2\"/>\n",
       "<circle clip-path=\"url(#clip842)\" cx=\"1708.93\" cy=\"504.283\" r=\"10.8\" fill=\"#0000ff\" fill-rule=\"evenodd\" fill-opacity=\"1\" stroke=\"#000000\" stroke-opacity=\"1\" stroke-width=\"3.2\"/>\n",
       "<circle clip-path=\"url(#clip842)\" cx=\"2030.96\" cy=\"304.892\" r=\"10.8\" fill=\"#0000ff\" fill-rule=\"evenodd\" fill-opacity=\"1\" stroke=\"#000000\" stroke-opacity=\"1\" stroke-width=\"3.2\"/>\n",
       "<circle clip-path=\"url(#clip842)\" cx=\"490.244\" cy=\"1263.26\" r=\"10.8\" fill=\"#0000ff\" fill-rule=\"evenodd\" fill-opacity=\"1\" stroke=\"#000000\" stroke-opacity=\"1\" stroke-width=\"3.2\"/>\n",
       "<circle clip-path=\"url(#clip842)\" cx=\"294.119\" cy=\"1352.93\" r=\"10.8\" fill=\"#0000ff\" fill-rule=\"evenodd\" fill-opacity=\"1\" stroke=\"#000000\" stroke-opacity=\"1\" stroke-width=\"3.2\"/>\n",
       "<circle clip-path=\"url(#clip842)\" cx=\"484.184\" cy=\"1261.81\" r=\"10.8\" fill=\"#0000ff\" fill-rule=\"evenodd\" fill-opacity=\"1\" stroke=\"#000000\" stroke-opacity=\"1\" stroke-width=\"3.2\"/>\n",
       "<circle clip-path=\"url(#clip842)\" cx=\"269.021\" cy=\"1340.71\" r=\"10.8\" fill=\"#0000ff\" fill-rule=\"evenodd\" fill-opacity=\"1\" stroke=\"#000000\" stroke-opacity=\"1\" stroke-width=\"3.2\"/>\n",
       "<circle clip-path=\"url(#clip842)\" cx=\"1054.33\" cy=\"858.393\" r=\"10.8\" fill=\"#0000ff\" fill-rule=\"evenodd\" fill-opacity=\"1\" stroke=\"#000000\" stroke-opacity=\"1\" stroke-width=\"3.2\"/>\n",
       "<circle clip-path=\"url(#clip842)\" cx=\"1210.98\" cy=\"820.136\" r=\"10.8\" fill=\"#0000ff\" fill-rule=\"evenodd\" fill-opacity=\"1\" stroke=\"#000000\" stroke-opacity=\"1\" stroke-width=\"3.2\"/>\n",
       "<circle clip-path=\"url(#clip842)\" cx=\"1257.79\" cy=\"758.32\" r=\"10.8\" fill=\"#0000ff\" fill-rule=\"evenodd\" fill-opacity=\"1\" stroke=\"#000000\" stroke-opacity=\"1\" stroke-width=\"3.2\"/>\n",
       "<circle clip-path=\"url(#clip842)\" cx=\"427.416\" cy=\"1285.29\" r=\"10.8\" fill=\"#0000ff\" fill-rule=\"evenodd\" fill-opacity=\"1\" stroke=\"#000000\" stroke-opacity=\"1\" stroke-width=\"3.2\"/>\n",
       "<circle clip-path=\"url(#clip842)\" cx=\"1232.53\" cy=\"805.323\" r=\"10.8\" fill=\"#0000ff\" fill-rule=\"evenodd\" fill-opacity=\"1\" stroke=\"#000000\" stroke-opacity=\"1\" stroke-width=\"3.2\"/>\n",
       "<circle clip-path=\"url(#clip842)\" cx=\"624.957\" cy=\"1171.51\" r=\"10.8\" fill=\"#0000ff\" fill-rule=\"evenodd\" fill-opacity=\"1\" stroke=\"#000000\" stroke-opacity=\"1\" stroke-width=\"3.2\"/>\n",
       "<circle clip-path=\"url(#clip842)\" cx=\"693.196\" cy=\"1121.47\" r=\"10.8\" fill=\"#0000ff\" fill-rule=\"evenodd\" fill-opacity=\"1\" stroke=\"#000000\" stroke-opacity=\"1\" stroke-width=\"3.2\"/>\n",
       "<circle clip-path=\"url(#clip842)\" cx=\"1340.84\" cy=\"694.094\" r=\"10.8\" fill=\"#0000ff\" fill-rule=\"evenodd\" fill-opacity=\"1\" stroke=\"#000000\" stroke-opacity=\"1\" stroke-width=\"3.2\"/>\n",
       "<circle clip-path=\"url(#clip842)\" cx=\"1652.31\" cy=\"597.423\" r=\"10.8\" fill=\"#0000ff\" fill-rule=\"evenodd\" fill-opacity=\"1\" stroke=\"#000000\" stroke-opacity=\"1\" stroke-width=\"3.2\"/>\n",
       "<circle clip-path=\"url(#clip842)\" cx=\"1276.34\" cy=\"767.268\" r=\"10.8\" fill=\"#0000ff\" fill-rule=\"evenodd\" fill-opacity=\"1\" stroke=\"#000000\" stroke-opacity=\"1\" stroke-width=\"3.2\"/>\n",
       "<circle clip-path=\"url(#clip842)\" cx=\"808.361\" cy=\"989.996\" r=\"10.8\" fill=\"#0000ff\" fill-rule=\"evenodd\" fill-opacity=\"1\" stroke=\"#000000\" stroke-opacity=\"1\" stroke-width=\"3.2\"/>\n",
       "<circle clip-path=\"url(#clip842)\" cx=\"1066.81\" cy=\"947.764\" r=\"10.8\" fill=\"#0000ff\" fill-rule=\"evenodd\" fill-opacity=\"1\" stroke=\"#000000\" stroke-opacity=\"1\" stroke-width=\"3.2\"/>\n",
       "<circle clip-path=\"url(#clip842)\" cx=\"873.54\" cy=\"1042.5\" r=\"10.8\" fill=\"#0000ff\" fill-rule=\"evenodd\" fill-opacity=\"1\" stroke=\"#000000\" stroke-opacity=\"1\" stroke-width=\"3.2\"/>\n",
       "<circle clip-path=\"url(#clip842)\" cx=\"393.762\" cy=\"1258.1\" r=\"10.8\" fill=\"#0000ff\" fill-rule=\"evenodd\" fill-opacity=\"1\" stroke=\"#000000\" stroke-opacity=\"1\" stroke-width=\"3.2\"/>\n",
       "<circle clip-path=\"url(#clip842)\" cx=\"826.447\" cy=\"986.859\" r=\"10.8\" fill=\"#0000ff\" fill-rule=\"evenodd\" fill-opacity=\"1\" stroke=\"#000000\" stroke-opacity=\"1\" stroke-width=\"3.2\"/>\n",
       "<circle clip-path=\"url(#clip842)\" cx=\"1084.42\" cy=\"836.452\" r=\"10.8\" fill=\"#0000ff\" fill-rule=\"evenodd\" fill-opacity=\"1\" stroke=\"#000000\" stroke-opacity=\"1\" stroke-width=\"3.2\"/>\n",
       "<circle clip-path=\"url(#clip842)\" cx=\"668.241\" cy=\"1132.06\" r=\"10.8\" fill=\"#0000ff\" fill-rule=\"evenodd\" fill-opacity=\"1\" stroke=\"#000000\" stroke-opacity=\"1\" stroke-width=\"3.2\"/>\n",
       "<circle clip-path=\"url(#clip842)\" cx=\"1706.85\" cy=\"576.552\" r=\"10.8\" fill=\"#0000ff\" fill-rule=\"evenodd\" fill-opacity=\"1\" stroke=\"#000000\" stroke-opacity=\"1\" stroke-width=\"3.2\"/>\n",
       "<circle clip-path=\"url(#clip842)\" cx=\"900.558\" cy=\"1022.1\" r=\"10.8\" fill=\"#0000ff\" fill-rule=\"evenodd\" fill-opacity=\"1\" stroke=\"#000000\" stroke-opacity=\"1\" stroke-width=\"3.2\"/>\n",
       "<circle clip-path=\"url(#clip842)\" cx=\"1813.97\" cy=\"528.431\" r=\"10.8\" fill=\"#0000ff\" fill-rule=\"evenodd\" fill-opacity=\"1\" stroke=\"#000000\" stroke-opacity=\"1\" stroke-width=\"3.2\"/>\n",
       "<circle clip-path=\"url(#clip842)\" cx=\"1936.49\" cy=\"460.692\" r=\"10.8\" fill=\"#0000ff\" fill-rule=\"evenodd\" fill-opacity=\"1\" stroke=\"#000000\" stroke-opacity=\"1\" stroke-width=\"3.2\"/>\n",
       "<circle clip-path=\"url(#clip842)\" cx=\"454.258\" cy=\"1238.03\" r=\"10.8\" fill=\"#0000ff\" fill-rule=\"evenodd\" fill-opacity=\"1\" stroke=\"#000000\" stroke-opacity=\"1\" stroke-width=\"3.2\"/>\n",
       "<circle clip-path=\"url(#clip842)\" cx=\"1810.81\" cy=\"459.986\" r=\"10.8\" fill=\"#0000ff\" fill-rule=\"evenodd\" fill-opacity=\"1\" stroke=\"#000000\" stroke-opacity=\"1\" stroke-width=\"3.2\"/>\n",
       "<circle clip-path=\"url(#clip842)\" cx=\"1325.36\" cy=\"747.887\" r=\"10.8\" fill=\"#0000ff\" fill-rule=\"evenodd\" fill-opacity=\"1\" stroke=\"#000000\" stroke-opacity=\"1\" stroke-width=\"3.2\"/>\n",
       "<circle clip-path=\"url(#clip842)\" cx=\"494.79\" cy=\"1240.06\" r=\"10.8\" fill=\"#0000ff\" fill-rule=\"evenodd\" fill-opacity=\"1\" stroke=\"#000000\" stroke-opacity=\"1\" stroke-width=\"3.2\"/>\n",
       "<circle clip-path=\"url(#clip842)\" cx=\"777.203\" cy=\"1024.59\" r=\"10.8\" fill=\"#0000ff\" fill-rule=\"evenodd\" fill-opacity=\"1\" stroke=\"#000000\" stroke-opacity=\"1\" stroke-width=\"3.2\"/>\n",
       "<circle clip-path=\"url(#clip842)\" cx=\"331.687\" cy=\"1281.1\" r=\"10.8\" fill=\"#0000ff\" fill-rule=\"evenodd\" fill-opacity=\"1\" stroke=\"#000000\" stroke-opacity=\"1\" stroke-width=\"3.2\"/>\n",
       "<circle clip-path=\"url(#clip842)\" cx=\"635.052\" cy=\"1162.35\" r=\"10.8\" fill=\"#0000ff\" fill-rule=\"evenodd\" fill-opacity=\"1\" stroke=\"#000000\" stroke-opacity=\"1\" stroke-width=\"3.2\"/>\n",
       "<circle clip-path=\"url(#clip842)\" cx=\"1127.78\" cy=\"848.132\" r=\"10.8\" fill=\"#0000ff\" fill-rule=\"evenodd\" fill-opacity=\"1\" stroke=\"#000000\" stroke-opacity=\"1\" stroke-width=\"3.2\"/>\n",
       "<circle clip-path=\"url(#clip842)\" cx=\"1268.28\" cy=\"741.446\" r=\"10.8\" fill=\"#0000ff\" fill-rule=\"evenodd\" fill-opacity=\"1\" stroke=\"#000000\" stroke-opacity=\"1\" stroke-width=\"3.2\"/>\n",
       "<circle clip-path=\"url(#clip842)\" cx=\"1702.37\" cy=\"564.185\" r=\"10.8\" fill=\"#0000ff\" fill-rule=\"evenodd\" fill-opacity=\"1\" stroke=\"#000000\" stroke-opacity=\"1\" stroke-width=\"3.2\"/>\n",
       "<circle clip-path=\"url(#clip842)\" cx=\"1967.9\" cy=\"434.014\" r=\"10.8\" fill=\"#0000ff\" fill-rule=\"evenodd\" fill-opacity=\"1\" stroke=\"#000000\" stroke-opacity=\"1\" stroke-width=\"3.2\"/>\n",
       "<circle clip-path=\"url(#clip842)\" cx=\"1616.6\" cy=\"597.163\" r=\"10.8\" fill=\"#0000ff\" fill-rule=\"evenodd\" fill-opacity=\"1\" stroke=\"#000000\" stroke-opacity=\"1\" stroke-width=\"3.2\"/>\n",
       "<circle clip-path=\"url(#clip842)\" cx=\"1492.2\" cy=\"703.031\" r=\"10.8\" fill=\"#0000ff\" fill-rule=\"evenodd\" fill-opacity=\"1\" stroke=\"#000000\" stroke-opacity=\"1\" stroke-width=\"3.2\"/>\n",
       "<circle clip-path=\"url(#clip842)\" cx=\"1107.36\" cy=\"832.634\" r=\"10.8\" fill=\"#0000ff\" fill-rule=\"evenodd\" fill-opacity=\"1\" stroke=\"#000000\" stroke-opacity=\"1\" stroke-width=\"3.2\"/>\n",
       "<circle clip-path=\"url(#clip842)\" cx=\"1919.84\" cy=\"368.823\" r=\"10.8\" fill=\"#0000ff\" fill-rule=\"evenodd\" fill-opacity=\"1\" stroke=\"#000000\" stroke-opacity=\"1\" stroke-width=\"3.2\"/>\n",
       "<circle clip-path=\"url(#clip842)\" cx=\"1833.21\" cy=\"435.229\" r=\"10.8\" fill=\"#0000ff\" fill-rule=\"evenodd\" fill-opacity=\"1\" stroke=\"#000000\" stroke-opacity=\"1\" stroke-width=\"3.2\"/>\n",
       "<circle clip-path=\"url(#clip842)\" cx=\"1240.38\" cy=\"812.633\" r=\"10.8\" fill=\"#0000ff\" fill-rule=\"evenodd\" fill-opacity=\"1\" stroke=\"#000000\" stroke-opacity=\"1\" stroke-width=\"3.2\"/>\n",
       "<circle clip-path=\"url(#clip842)\" cx=\"904.861\" cy=\"979.42\" r=\"10.8\" fill=\"#0000ff\" fill-rule=\"evenodd\" fill-opacity=\"1\" stroke=\"#000000\" stroke-opacity=\"1\" stroke-width=\"3.2\"/>\n",
       "<circle clip-path=\"url(#clip842)\" cx=\"1000.9\" cy=\"942.278\" r=\"10.8\" fill=\"#0000ff\" fill-rule=\"evenodd\" fill-opacity=\"1\" stroke=\"#000000\" stroke-opacity=\"1\" stroke-width=\"3.2\"/>\n",
       "<circle clip-path=\"url(#clip842)\" cx=\"1235.73\" cy=\"775.836\" r=\"10.8\" fill=\"#0000ff\" fill-rule=\"evenodd\" fill-opacity=\"1\" stroke=\"#000000\" stroke-opacity=\"1\" stroke-width=\"3.2\"/>\n",
       "<circle clip-path=\"url(#clip842)\" cx=\"2046.03\" cy=\"318.84\" r=\"10.8\" fill=\"#0000ff\" fill-rule=\"evenodd\" fill-opacity=\"1\" stroke=\"#000000\" stroke-opacity=\"1\" stroke-width=\"3.2\"/>\n",
       "<circle clip-path=\"url(#clip842)\" cx=\"2045.11\" cy=\"397.877\" r=\"10.8\" fill=\"#0000ff\" fill-rule=\"evenodd\" fill-opacity=\"1\" stroke=\"#000000\" stroke-opacity=\"1\" stroke-width=\"3.2\"/>\n",
       "<circle clip-path=\"url(#clip842)\" cx=\"1747.3\" cy=\"545.699\" r=\"10.8\" fill=\"#0000ff\" fill-rule=\"evenodd\" fill-opacity=\"1\" stroke=\"#000000\" stroke-opacity=\"1\" stroke-width=\"3.2\"/>\n",
       "<circle clip-path=\"url(#clip842)\" cx=\"1976.14\" cy=\"349.848\" r=\"10.8\" fill=\"#0000ff\" fill-rule=\"evenodd\" fill-opacity=\"1\" stroke=\"#000000\" stroke-opacity=\"1\" stroke-width=\"3.2\"/>\n",
       "<circle clip-path=\"url(#clip842)\" cx=\"1704.71\" cy=\"524.354\" r=\"10.8\" fill=\"#0000ff\" fill-rule=\"evenodd\" fill-opacity=\"1\" stroke=\"#000000\" stroke-opacity=\"1\" stroke-width=\"3.2\"/>\n",
       "<circle clip-path=\"url(#clip842)\" cx=\"2078.19\" cy=\"288.993\" r=\"10.8\" fill=\"#0000ff\" fill-rule=\"evenodd\" fill-opacity=\"1\" stroke=\"#000000\" stroke-opacity=\"1\" stroke-width=\"3.2\"/>\n",
       "<circle clip-path=\"url(#clip842)\" cx=\"489.808\" cy=\"1217\" r=\"10.8\" fill=\"#0000ff\" fill-rule=\"evenodd\" fill-opacity=\"1\" stroke=\"#000000\" stroke-opacity=\"1\" stroke-width=\"3.2\"/>\n",
       "<circle clip-path=\"url(#clip842)\" cx=\"473.567\" cy=\"1222.99\" r=\"10.8\" fill=\"#0000ff\" fill-rule=\"evenodd\" fill-opacity=\"1\" stroke=\"#000000\" stroke-opacity=\"1\" stroke-width=\"3.2\"/>\n",
       "<circle clip-path=\"url(#clip842)\" cx=\"677.635\" cy=\"1086.61\" r=\"10.8\" fill=\"#0000ff\" fill-rule=\"evenodd\" fill-opacity=\"1\" stroke=\"#000000\" stroke-opacity=\"1\" stroke-width=\"3.2\"/>\n",
       "<circle clip-path=\"url(#clip842)\" cx=\"1755.61\" cy=\"517.131\" r=\"10.8\" fill=\"#0000ff\" fill-rule=\"evenodd\" fill-opacity=\"1\" stroke=\"#000000\" stroke-opacity=\"1\" stroke-width=\"3.2\"/>\n",
       "<circle clip-path=\"url(#clip842)\" cx=\"1041.71\" cy=\"865.314\" r=\"10.8\" fill=\"#0000ff\" fill-rule=\"evenodd\" fill-opacity=\"1\" stroke=\"#000000\" stroke-opacity=\"1\" stroke-width=\"3.2\"/>\n",
       "<circle clip-path=\"url(#clip842)\" cx=\"828.773\" cy=\"1039.85\" r=\"10.8\" fill=\"#0000ff\" fill-rule=\"evenodd\" fill-opacity=\"1\" stroke=\"#000000\" stroke-opacity=\"1\" stroke-width=\"3.2\"/>\n",
       "<circle clip-path=\"url(#clip842)\" cx=\"844.641\" cy=\"1023.42\" r=\"10.8\" fill=\"#0000ff\" fill-rule=\"evenodd\" fill-opacity=\"1\" stroke=\"#000000\" stroke-opacity=\"1\" stroke-width=\"3.2\"/>\n",
       "<circle clip-path=\"url(#clip842)\" cx=\"1873.17\" cy=\"486.971\" r=\"10.8\" fill=\"#0000ff\" fill-rule=\"evenodd\" fill-opacity=\"1\" stroke=\"#000000\" stroke-opacity=\"1\" stroke-width=\"3.2\"/>\n",
       "<circle clip-path=\"url(#clip842)\" cx=\"361.683\" cy=\"1325.1\" r=\"10.8\" fill=\"#0000ff\" fill-rule=\"evenodd\" fill-opacity=\"1\" stroke=\"#000000\" stroke-opacity=\"1\" stroke-width=\"3.2\"/>\n",
       "<circle clip-path=\"url(#clip842)\" cx=\"606.648\" cy=\"1173.87\" r=\"10.8\" fill=\"#0000ff\" fill-rule=\"evenodd\" fill-opacity=\"1\" stroke=\"#000000\" stroke-opacity=\"1\" stroke-width=\"3.2\"/>\n",
       "<circle clip-path=\"url(#clip842)\" cx=\"1339.72\" cy=\"767.456\" r=\"10.8\" fill=\"#0000ff\" fill-rule=\"evenodd\" fill-opacity=\"1\" stroke=\"#000000\" stroke-opacity=\"1\" stroke-width=\"3.2\"/>\n",
       "<circle clip-path=\"url(#clip842)\" cx=\"2113.31\" cy=\"857.082\" r=\"10.8\" fill=\"#ff0000\" fill-rule=\"evenodd\" fill-opacity=\"1\" stroke=\"#000000\" stroke-opacity=\"1\" stroke-width=\"3.2\"/>\n",
       "<circle clip-path=\"url(#clip842)\" cx=\"1675.47\" cy=\"996.265\" r=\"10.8\" fill=\"#ff0000\" fill-rule=\"evenodd\" fill-opacity=\"1\" stroke=\"#000000\" stroke-opacity=\"1\" stroke-width=\"3.2\"/>\n",
       "<circle clip-path=\"url(#clip842)\" cx=\"672.09\" cy=\"1243.22\" r=\"10.8\" fill=\"#ff0000\" fill-rule=\"evenodd\" fill-opacity=\"1\" stroke=\"#000000\" stroke-opacity=\"1\" stroke-width=\"3.2\"/>\n",
       "<circle clip-path=\"url(#clip842)\" cx=\"1399.43\" cy=\"1073.45\" r=\"10.8\" fill=\"#ff0000\" fill-rule=\"evenodd\" fill-opacity=\"1\" stroke=\"#000000\" stroke-opacity=\"1\" stroke-width=\"3.2\"/>\n",
       "<circle clip-path=\"url(#clip842)\" cx=\"1775.06\" cy=\"980.616\" r=\"10.8\" fill=\"#ff0000\" fill-rule=\"evenodd\" fill-opacity=\"1\" stroke=\"#000000\" stroke-opacity=\"1\" stroke-width=\"3.2\"/>\n",
       "<circle clip-path=\"url(#clip842)\" cx=\"1389.61\" cy=\"1052.53\" r=\"10.8\" fill=\"#ff0000\" fill-rule=\"evenodd\" fill-opacity=\"1\" stroke=\"#000000\" stroke-opacity=\"1\" stroke-width=\"3.2\"/>\n",
       "<circle clip-path=\"url(#clip842)\" cx=\"672.175\" cy=\"1279.77\" r=\"10.8\" fill=\"#ff0000\" fill-rule=\"evenodd\" fill-opacity=\"1\" stroke=\"#000000\" stroke-opacity=\"1\" stroke-width=\"3.2\"/>\n",
       "<circle clip-path=\"url(#clip842)\" cx=\"1444.31\" cy=\"1049.77\" r=\"10.8\" fill=\"#ff0000\" fill-rule=\"evenodd\" fill-opacity=\"1\" stroke=\"#000000\" stroke-opacity=\"1\" stroke-width=\"3.2\"/>\n",
       "<circle clip-path=\"url(#clip842)\" cx=\"1104.94\" cy=\"1117.27\" r=\"10.8\" fill=\"#ff0000\" fill-rule=\"evenodd\" fill-opacity=\"1\" stroke=\"#000000\" stroke-opacity=\"1\" stroke-width=\"3.2\"/>\n",
       "<circle clip-path=\"url(#clip842)\" cx=\"1921.24\" cy=\"889.886\" r=\"10.8\" fill=\"#ff0000\" fill-rule=\"evenodd\" fill-opacity=\"1\" stroke=\"#000000\" stroke-opacity=\"1\" stroke-width=\"3.2\"/>\n",
       "<circle clip-path=\"url(#clip842)\" cx=\"338.358\" cy=\"1370.07\" r=\"10.8\" fill=\"#ff0000\" fill-rule=\"evenodd\" fill-opacity=\"1\" stroke=\"#000000\" stroke-opacity=\"1\" stroke-width=\"3.2\"/>\n",
       "<circle clip-path=\"url(#clip842)\" cx=\"399.019\" cy=\"1344.72\" r=\"10.8\" fill=\"#ff0000\" fill-rule=\"evenodd\" fill-opacity=\"1\" stroke=\"#000000\" stroke-opacity=\"1\" stroke-width=\"3.2\"/>\n",
       "<circle clip-path=\"url(#clip842)\" cx=\"1124.32\" cy=\"1113.05\" r=\"10.8\" fill=\"#ff0000\" fill-rule=\"evenodd\" fill-opacity=\"1\" stroke=\"#000000\" stroke-opacity=\"1\" stroke-width=\"3.2\"/>\n",
       "<circle clip-path=\"url(#clip842)\" cx=\"1456.05\" cy=\"1056.17\" r=\"10.8\" fill=\"#ff0000\" fill-rule=\"evenodd\" fill-opacity=\"1\" stroke=\"#000000\" stroke-opacity=\"1\" stroke-width=\"3.2\"/>\n",
       "<circle clip-path=\"url(#clip842)\" cx=\"1877.69\" cy=\"937.935\" r=\"10.8\" fill=\"#ff0000\" fill-rule=\"evenodd\" fill-opacity=\"1\" stroke=\"#000000\" stroke-opacity=\"1\" stroke-width=\"3.2\"/>\n",
       "<circle clip-path=\"url(#clip842)\" cx=\"260.438\" cy=\"1371.71\" r=\"10.8\" fill=\"#ff0000\" fill-rule=\"evenodd\" fill-opacity=\"1\" stroke=\"#000000\" stroke-opacity=\"1\" stroke-width=\"3.2\"/>\n",
       "<circle clip-path=\"url(#clip842)\" cx=\"1615.85\" cy=\"1008.72\" r=\"10.8\" fill=\"#ff0000\" fill-rule=\"evenodd\" fill-opacity=\"1\" stroke=\"#000000\" stroke-opacity=\"1\" stroke-width=\"3.2\"/>\n",
       "<circle clip-path=\"url(#clip842)\" cx=\"1251.18\" cy=\"1121.81\" r=\"10.8\" fill=\"#ff0000\" fill-rule=\"evenodd\" fill-opacity=\"1\" stroke=\"#000000\" stroke-opacity=\"1\" stroke-width=\"3.2\"/>\n",
       "<circle clip-path=\"url(#clip842)\" cx=\"1257.18\" cy=\"1089.72\" r=\"10.8\" fill=\"#ff0000\" fill-rule=\"evenodd\" fill-opacity=\"1\" stroke=\"#000000\" stroke-opacity=\"1\" stroke-width=\"3.2\"/>\n",
       "<circle clip-path=\"url(#clip842)\" cx=\"1521.66\" cy=\"1021.21\" r=\"10.8\" fill=\"#ff0000\" fill-rule=\"evenodd\" fill-opacity=\"1\" stroke=\"#000000\" stroke-opacity=\"1\" stroke-width=\"3.2\"/>\n",
       "<circle clip-path=\"url(#clip842)\" cx=\"1536.29\" cy=\"1034.34\" r=\"10.8\" fill=\"#ff0000\" fill-rule=\"evenodd\" fill-opacity=\"1\" stroke=\"#000000\" stroke-opacity=\"1\" stroke-width=\"3.2\"/>\n",
       "<circle clip-path=\"url(#clip842)\" cx=\"425.895\" cy=\"1317.89\" r=\"10.8\" fill=\"#ff0000\" fill-rule=\"evenodd\" fill-opacity=\"1\" stroke=\"#000000\" stroke-opacity=\"1\" stroke-width=\"3.2\"/>\n",
       "<circle clip-path=\"url(#clip842)\" cx=\"1737.19\" cy=\"944.584\" r=\"10.8\" fill=\"#ff0000\" fill-rule=\"evenodd\" fill-opacity=\"1\" stroke=\"#000000\" stroke-opacity=\"1\" stroke-width=\"3.2\"/>\n",
       "<circle clip-path=\"url(#clip842)\" cx=\"983.874\" cy=\"1185.05\" r=\"10.8\" fill=\"#ff0000\" fill-rule=\"evenodd\" fill-opacity=\"1\" stroke=\"#000000\" stroke-opacity=\"1\" stroke-width=\"3.2\"/>\n",
       "<circle clip-path=\"url(#clip842)\" cx=\"1790.28\" cy=\"957.619\" r=\"10.8\" fill=\"#ff0000\" fill-rule=\"evenodd\" fill-opacity=\"1\" stroke=\"#000000\" stroke-opacity=\"1\" stroke-width=\"3.2\"/>\n",
       "<circle clip-path=\"url(#clip842)\" cx=\"735.35\" cy=\"1263.63\" r=\"10.8\" fill=\"#ff0000\" fill-rule=\"evenodd\" fill-opacity=\"1\" stroke=\"#000000\" stroke-opacity=\"1\" stroke-width=\"3.2\"/>\n",
       "<circle clip-path=\"url(#clip842)\" cx=\"1536.65\" cy=\"1031.83\" r=\"10.8\" fill=\"#ff0000\" fill-rule=\"evenodd\" fill-opacity=\"1\" stroke=\"#000000\" stroke-opacity=\"1\" stroke-width=\"3.2\"/>\n",
       "<circle clip-path=\"url(#clip842)\" cx=\"844.509\" cy=\"1224.41\" r=\"10.8\" fill=\"#ff0000\" fill-rule=\"evenodd\" fill-opacity=\"1\" stroke=\"#000000\" stroke-opacity=\"1\" stroke-width=\"3.2\"/>\n",
       "<circle clip-path=\"url(#clip842)\" cx=\"562.556\" cy=\"1272.55\" r=\"10.8\" fill=\"#ff0000\" fill-rule=\"evenodd\" fill-opacity=\"1\" stroke=\"#000000\" stroke-opacity=\"1\" stroke-width=\"3.2\"/>\n",
       "<circle clip-path=\"url(#clip842)\" cx=\"289.075\" cy=\"1364.32\" r=\"10.8\" fill=\"#ff0000\" fill-rule=\"evenodd\" fill-opacity=\"1\" stroke=\"#000000\" stroke-opacity=\"1\" stroke-width=\"3.2\"/>\n",
       "<circle clip-path=\"url(#clip842)\" cx=\"1274.8\" cy=\"1069.58\" r=\"10.8\" fill=\"#ff0000\" fill-rule=\"evenodd\" fill-opacity=\"1\" stroke=\"#000000\" stroke-opacity=\"1\" stroke-width=\"3.2\"/>\n",
       "<circle clip-path=\"url(#clip842)\" cx=\"743.729\" cy=\"1270.8\" r=\"10.8\" fill=\"#ff0000\" fill-rule=\"evenodd\" fill-opacity=\"1\" stroke=\"#000000\" stroke-opacity=\"1\" stroke-width=\"3.2\"/>\n",
       "<circle clip-path=\"url(#clip842)\" cx=\"2036.48\" cy=\"896.373\" r=\"10.8\" fill=\"#ff0000\" fill-rule=\"evenodd\" fill-opacity=\"1\" stroke=\"#000000\" stroke-opacity=\"1\" stroke-width=\"3.2\"/>\n",
       "<circle clip-path=\"url(#clip842)\" cx=\"655.722\" cy=\"1276.37\" r=\"10.8\" fill=\"#ff0000\" fill-rule=\"evenodd\" fill-opacity=\"1\" stroke=\"#000000\" stroke-opacity=\"1\" stroke-width=\"3.2\"/>\n",
       "<circle clip-path=\"url(#clip842)\" cx=\"659.924\" cy=\"1287.01\" r=\"10.8\" fill=\"#ff0000\" fill-rule=\"evenodd\" fill-opacity=\"1\" stroke=\"#000000\" stroke-opacity=\"1\" stroke-width=\"3.2\"/>\n",
       "<circle clip-path=\"url(#clip842)\" cx=\"2150.49\" cy=\"844.578\" r=\"10.8\" fill=\"#ff0000\" fill-rule=\"evenodd\" fill-opacity=\"1\" stroke=\"#000000\" stroke-opacity=\"1\" stroke-width=\"3.2\"/>\n",
       "<circle clip-path=\"url(#clip842)\" cx=\"1708.93\" cy=\"957.59\" r=\"10.8\" fill=\"#ff0000\" fill-rule=\"evenodd\" fill-opacity=\"1\" stroke=\"#000000\" stroke-opacity=\"1\" stroke-width=\"3.2\"/>\n",
       "<circle clip-path=\"url(#clip842)\" cx=\"2030.96\" cy=\"857.895\" r=\"10.8\" fill=\"#ff0000\" fill-rule=\"evenodd\" fill-opacity=\"1\" stroke=\"#000000\" stroke-opacity=\"1\" stroke-width=\"3.2\"/>\n",
       "<circle clip-path=\"url(#clip842)\" cx=\"490.244\" cy=\"1337.08\" r=\"10.8\" fill=\"#ff0000\" fill-rule=\"evenodd\" fill-opacity=\"1\" stroke=\"#000000\" stroke-opacity=\"1\" stroke-width=\"3.2\"/>\n",
       "<circle clip-path=\"url(#clip842)\" cx=\"294.119\" cy=\"1381.91\" r=\"10.8\" fill=\"#ff0000\" fill-rule=\"evenodd\" fill-opacity=\"1\" stroke=\"#000000\" stroke-opacity=\"1\" stroke-width=\"3.2\"/>\n",
       "<circle clip-path=\"url(#clip842)\" cx=\"484.184\" cy=\"1336.36\" r=\"10.8\" fill=\"#ff0000\" fill-rule=\"evenodd\" fill-opacity=\"1\" stroke=\"#000000\" stroke-opacity=\"1\" stroke-width=\"3.2\"/>\n",
       "<circle clip-path=\"url(#clip842)\" cx=\"269.021\" cy=\"1375.8\" r=\"10.8\" fill=\"#ff0000\" fill-rule=\"evenodd\" fill-opacity=\"1\" stroke=\"#000000\" stroke-opacity=\"1\" stroke-width=\"3.2\"/>\n",
       "<circle clip-path=\"url(#clip842)\" cx=\"1054.33\" cy=\"1134.64\" r=\"10.8\" fill=\"#ff0000\" fill-rule=\"evenodd\" fill-opacity=\"1\" stroke=\"#000000\" stroke-opacity=\"1\" stroke-width=\"3.2\"/>\n",
       "<circle clip-path=\"url(#clip842)\" cx=\"1210.98\" cy=\"1115.52\" r=\"10.8\" fill=\"#ff0000\" fill-rule=\"evenodd\" fill-opacity=\"1\" stroke=\"#000000\" stroke-opacity=\"1\" stroke-width=\"3.2\"/>\n",
       "<circle clip-path=\"url(#clip842)\" cx=\"1257.79\" cy=\"1084.61\" r=\"10.8\" fill=\"#ff0000\" fill-rule=\"evenodd\" fill-opacity=\"1\" stroke=\"#000000\" stroke-opacity=\"1\" stroke-width=\"3.2\"/>\n",
       "<circle clip-path=\"url(#clip842)\" cx=\"427.416\" cy=\"1348.1\" r=\"10.8\" fill=\"#ff0000\" fill-rule=\"evenodd\" fill-opacity=\"1\" stroke=\"#000000\" stroke-opacity=\"1\" stroke-width=\"3.2\"/>\n",
       "<circle clip-path=\"url(#clip842)\" cx=\"1232.53\" cy=\"1108.11\" r=\"10.8\" fill=\"#ff0000\" fill-rule=\"evenodd\" fill-opacity=\"1\" stroke=\"#000000\" stroke-opacity=\"1\" stroke-width=\"3.2\"/>\n",
       "<circle clip-path=\"url(#clip842)\" cx=\"624.957\" cy=\"1291.2\" r=\"10.8\" fill=\"#ff0000\" fill-rule=\"evenodd\" fill-opacity=\"1\" stroke=\"#000000\" stroke-opacity=\"1\" stroke-width=\"3.2\"/>\n",
       "<circle clip-path=\"url(#clip842)\" cx=\"693.196\" cy=\"1266.18\" r=\"10.8\" fill=\"#ff0000\" fill-rule=\"evenodd\" fill-opacity=\"1\" stroke=\"#000000\" stroke-opacity=\"1\" stroke-width=\"3.2\"/>\n",
       "<circle clip-path=\"url(#clip842)\" cx=\"1340.84\" cy=\"1052.5\" r=\"10.8\" fill=\"#ff0000\" fill-rule=\"evenodd\" fill-opacity=\"1\" stroke=\"#000000\" stroke-opacity=\"1\" stroke-width=\"3.2\"/>\n",
       "<circle clip-path=\"url(#clip842)\" cx=\"1652.31\" cy=\"1004.16\" r=\"10.8\" fill=\"#ff0000\" fill-rule=\"evenodd\" fill-opacity=\"1\" stroke=\"#000000\" stroke-opacity=\"1\" stroke-width=\"3.2\"/>\n",
       "<circle clip-path=\"url(#clip842)\" cx=\"1276.34\" cy=\"1089.08\" r=\"10.8\" fill=\"#ff0000\" fill-rule=\"evenodd\" fill-opacity=\"1\" stroke=\"#000000\" stroke-opacity=\"1\" stroke-width=\"3.2\"/>\n",
       "<circle clip-path=\"url(#clip842)\" cx=\"808.361\" cy=\"1200.45\" r=\"10.8\" fill=\"#ff0000\" fill-rule=\"evenodd\" fill-opacity=\"1\" stroke=\"#000000\" stroke-opacity=\"1\" stroke-width=\"3.2\"/>\n",
       "<circle clip-path=\"url(#clip842)\" cx=\"1066.81\" cy=\"1179.33\" r=\"10.8\" fill=\"#ff0000\" fill-rule=\"evenodd\" fill-opacity=\"1\" stroke=\"#000000\" stroke-opacity=\"1\" stroke-width=\"3.2\"/>\n",
       "<circle clip-path=\"url(#clip842)\" cx=\"873.54\" cy=\"1226.7\" r=\"10.8\" fill=\"#ff0000\" fill-rule=\"evenodd\" fill-opacity=\"1\" stroke=\"#000000\" stroke-opacity=\"1\" stroke-width=\"3.2\"/>\n",
       "<circle clip-path=\"url(#clip842)\" cx=\"393.762\" cy=\"1334.5\" r=\"10.8\" fill=\"#ff0000\" fill-rule=\"evenodd\" fill-opacity=\"1\" stroke=\"#000000\" stroke-opacity=\"1\" stroke-width=\"3.2\"/>\n",
       "<circle clip-path=\"url(#clip842)\" cx=\"826.447\" cy=\"1198.88\" r=\"10.8\" fill=\"#ff0000\" fill-rule=\"evenodd\" fill-opacity=\"1\" stroke=\"#000000\" stroke-opacity=\"1\" stroke-width=\"3.2\"/>\n",
       "<circle clip-path=\"url(#clip842)\" cx=\"1084.42\" cy=\"1123.67\" r=\"10.8\" fill=\"#ff0000\" fill-rule=\"evenodd\" fill-opacity=\"1\" stroke=\"#000000\" stroke-opacity=\"1\" stroke-width=\"3.2\"/>\n",
       "<circle clip-path=\"url(#clip842)\" cx=\"668.241\" cy=\"1271.48\" r=\"10.8\" fill=\"#ff0000\" fill-rule=\"evenodd\" fill-opacity=\"1\" stroke=\"#000000\" stroke-opacity=\"1\" stroke-width=\"3.2\"/>\n",
       "<circle clip-path=\"url(#clip842)\" cx=\"1706.85\" cy=\"993.724\" r=\"10.8\" fill=\"#ff0000\" fill-rule=\"evenodd\" fill-opacity=\"1\" stroke=\"#000000\" stroke-opacity=\"1\" stroke-width=\"3.2\"/>\n",
       "<circle clip-path=\"url(#clip842)\" cx=\"900.558\" cy=\"1216.5\" r=\"10.8\" fill=\"#ff0000\" fill-rule=\"evenodd\" fill-opacity=\"1\" stroke=\"#000000\" stroke-opacity=\"1\" stroke-width=\"3.2\"/>\n",
       "<circle clip-path=\"url(#clip842)\" cx=\"1813.97\" cy=\"969.664\" r=\"10.8\" fill=\"#ff0000\" fill-rule=\"evenodd\" fill-opacity=\"1\" stroke=\"#000000\" stroke-opacity=\"1\" stroke-width=\"3.2\"/>\n",
       "<circle clip-path=\"url(#clip842)\" cx=\"1936.49\" cy=\"935.795\" r=\"10.8\" fill=\"#ff0000\" fill-rule=\"evenodd\" fill-opacity=\"1\" stroke=\"#000000\" stroke-opacity=\"1\" stroke-width=\"3.2\"/>\n",
       "<circle clip-path=\"url(#clip842)\" cx=\"454.258\" cy=\"1324.47\" r=\"10.8\" fill=\"#ff0000\" fill-rule=\"evenodd\" fill-opacity=\"1\" stroke=\"#000000\" stroke-opacity=\"1\" stroke-width=\"3.2\"/>\n",
       "<circle clip-path=\"url(#clip842)\" cx=\"1810.81\" cy=\"935.442\" r=\"10.8\" fill=\"#ff0000\" fill-rule=\"evenodd\" fill-opacity=\"1\" stroke=\"#000000\" stroke-opacity=\"1\" stroke-width=\"3.2\"/>\n",
       "<circle clip-path=\"url(#clip842)\" cx=\"1325.36\" cy=\"1079.39\" r=\"10.8\" fill=\"#ff0000\" fill-rule=\"evenodd\" fill-opacity=\"1\" stroke=\"#000000\" stroke-opacity=\"1\" stroke-width=\"3.2\"/>\n",
       "<circle clip-path=\"url(#clip842)\" cx=\"494.79\" cy=\"1325.48\" r=\"10.8\" fill=\"#ff0000\" fill-rule=\"evenodd\" fill-opacity=\"1\" stroke=\"#000000\" stroke-opacity=\"1\" stroke-width=\"3.2\"/>\n",
       "<circle clip-path=\"url(#clip842)\" cx=\"777.203\" cy=\"1217.74\" r=\"10.8\" fill=\"#ff0000\" fill-rule=\"evenodd\" fill-opacity=\"1\" stroke=\"#000000\" stroke-opacity=\"1\" stroke-width=\"3.2\"/>\n",
       "<circle clip-path=\"url(#clip842)\" cx=\"331.687\" cy=\"1346\" r=\"10.8\" fill=\"#ff0000\" fill-rule=\"evenodd\" fill-opacity=\"1\" stroke=\"#000000\" stroke-opacity=\"1\" stroke-width=\"3.2\"/>\n",
       "<circle clip-path=\"url(#clip842)\" cx=\"635.052\" cy=\"1286.62\" r=\"10.8\" fill=\"#ff0000\" fill-rule=\"evenodd\" fill-opacity=\"1\" stroke=\"#000000\" stroke-opacity=\"1\" stroke-width=\"3.2\"/>\n",
       "<circle clip-path=\"url(#clip842)\" cx=\"1127.78\" cy=\"1129.51\" r=\"10.8\" fill=\"#ff0000\" fill-rule=\"evenodd\" fill-opacity=\"1\" stroke=\"#000000\" stroke-opacity=\"1\" stroke-width=\"3.2\"/>\n",
       "<circle clip-path=\"url(#clip842)\" cx=\"1268.28\" cy=\"1076.17\" r=\"10.8\" fill=\"#ff0000\" fill-rule=\"evenodd\" fill-opacity=\"1\" stroke=\"#000000\" stroke-opacity=\"1\" stroke-width=\"3.2\"/>\n",
       "<circle clip-path=\"url(#clip842)\" cx=\"1702.37\" cy=\"987.541\" r=\"10.8\" fill=\"#ff0000\" fill-rule=\"evenodd\" fill-opacity=\"1\" stroke=\"#000000\" stroke-opacity=\"1\" stroke-width=\"3.2\"/>\n",
       "<circle clip-path=\"url(#clip842)\" cx=\"1967.9\" cy=\"922.455\" r=\"10.8\" fill=\"#ff0000\" fill-rule=\"evenodd\" fill-opacity=\"1\" stroke=\"#000000\" stroke-opacity=\"1\" stroke-width=\"3.2\"/>\n",
       "<circle clip-path=\"url(#clip842)\" cx=\"1616.6\" cy=\"1004.03\" r=\"10.8\" fill=\"#ff0000\" fill-rule=\"evenodd\" fill-opacity=\"1\" stroke=\"#000000\" stroke-opacity=\"1\" stroke-width=\"3.2\"/>\n",
       "<circle clip-path=\"url(#clip842)\" cx=\"1492.2\" cy=\"1056.96\" r=\"10.8\" fill=\"#ff0000\" fill-rule=\"evenodd\" fill-opacity=\"1\" stroke=\"#000000\" stroke-opacity=\"1\" stroke-width=\"3.2\"/>\n",
       "<circle clip-path=\"url(#clip842)\" cx=\"1107.36\" cy=\"1121.77\" r=\"10.8\" fill=\"#ff0000\" fill-rule=\"evenodd\" fill-opacity=\"1\" stroke=\"#000000\" stroke-opacity=\"1\" stroke-width=\"3.2\"/>\n",
       "<circle clip-path=\"url(#clip842)\" cx=\"1919.84\" cy=\"889.86\" r=\"10.8\" fill=\"#ff0000\" fill-rule=\"evenodd\" fill-opacity=\"1\" stroke=\"#000000\" stroke-opacity=\"1\" stroke-width=\"3.2\"/>\n",
       "<circle clip-path=\"url(#clip842)\" cx=\"1833.21\" cy=\"923.063\" r=\"10.8\" fill=\"#ff0000\" fill-rule=\"evenodd\" fill-opacity=\"1\" stroke=\"#000000\" stroke-opacity=\"1\" stroke-width=\"3.2\"/>\n",
       "<circle clip-path=\"url(#clip842)\" cx=\"1240.38\" cy=\"1111.76\" r=\"10.8\" fill=\"#ff0000\" fill-rule=\"evenodd\" fill-opacity=\"1\" stroke=\"#000000\" stroke-opacity=\"1\" stroke-width=\"3.2\"/>\n",
       "<circle clip-path=\"url(#clip842)\" cx=\"904.861\" cy=\"1195.16\" r=\"10.8\" fill=\"#ff0000\" fill-rule=\"evenodd\" fill-opacity=\"1\" stroke=\"#000000\" stroke-opacity=\"1\" stroke-width=\"3.2\"/>\n",
       "<circle clip-path=\"url(#clip842)\" cx=\"1000.9\" cy=\"1176.59\" r=\"10.8\" fill=\"#ff0000\" fill-rule=\"evenodd\" fill-opacity=\"1\" stroke=\"#000000\" stroke-opacity=\"1\" stroke-width=\"3.2\"/>\n",
       "<circle clip-path=\"url(#clip842)\" cx=\"1235.73\" cy=\"1093.37\" r=\"10.8\" fill=\"#ff0000\" fill-rule=\"evenodd\" fill-opacity=\"1\" stroke=\"#000000\" stroke-opacity=\"1\" stroke-width=\"3.2\"/>\n",
       "<circle clip-path=\"url(#clip842)\" cx=\"2046.03\" cy=\"864.868\" r=\"10.8\" fill=\"#ff0000\" fill-rule=\"evenodd\" fill-opacity=\"1\" stroke=\"#000000\" stroke-opacity=\"1\" stroke-width=\"3.2\"/>\n",
       "<circle clip-path=\"url(#clip842)\" cx=\"2045.11\" cy=\"904.387\" r=\"10.8\" fill=\"#ff0000\" fill-rule=\"evenodd\" fill-opacity=\"1\" stroke=\"#000000\" stroke-opacity=\"1\" stroke-width=\"3.2\"/>\n",
       "<circle clip-path=\"url(#clip842)\" cx=\"1747.3\" cy=\"978.298\" r=\"10.8\" fill=\"#ff0000\" fill-rule=\"evenodd\" fill-opacity=\"1\" stroke=\"#000000\" stroke-opacity=\"1\" stroke-width=\"3.2\"/>\n",
       "<circle clip-path=\"url(#clip842)\" cx=\"1976.14\" cy=\"880.372\" r=\"10.8\" fill=\"#ff0000\" fill-rule=\"evenodd\" fill-opacity=\"1\" stroke=\"#000000\" stroke-opacity=\"1\" stroke-width=\"3.2\"/>\n",
       "<circle clip-path=\"url(#clip842)\" cx=\"1704.71\" cy=\"967.625\" r=\"10.8\" fill=\"#ff0000\" fill-rule=\"evenodd\" fill-opacity=\"1\" stroke=\"#000000\" stroke-opacity=\"1\" stroke-width=\"3.2\"/>\n",
       "<circle clip-path=\"url(#clip842)\" cx=\"2078.19\" cy=\"849.945\" r=\"10.8\" fill=\"#ff0000\" fill-rule=\"evenodd\" fill-opacity=\"1\" stroke=\"#000000\" stroke-opacity=\"1\" stroke-width=\"3.2\"/>\n",
       "<circle clip-path=\"url(#clip842)\" cx=\"489.808\" cy=\"1313.95\" r=\"10.8\" fill=\"#ff0000\" fill-rule=\"evenodd\" fill-opacity=\"1\" stroke=\"#000000\" stroke-opacity=\"1\" stroke-width=\"3.2\"/>\n",
       "<circle clip-path=\"url(#clip842)\" cx=\"473.567\" cy=\"1316.95\" r=\"10.8\" fill=\"#ff0000\" fill-rule=\"evenodd\" fill-opacity=\"1\" stroke=\"#000000\" stroke-opacity=\"1\" stroke-width=\"3.2\"/>\n",
       "<circle clip-path=\"url(#clip842)\" cx=\"677.635\" cy=\"1248.75\" r=\"10.8\" fill=\"#ff0000\" fill-rule=\"evenodd\" fill-opacity=\"1\" stroke=\"#000000\" stroke-opacity=\"1\" stroke-width=\"3.2\"/>\n",
       "<circle clip-path=\"url(#clip842)\" cx=\"1755.61\" cy=\"964.014\" r=\"10.8\" fill=\"#ff0000\" fill-rule=\"evenodd\" fill-opacity=\"1\" stroke=\"#000000\" stroke-opacity=\"1\" stroke-width=\"3.2\"/>\n",
       "<circle clip-path=\"url(#clip842)\" cx=\"1041.71\" cy=\"1138.11\" r=\"10.8\" fill=\"#ff0000\" fill-rule=\"evenodd\" fill-opacity=\"1\" stroke=\"#000000\" stroke-opacity=\"1\" stroke-width=\"3.2\"/>\n",
       "<circle clip-path=\"url(#clip842)\" cx=\"828.773\" cy=\"1225.37\" r=\"10.8\" fill=\"#ff0000\" fill-rule=\"evenodd\" fill-opacity=\"1\" stroke=\"#000000\" stroke-opacity=\"1\" stroke-width=\"3.2\"/>\n",
       "<circle clip-path=\"url(#clip842)\" cx=\"844.641\" cy=\"1217.16\" r=\"10.8\" fill=\"#ff0000\" fill-rule=\"evenodd\" fill-opacity=\"1\" stroke=\"#000000\" stroke-opacity=\"1\" stroke-width=\"3.2\"/>\n",
       "<circle clip-path=\"url(#clip842)\" cx=\"1873.17\" cy=\"948.934\" r=\"10.8\" fill=\"#ff0000\" fill-rule=\"evenodd\" fill-opacity=\"1\" stroke=\"#000000\" stroke-opacity=\"1\" stroke-width=\"3.2\"/>\n",
       "<circle clip-path=\"url(#clip842)\" cx=\"361.683\" cy=\"1368\" r=\"10.8\" fill=\"#ff0000\" fill-rule=\"evenodd\" fill-opacity=\"1\" stroke=\"#000000\" stroke-opacity=\"1\" stroke-width=\"3.2\"/>\n",
       "<circle clip-path=\"url(#clip842)\" cx=\"606.648\" cy=\"1292.38\" r=\"10.8\" fill=\"#ff0000\" fill-rule=\"evenodd\" fill-opacity=\"1\" stroke=\"#000000\" stroke-opacity=\"1\" stroke-width=\"3.2\"/>\n",
       "<circle clip-path=\"url(#clip842)\" cx=\"1339.72\" cy=\"1089.18\" r=\"10.8\" fill=\"#ff0000\" fill-rule=\"evenodd\" fill-opacity=\"1\" stroke=\"#000000\" stroke-opacity=\"1\" stroke-width=\"3.2\"/>\n",
       "<path clip-path=\"url(#clip840)\" d=\"M314.728 321.906 L599.887 321.906 L599.887 166.386 L314.728 166.386  Z\" fill=\"#ffffff\" fill-rule=\"evenodd\" fill-opacity=\"1\"/>\n",
       "<polyline clip-path=\"url(#clip840)\" style=\"stroke:#000000; stroke-linecap:round; stroke-linejoin:round; stroke-width:4; stroke-opacity:1; fill:none\" points=\"314.728,321.906 599.887,321.906 599.887,166.386 314.728,166.386 314.728,321.906 \"/>\n",
       "<circle clip-path=\"url(#clip840)\" cx=\"408.43\" cy=\"218.226\" r=\"19.7486\" fill=\"#0000ff\" fill-rule=\"evenodd\" fill-opacity=\"1\" stroke=\"#000000\" stroke-opacity=\"1\" stroke-width=\"5.85143\"/>\n",
       "<path clip-path=\"url(#clip840)\" d=\"M518.637 199.488 L518.637 203.03 L514.563 203.03 Q512.271 203.03 511.369 203.956 Q510.489 204.881 510.489 207.289 L510.489 209.58 L517.503 209.58 L517.503 212.891 L510.489 212.891 L510.489 235.506 L506.207 235.506 L506.207 212.891 L502.133 212.891 L502.133 209.58 L506.207 209.58 L506.207 207.775 Q506.207 203.446 508.221 201.479 Q510.234 199.488 514.609 199.488 L518.637 199.488 Z\" fill=\"#000000\" fill-rule=\"nonzero\" fill-opacity=\"1\" /><path clip-path=\"url(#clip840)\" d=\"M532.248 212.567 Q528.822 212.567 526.832 215.252 Q524.841 217.914 524.841 222.567 Q524.841 227.219 526.808 229.904 Q528.799 232.566 532.248 232.566 Q535.651 232.566 537.642 229.881 Q539.632 227.196 539.632 222.567 Q539.632 217.96 537.642 215.275 Q535.651 212.567 532.248 212.567 M532.248 208.955 Q537.804 208.955 540.975 212.567 Q544.146 216.178 544.146 222.567 Q544.146 228.932 540.975 232.566 Q537.804 236.178 532.248 236.178 Q526.67 236.178 523.498 232.566 Q520.35 228.932 520.35 222.567 Q520.35 216.178 523.498 212.567 Q526.67 208.955 532.248 208.955 Z\" fill=\"#000000\" fill-rule=\"nonzero\" fill-opacity=\"1\" /><path clip-path=\"url(#clip840)\" d=\"M561.253 212.567 Q557.827 212.567 555.836 215.252 Q553.845 217.914 553.845 222.567 Q553.845 227.219 555.813 229.904 Q557.804 232.566 561.253 232.566 Q564.655 232.566 566.646 229.881 Q568.637 227.196 568.637 222.567 Q568.637 217.96 566.646 215.275 Q564.655 212.567 561.253 212.567 M561.253 208.955 Q566.808 208.955 569.979 212.567 Q573.151 216.178 573.151 222.567 Q573.151 228.932 569.979 232.566 Q566.808 236.178 561.253 236.178 Q555.674 236.178 552.503 232.566 Q549.355 228.932 549.355 222.567 Q549.355 216.178 552.503 212.567 Q555.674 208.955 561.253 208.955 Z\" fill=\"#000000\" fill-rule=\"nonzero\" fill-opacity=\"1\" /><circle clip-path=\"url(#clip840)\" cx=\"408.43\" cy=\"270.066\" r=\"19.7486\" fill=\"#ff0000\" fill-rule=\"evenodd\" fill-opacity=\"1\" stroke=\"#000000\" stroke-opacity=\"1\" stroke-width=\"5.85143\"/>\n",
       "<path clip-path=\"url(#clip840)\" d=\"M520.906 274.407 Q520.906 269.707 518.961 267.045 Q517.04 264.36 513.66 264.36 Q510.281 264.36 508.336 267.045 Q506.415 269.707 506.415 274.407 Q506.415 279.106 508.336 281.791 Q510.281 284.453 513.66 284.453 Q517.04 284.453 518.961 281.791 Q520.906 279.106 520.906 274.407 M506.415 265.356 Q507.758 263.041 509.795 261.93 Q511.855 260.795 514.702 260.795 Q519.424 260.795 522.364 264.545 Q525.327 268.295 525.327 274.407 Q525.327 280.518 522.364 284.268 Q519.424 288.018 514.702 288.018 Q511.855 288.018 509.795 286.906 Q507.758 285.772 506.415 283.457 L506.415 287.346 L502.133 287.346 L502.133 251.328 L506.415 251.328 L506.415 265.356 Z\" fill=\"#000000\" fill-rule=\"nonzero\" fill-opacity=\"1\" /><path clip-path=\"url(#clip840)\" d=\"M544.169 274.314 Q539.007 274.314 537.017 275.494 Q535.026 276.675 535.026 279.522 Q535.026 281.791 536.507 283.133 Q538.012 284.453 540.582 284.453 Q544.123 284.453 546.253 281.953 Q548.406 279.43 548.406 275.263 L548.406 274.314 L544.169 274.314 M552.665 272.555 L552.665 287.346 L548.406 287.346 L548.406 283.411 Q546.947 285.772 544.771 286.906 Q542.595 288.018 539.447 288.018 Q535.466 288.018 533.105 285.795 Q530.767 283.55 530.767 279.8 Q530.767 275.425 533.683 273.203 Q536.623 270.981 542.433 270.981 L548.406 270.981 L548.406 270.564 Q548.406 267.624 546.461 266.027 Q544.54 264.407 541.044 264.407 Q538.822 264.407 536.716 264.939 Q534.609 265.471 532.665 266.536 L532.665 262.601 Q535.003 261.698 537.202 261.258 Q539.401 260.795 541.484 260.795 Q547.109 260.795 549.887 263.712 Q552.665 266.629 552.665 272.555 Z\" fill=\"#000000\" fill-rule=\"nonzero\" fill-opacity=\"1\" /><path clip-path=\"url(#clip840)\" d=\"M576.461 265.402 Q575.743 264.985 574.887 264.8 Q574.054 264.592 573.035 264.592 Q569.424 264.592 567.48 266.953 Q565.558 269.291 565.558 273.689 L565.558 287.346 L561.276 287.346 L561.276 261.42 L565.558 261.42 L565.558 265.448 Q566.901 263.087 569.054 261.953 Q571.206 260.795 574.285 260.795 Q574.725 260.795 575.257 260.865 Q575.79 260.911 576.438 261.027 L576.461 265.402 Z\" fill=\"#000000\" fill-rule=\"nonzero\" fill-opacity=\"1\" /></svg>\n"
      ],
      "text/html": [
       "<?xml version=\"1.0\" encoding=\"utf-8\"?>\n",
       "<svg xmlns=\"http://www.w3.org/2000/svg\" xmlns:xlink=\"http://www.w3.org/1999/xlink\" width=\"600\" height=\"400\" viewBox=\"0 0 2400 1600\">\n",
       "<defs>\n",
       "  <clipPath id=\"clip890\">\n",
       "    <rect x=\"0\" y=\"0\" width=\"2400\" height=\"1600\"/>\n",
       "  </clipPath>\n",
       "</defs>\n",
       "<path clip-path=\"url(#clip890)\" d=\"M0 1600 L2400 1600 L2400 0 L0 0  Z\" fill=\"#ffffff\" fill-rule=\"evenodd\" fill-opacity=\"1\"/>\n",
       "<defs>\n",
       "  <clipPath id=\"clip891\">\n",
       "    <rect x=\"480\" y=\"0\" width=\"1681\" height=\"1600\"/>\n",
       "  </clipPath>\n",
       "</defs>\n",
       "<path clip-path=\"url(#clip890)\" d=\"M244.451 1410.9 L2352.76 1410.9 L2352.76 123.472 L244.451 123.472  Z\" fill=\"#ffffff\" fill-rule=\"evenodd\" fill-opacity=\"1\"/>\n",
       "<defs>\n",
       "  <clipPath id=\"clip892\">\n",
       "    <rect x=\"244\" y=\"123\" width=\"2109\" height=\"1288\"/>\n",
       "  </clipPath>\n",
       "</defs>\n",
       "<polyline clip-path=\"url(#clip892)\" style=\"stroke:#000000; stroke-linecap:round; stroke-linejoin:round; stroke-width:2; stroke-opacity:0.1; fill:none\" points=\"244.451,1410.9 244.451,123.472 \"/>\n",
       "<polyline clip-path=\"url(#clip892)\" style=\"stroke:#000000; stroke-linecap:round; stroke-linejoin:round; stroke-width:2; stroke-opacity:0.1; fill:none\" points=\"1202.77,1410.9 1202.77,123.472 \"/>\n",
       "<polyline clip-path=\"url(#clip892)\" style=\"stroke:#000000; stroke-linecap:round; stroke-linejoin:round; stroke-width:2; stroke-opacity:0.1; fill:none\" points=\"2161.09,1410.9 2161.09,123.472 \"/>\n",
       "<polyline clip-path=\"url(#clip890)\" style=\"stroke:#000000; stroke-linecap:round; stroke-linejoin:round; stroke-width:4; stroke-opacity:1; fill:none\" points=\"244.451,1410.9 2352.76,1410.9 \"/>\n",
       "<polyline clip-path=\"url(#clip890)\" style=\"stroke:#000000; stroke-linecap:round; stroke-linejoin:round; stroke-width:4; stroke-opacity:1; fill:none\" points=\"244.451,1410.9 244.451,1392 \"/>\n",
       "<polyline clip-path=\"url(#clip890)\" style=\"stroke:#000000; stroke-linecap:round; stroke-linejoin:round; stroke-width:4; stroke-opacity:1; fill:none\" points=\"1202.77,1410.9 1202.77,1392 \"/>\n",
       "<polyline clip-path=\"url(#clip890)\" style=\"stroke:#000000; stroke-linecap:round; stroke-linejoin:round; stroke-width:4; stroke-opacity:1; fill:none\" points=\"2161.09,1410.9 2161.09,1392 \"/>\n",
       "<path clip-path=\"url(#clip890)\" d=\"M209.434 1485.02 L217.073 1485.02 L217.073 1458.66 L208.762 1460.32 L208.762 1456.06 L217.026 1454.4 L221.702 1454.4 L221.702 1485.02 L229.341 1485.02 L229.341 1488.96 L209.434 1488.96 L209.434 1485.02 Z\" fill=\"#000000\" fill-rule=\"nonzero\" fill-opacity=\"1\" /><path clip-path=\"url(#clip890)\" d=\"M248.785 1457.48 Q245.174 1457.48 243.346 1461.04 Q241.54 1464.58 241.54 1471.71 Q241.54 1478.82 243.346 1482.38 Q245.174 1485.92 248.785 1485.92 Q252.42 1485.92 254.225 1482.38 Q256.054 1478.82 256.054 1471.71 Q256.054 1464.58 254.225 1461.04 Q252.42 1457.48 248.785 1457.48 M248.785 1453.77 Q254.596 1453.77 257.651 1458.38 Q260.73 1462.96 260.73 1471.71 Q260.73 1480.44 257.651 1485.04 Q254.596 1489.63 248.785 1489.63 Q242.975 1489.63 239.897 1485.04 Q236.841 1480.44 236.841 1471.71 Q236.841 1462.96 239.897 1458.38 Q242.975 1453.77 248.785 1453.77 Z\" fill=\"#000000\" fill-rule=\"nonzero\" fill-opacity=\"1\" /><path clip-path=\"url(#clip890)\" d=\"M270.435 1435.97 Q267.501 1435.97 266.015 1438.86 Q264.548 1441.74 264.548 1447.53 Q264.548 1453.31 266.015 1456.2 Q267.501 1459.08 270.435 1459.08 Q273.387 1459.08 274.854 1456.2 Q276.34 1453.31 276.34 1447.53 Q276.34 1441.74 274.854 1438.86 Q273.387 1435.97 270.435 1435.97 M270.435 1432.96 Q275.155 1432.96 277.638 1436.7 Q280.139 1440.43 280.139 1447.53 Q280.139 1454.62 277.638 1458.37 Q275.155 1462.09 270.435 1462.09 Q265.714 1462.09 263.212 1458.37 Q260.73 1454.62 260.73 1447.53 Q260.73 1440.43 263.212 1436.7 Q265.714 1432.96 270.435 1432.96 Z\" fill=\"#000000\" fill-rule=\"nonzero\" fill-opacity=\"1\" /><path clip-path=\"url(#clip890)\" d=\"M1168.37 1485.02 L1176.01 1485.02 L1176.01 1458.66 L1167.7 1460.32 L1167.7 1456.06 L1175.97 1454.4 L1180.64 1454.4 L1180.64 1485.02 L1188.28 1485.02 L1188.28 1488.96 L1168.37 1488.96 L1168.37 1485.02 Z\" fill=\"#000000\" fill-rule=\"nonzero\" fill-opacity=\"1\" /><path clip-path=\"url(#clip890)\" d=\"M1207.73 1457.48 Q1204.12 1457.48 1202.29 1461.04 Q1200.48 1464.58 1200.48 1471.71 Q1200.48 1478.82 1202.29 1482.38 Q1204.12 1485.92 1207.73 1485.92 Q1211.36 1485.92 1213.17 1482.38 Q1214.99 1478.82 1214.99 1471.71 Q1214.99 1464.58 1213.17 1461.04 Q1211.36 1457.48 1207.73 1457.48 M1207.73 1453.77 Q1213.54 1453.77 1216.59 1458.38 Q1219.67 1462.96 1219.67 1471.71 Q1219.67 1480.44 1216.59 1485.04 Q1213.54 1489.63 1207.73 1489.63 Q1201.92 1489.63 1198.84 1485.04 Q1195.78 1480.44 1195.78 1471.71 Q1195.78 1462.96 1198.84 1458.38 Q1201.92 1453.77 1207.73 1453.77 Z\" fill=\"#000000\" fill-rule=\"nonzero\" fill-opacity=\"1\" /><path clip-path=\"url(#clip890)\" d=\"M1220.86 1433.47 L1235.77 1433.47 L1235.77 1436.66 L1224.34 1436.66 L1224.34 1443.55 Q1225.16 1443.27 1225.99 1443.13 Q1226.82 1442.98 1227.65 1442.98 Q1232.35 1442.98 1235.09 1445.56 Q1237.84 1448.14 1237.84 1452.54 Q1237.84 1457.07 1235.02 1459.59 Q1232.2 1462.09 1227.06 1462.09 Q1225.29 1462.09 1223.45 1461.79 Q1221.63 1461.49 1219.67 1460.89 L1219.67 1457.07 Q1221.36 1457.99 1223.17 1458.44 Q1224.97 1458.89 1226.99 1458.89 Q1230.24 1458.89 1232.14 1457.18 Q1234.04 1455.47 1234.04 1452.54 Q1234.04 1449.6 1232.14 1447.89 Q1230.24 1446.18 1226.99 1446.18 Q1225.46 1446.18 1223.94 1446.52 Q1222.44 1446.86 1220.86 1447.57 L1220.86 1433.47 Z\" fill=\"#000000\" fill-rule=\"nonzero\" fill-opacity=\"1\" /><path clip-path=\"url(#clip890)\" d=\"M2114.67 1485.02 L2122.31 1485.02 L2122.31 1458.66 L2114 1460.32 L2114 1456.06 L2122.26 1454.4 L2126.94 1454.4 L2126.94 1485.02 L2134.58 1485.02 L2134.58 1488.96 L2114.67 1488.96 L2114.67 1485.02 Z\" fill=\"#000000\" fill-rule=\"nonzero\" fill-opacity=\"1\" /><path clip-path=\"url(#clip890)\" d=\"M2154.02 1457.48 Q2150.41 1457.48 2148.58 1461.04 Q2146.77 1464.58 2146.77 1471.71 Q2146.77 1478.82 2148.58 1482.38 Q2150.41 1485.92 2154.02 1485.92 Q2157.65 1485.92 2159.46 1482.38 Q2161.29 1478.82 2161.29 1471.71 Q2161.29 1464.58 2159.46 1461.04 Q2157.65 1457.48 2154.02 1457.48 M2154.02 1453.77 Q2159.83 1453.77 2162.89 1458.38 Q2165.96 1462.96 2165.96 1471.71 Q2165.96 1480.44 2162.89 1485.04 Q2159.83 1489.63 2154.02 1489.63 Q2148.21 1489.63 2145.13 1485.04 Q2142.07 1480.44 2142.07 1471.71 Q2142.07 1462.96 2145.13 1458.38 Q2148.21 1453.77 2154.02 1453.77 Z\" fill=\"#000000\" fill-rule=\"nonzero\" fill-opacity=\"1\" /><path clip-path=\"url(#clip890)\" d=\"M2166.51 1458.35 L2172.72 1458.35 L2172.72 1436.93 L2165.96 1438.28 L2165.96 1434.82 L2172.68 1433.47 L2176.48 1433.47 L2176.48 1458.35 L2182.68 1458.35 L2182.68 1461.55 L2166.51 1461.55 L2166.51 1458.35 Z\" fill=\"#000000\" fill-rule=\"nonzero\" fill-opacity=\"1\" /><path clip-path=\"url(#clip890)\" d=\"M2198.48 1435.97 Q2195.55 1435.97 2194.06 1438.86 Q2192.6 1441.74 2192.6 1447.53 Q2192.6 1453.31 2194.06 1456.2 Q2195.55 1459.08 2198.48 1459.08 Q2201.44 1459.08 2202.9 1456.2 Q2204.39 1453.31 2204.39 1447.53 Q2204.39 1441.74 2202.9 1438.86 Q2201.44 1435.97 2198.48 1435.97 M2198.48 1432.96 Q2203.2 1432.96 2205.69 1436.7 Q2208.19 1440.43 2208.19 1447.53 Q2208.19 1454.62 2205.69 1458.37 Q2203.2 1462.09 2198.48 1462.09 Q2193.76 1462.09 2191.26 1458.37 Q2188.78 1454.62 2188.78 1447.53 Q2188.78 1440.43 2191.26 1436.7 Q2193.76 1432.96 2198.48 1432.96 Z\" fill=\"#000000\" fill-rule=\"nonzero\" fill-opacity=\"1\" /><path clip-path=\"url(#clip890)\" d=\"M1315.22 1538.54 L1302.33 1555.88 L1315.89 1574.19 L1308.98 1574.19 L1298.6 1560.18 L1288.23 1574.19 L1281.32 1574.19 L1295.17 1555.53 L1282.5 1538.54 L1289.4 1538.54 L1298.86 1551.24 L1308.31 1538.54 L1315.22 1538.54 Z\" fill=\"#000000\" fill-rule=\"nonzero\" fill-opacity=\"1\" /><polyline clip-path=\"url(#clip892)\" style=\"stroke:#000000; stroke-linecap:round; stroke-linejoin:round; stroke-width:2; stroke-opacity:0.1; fill:none\" points=\"244.451,1410.9 2352.76,1410.9 \"/>\n",
       "<polyline clip-path=\"url(#clip892)\" style=\"stroke:#000000; stroke-linecap:round; stroke-linejoin:round; stroke-width:2; stroke-opacity:0.1; fill:none\" points=\"244.451,1196.33 2352.76,1196.33 \"/>\n",
       "<polyline clip-path=\"url(#clip892)\" style=\"stroke:#000000; stroke-linecap:round; stroke-linejoin:round; stroke-width:2; stroke-opacity:0.1; fill:none\" points=\"244.451,981.755 2352.76,981.755 \"/>\n",
       "<polyline clip-path=\"url(#clip892)\" style=\"stroke:#000000; stroke-linecap:round; stroke-linejoin:round; stroke-width:2; stroke-opacity:0.1; fill:none\" points=\"244.451,767.184 2352.76,767.184 \"/>\n",
       "<polyline clip-path=\"url(#clip892)\" style=\"stroke:#000000; stroke-linecap:round; stroke-linejoin:round; stroke-width:2; stroke-opacity:0.1; fill:none\" points=\"244.451,552.614 2352.76,552.614 \"/>\n",
       "<polyline clip-path=\"url(#clip892)\" style=\"stroke:#000000; stroke-linecap:round; stroke-linejoin:round; stroke-width:2; stroke-opacity:0.1; fill:none\" points=\"244.451,338.043 2352.76,338.043 \"/>\n",
       "<polyline clip-path=\"url(#clip892)\" style=\"stroke:#000000; stroke-linecap:round; stroke-linejoin:round; stroke-width:2; stroke-opacity:0.1; fill:none\" points=\"244.451,123.472 2352.76,123.472 \"/>\n",
       "<polyline clip-path=\"url(#clip890)\" style=\"stroke:#000000; stroke-linecap:round; stroke-linejoin:round; stroke-width:4; stroke-opacity:1; fill:none\" points=\"244.451,1410.9 244.451,123.472 \"/>\n",
       "<polyline clip-path=\"url(#clip890)\" style=\"stroke:#000000; stroke-linecap:round; stroke-linejoin:round; stroke-width:4; stroke-opacity:1; fill:none\" points=\"244.451,1410.9 263.349,1410.9 \"/>\n",
       "<polyline clip-path=\"url(#clip890)\" style=\"stroke:#000000; stroke-linecap:round; stroke-linejoin:round; stroke-width:4; stroke-opacity:1; fill:none\" points=\"244.451,1196.33 263.349,1196.33 \"/>\n",
       "<polyline clip-path=\"url(#clip890)\" style=\"stroke:#000000; stroke-linecap:round; stroke-linejoin:round; stroke-width:4; stroke-opacity:1; fill:none\" points=\"244.451,981.755 263.349,981.755 \"/>\n",
       "<polyline clip-path=\"url(#clip890)\" style=\"stroke:#000000; stroke-linecap:round; stroke-linejoin:round; stroke-width:4; stroke-opacity:1; fill:none\" points=\"244.451,767.184 263.349,767.184 \"/>\n",
       "<polyline clip-path=\"url(#clip890)\" style=\"stroke:#000000; stroke-linecap:round; stroke-linejoin:round; stroke-width:4; stroke-opacity:1; fill:none\" points=\"244.451,552.614 263.349,552.614 \"/>\n",
       "<polyline clip-path=\"url(#clip890)\" style=\"stroke:#000000; stroke-linecap:round; stroke-linejoin:round; stroke-width:4; stroke-opacity:1; fill:none\" points=\"244.451,338.043 263.349,338.043 \"/>\n",
       "<polyline clip-path=\"url(#clip890)\" style=\"stroke:#000000; stroke-linecap:round; stroke-linejoin:round; stroke-width:4; stroke-opacity:1; fill:none\" points=\"244.451,123.472 263.349,123.472 \"/>\n",
       "<path clip-path=\"url(#clip890)\" d=\"M137.745 1430.69 L145.384 1430.69 L145.384 1404.32 L137.074 1405.99 L137.074 1401.73 L145.338 1400.06 L150.014 1400.06 L150.014 1430.69 L157.653 1430.69 L157.653 1434.62 L137.745 1434.62 L137.745 1430.69 Z\" fill=\"#000000\" fill-rule=\"nonzero\" fill-opacity=\"1\" /><path clip-path=\"url(#clip890)\" d=\"M177.097 1403.14 Q173.486 1403.14 171.657 1406.71 Q169.852 1410.25 169.852 1417.38 Q169.852 1424.49 171.657 1428.05 Q173.486 1431.59 177.097 1431.59 Q180.731 1431.59 182.537 1428.05 Q184.365 1424.49 184.365 1417.38 Q184.365 1410.25 182.537 1406.71 Q180.731 1403.14 177.097 1403.14 M177.097 1399.44 Q182.907 1399.44 185.963 1404.05 Q189.041 1408.63 189.041 1417.38 Q189.041 1426.11 185.963 1430.71 Q182.907 1435.3 177.097 1435.3 Q171.287 1435.3 168.208 1430.71 Q165.153 1426.11 165.153 1417.38 Q165.153 1408.63 168.208 1404.05 Q171.287 1399.44 177.097 1399.44 Z\" fill=\"#000000\" fill-rule=\"nonzero\" fill-opacity=\"1\" /><path clip-path=\"url(#clip890)\" d=\"M198.746 1381.64 Q195.812 1381.64 194.326 1384.53 Q192.859 1387.41 192.859 1393.2 Q192.859 1398.98 194.326 1401.87 Q195.812 1404.75 198.746 1404.75 Q201.699 1404.75 203.166 1401.87 Q204.652 1398.98 204.652 1393.2 Q204.652 1387.41 203.166 1384.53 Q201.699 1381.64 198.746 1381.64 M198.746 1378.63 Q203.467 1378.63 205.949 1382.37 Q208.451 1386.09 208.451 1393.2 Q208.451 1400.29 205.949 1404.04 Q203.467 1407.76 198.746 1407.76 Q194.025 1407.76 191.524 1404.04 Q189.041 1400.29 189.041 1393.2 Q189.041 1386.09 191.524 1382.37 Q194.025 1378.63 198.746 1378.63 Z\" fill=\"#000000\" fill-rule=\"nonzero\" fill-opacity=\"1\" /><path clip-path=\"url(#clip890)\" d=\"M139.325 1216.12 L146.964 1216.12 L146.964 1189.75 L138.654 1191.42 L138.654 1187.16 L146.918 1185.49 L151.594 1185.49 L151.594 1216.12 L159.232 1216.12 L159.232 1220.05 L139.325 1220.05 L139.325 1216.12 Z\" fill=\"#000000\" fill-rule=\"nonzero\" fill-opacity=\"1\" /><path clip-path=\"url(#clip890)\" d=\"M178.677 1188.57 Q175.066 1188.57 173.237 1192.14 Q171.431 1195.68 171.431 1202.81 Q171.431 1209.91 173.237 1213.48 Q175.066 1217.02 178.677 1217.02 Q182.311 1217.02 184.117 1213.48 Q185.945 1209.91 185.945 1202.81 Q185.945 1195.68 184.117 1192.14 Q182.311 1188.57 178.677 1188.57 M178.677 1184.87 Q184.487 1184.87 187.542 1189.47 Q190.621 1194.06 190.621 1202.81 Q190.621 1211.54 187.542 1216.14 Q184.487 1220.72 178.677 1220.72 Q172.867 1220.72 169.788 1216.14 Q166.732 1211.54 166.732 1202.81 Q166.732 1194.06 169.788 1189.47 Q172.867 1184.87 178.677 1184.87 Z\" fill=\"#000000\" fill-rule=\"nonzero\" fill-opacity=\"1\" /><path clip-path=\"url(#clip890)\" d=\"M195.191 1189.45 L208.451 1189.45 L208.451 1192.64 L190.621 1192.64 L190.621 1189.45 Q192.784 1187.21 196.508 1183.45 Q200.251 1179.67 201.21 1178.57 Q203.034 1176.52 203.749 1175.11 Q204.482 1173.68 204.482 1172.31 Q204.482 1170.07 202.903 1168.66 Q201.342 1167.25 198.821 1167.25 Q197.035 1167.25 195.041 1167.87 Q193.066 1168.49 190.809 1169.75 L190.809 1165.92 Q193.104 1165 195.097 1164.53 Q197.091 1164.06 198.746 1164.06 Q203.11 1164.06 205.705 1166.24 Q208.3 1168.42 208.3 1172.07 Q208.3 1173.8 207.642 1175.36 Q207.003 1176.9 205.291 1179.01 Q204.821 1179.55 202.301 1182.17 Q199.781 1184.76 195.191 1189.45 Z\" fill=\"#000000\" fill-rule=\"nonzero\" fill-opacity=\"1\" /><path clip-path=\"url(#clip890)\" d=\"M136.692 1001.55 L144.331 1001.55 L144.331 975.182 L136.021 976.849 L136.021 972.589 L144.285 970.923 L148.96 970.923 L148.96 1001.55 L156.599 1001.55 L156.599 1005.48 L136.692 1005.48 L136.692 1001.55 Z\" fill=\"#000000\" fill-rule=\"nonzero\" fill-opacity=\"1\" /><path clip-path=\"url(#clip890)\" d=\"M176.044 974.001 Q172.433 974.001 170.604 977.566 Q168.798 981.108 168.798 988.237 Q168.798 995.344 170.604 998.909 Q172.433 1002.45 176.044 1002.45 Q179.678 1002.45 181.483 998.909 Q183.312 995.344 183.312 988.237 Q183.312 981.108 181.483 977.566 Q179.678 974.001 176.044 974.001 M176.044 970.298 Q181.854 970.298 184.909 974.904 Q187.988 979.488 187.988 988.237 Q187.988 996.964 184.909 1001.57 Q181.854 1006.15 176.044 1006.15 Q170.234 1006.15 167.155 1001.57 Q164.099 996.964 164.099 988.237 Q164.099 979.488 167.155 974.904 Q170.234 970.298 176.044 970.298 Z\" fill=\"#000000\" fill-rule=\"nonzero\" fill-opacity=\"1\" /><path clip-path=\"url(#clip890)\" d=\"M200.664 953.303 L191.073 968.292 L200.664 968.292 L200.664 953.303 M199.668 949.992 L204.445 949.992 L204.445 968.292 L208.451 968.292 L208.451 971.452 L204.445 971.452 L204.445 978.072 L200.664 978.072 L200.664 971.452 L187.988 971.452 L187.988 967.784 L199.668 949.992 Z\" fill=\"#000000\" fill-rule=\"nonzero\" fill-opacity=\"1\" /><path clip-path=\"url(#clip890)\" d=\"M137.764 786.977 L145.403 786.977 L145.403 760.611 L137.093 762.278 L137.093 758.019 L145.357 756.352 L150.033 756.352 L150.033 786.977 L157.671 786.977 L157.671 790.912 L137.764 790.912 L137.764 786.977 Z\" fill=\"#000000\" fill-rule=\"nonzero\" fill-opacity=\"1\" /><path clip-path=\"url(#clip890)\" d=\"M177.116 759.431 Q173.505 759.431 171.676 762.995 Q169.87 766.537 169.87 773.667 Q169.87 780.773 171.676 784.338 Q173.505 787.88 177.116 787.88 Q180.75 787.88 182.556 784.338 Q184.384 780.773 184.384 773.667 Q184.384 766.537 182.556 762.995 Q180.75 759.431 177.116 759.431 M177.116 755.727 Q182.926 755.727 185.981 760.333 Q189.06 764.917 189.06 773.667 Q189.06 782.394 185.981 787 Q182.926 791.583 177.116 791.583 Q171.306 791.583 168.227 787 Q165.171 782.394 165.171 773.667 Q165.171 764.917 168.227 760.333 Q171.306 755.727 177.116 755.727 Z\" fill=\"#000000\" fill-rule=\"nonzero\" fill-opacity=\"1\" /><path clip-path=\"url(#clip890)\" d=\"M199.085 747.948 Q196.527 747.948 195.022 749.697 Q193.536 751.446 193.536 754.493 Q193.536 757.521 195.022 759.289 Q196.527 761.038 199.085 761.038 Q201.643 761.038 203.128 759.289 Q204.633 757.521 204.633 754.493 Q204.633 751.446 203.128 749.697 Q201.643 747.948 199.085 747.948 M206.627 736.042 L206.627 739.503 Q205.197 738.826 203.73 738.468 Q202.282 738.111 200.853 738.111 Q197.091 738.111 195.097 740.65 Q193.123 743.189 192.84 748.324 Q193.95 746.687 195.624 745.822 Q197.298 744.938 199.31 744.938 Q203.542 744.938 205.987 747.515 Q208.451 750.073 208.451 754.493 Q208.451 758.818 205.893 761.433 Q203.335 764.047 199.085 764.047 Q194.213 764.047 191.637 760.323 Q189.06 756.58 189.06 749.49 Q189.06 742.832 192.22 738.882 Q195.38 734.914 200.702 734.914 Q202.132 734.914 203.58 735.196 Q205.047 735.478 206.627 736.042 Z\" fill=\"#000000\" fill-rule=\"nonzero\" fill-opacity=\"1\" /><path clip-path=\"url(#clip890)\" d=\"M137.896 572.406 L145.535 572.406 L145.535 546.04 L137.224 547.707 L137.224 543.448 L145.488 541.781 L150.164 541.781 L150.164 572.406 L157.803 572.406 L157.803 576.341 L137.896 576.341 L137.896 572.406 Z\" fill=\"#000000\" fill-rule=\"nonzero\" fill-opacity=\"1\" /><path clip-path=\"url(#clip890)\" d=\"M177.247 544.86 Q173.636 544.86 171.808 548.425 Q170.002 551.966 170.002 559.096 Q170.002 566.202 171.808 569.767 Q173.636 573.309 177.247 573.309 Q180.882 573.309 182.687 569.767 Q184.516 566.202 184.516 559.096 Q184.516 551.966 182.687 548.425 Q180.882 544.86 177.247 544.86 M177.247 541.156 Q183.058 541.156 186.113 545.763 Q189.192 550.346 189.192 559.096 Q189.192 567.823 186.113 572.429 Q183.058 577.013 177.247 577.013 Q171.437 577.013 168.359 572.429 Q165.303 567.823 165.303 559.096 Q165.303 550.346 168.359 545.763 Q171.437 541.156 177.247 541.156 Z\" fill=\"#000000\" fill-rule=\"nonzero\" fill-opacity=\"1\" /><path clip-path=\"url(#clip890)\" d=\"M198.821 535.596 Q196.113 535.596 194.552 537.044 Q193.01 538.493 193.01 541.032 Q193.01 543.571 194.552 545.019 Q196.113 546.467 198.821 546.467 Q201.53 546.467 203.091 545.019 Q204.652 543.552 204.652 541.032 Q204.652 538.493 203.091 537.044 Q201.548 535.596 198.821 535.596 M195.022 533.979 Q192.577 533.377 191.204 531.703 Q189.85 530.029 189.85 527.622 Q189.85 524.255 192.239 522.299 Q194.646 520.343 198.821 520.343 Q203.015 520.343 205.404 522.299 Q207.793 524.255 207.793 527.622 Q207.793 530.029 206.42 531.703 Q205.066 533.377 202.639 533.979 Q205.385 534.618 206.909 536.48 Q208.451 538.342 208.451 541.032 Q208.451 545.113 205.949 547.295 Q203.467 549.476 198.821 549.476 Q194.176 549.476 191.674 547.295 Q189.192 545.113 189.192 541.032 Q189.192 538.342 190.734 536.48 Q192.276 534.618 195.022 533.979 M193.63 527.979 Q193.63 530.161 194.985 531.383 Q196.358 532.606 198.821 532.606 Q201.266 532.606 202.639 531.383 Q204.031 530.161 204.031 527.979 Q204.031 525.797 202.639 524.575 Q201.266 523.352 198.821 523.352 Q196.358 523.352 194.985 524.575 Q193.63 525.797 193.63 527.979 Z\" fill=\"#000000\" fill-rule=\"nonzero\" fill-opacity=\"1\" /><path clip-path=\"url(#clip890)\" d=\"M114.931 357.835 L122.57 357.835 L122.57 331.47 L114.26 333.136 L114.26 328.877 L122.524 327.21 L127.2 327.21 L127.2 357.835 L134.839 357.835 L134.839 361.77 L114.931 361.77 L114.931 357.835 Z\" fill=\"#000000\" fill-rule=\"nonzero\" fill-opacity=\"1\" /><path clip-path=\"url(#clip890)\" d=\"M154.283 330.289 Q150.672 330.289 148.843 333.854 Q147.038 337.396 147.038 344.525 Q147.038 351.632 148.843 355.196 Q150.672 358.738 154.283 358.738 Q157.917 358.738 159.723 355.196 Q161.552 351.632 161.552 344.525 Q161.552 337.396 159.723 333.854 Q157.917 330.289 154.283 330.289 M154.283 326.585 Q160.093 326.585 163.149 331.192 Q166.227 335.775 166.227 344.525 Q166.227 353.252 163.149 357.858 Q160.093 362.442 154.283 362.442 Q148.473 362.442 145.394 357.858 Q142.339 353.252 142.339 344.525 Q142.339 335.775 145.394 331.192 Q148.473 326.585 154.283 326.585 Z\" fill=\"#000000\" fill-rule=\"nonzero\" fill-opacity=\"1\" /><path clip-path=\"url(#clip890)\" d=\"M166.773 331.163 L172.979 331.163 L172.979 309.741 L166.227 311.095 L166.227 307.634 L172.942 306.28 L176.741 306.28 L176.741 331.163 L182.948 331.163 L182.948 334.36 L166.773 334.36 L166.773 331.163 Z\" fill=\"#000000\" fill-rule=\"nonzero\" fill-opacity=\"1\" /><path clip-path=\"url(#clip890)\" d=\"M198.746 308.782 Q195.812 308.782 194.326 311.678 Q192.859 314.555 192.859 320.348 Q192.859 326.122 194.326 329.019 Q195.812 331.896 198.746 331.896 Q201.699 331.896 203.166 329.019 Q204.652 326.122 204.652 320.348 Q204.652 314.555 203.166 311.678 Q201.699 308.782 198.746 308.782 M198.746 305.772 Q203.467 305.772 205.949 309.515 Q208.451 313.239 208.451 320.348 Q208.451 327.439 205.949 331.182 Q203.467 334.906 198.746 334.906 Q194.025 334.906 191.524 331.182 Q189.041 327.439 189.041 320.348 Q189.041 313.239 191.524 309.515 Q194.025 305.772 198.746 305.772 Z\" fill=\"#000000\" fill-rule=\"nonzero\" fill-opacity=\"1\" /><path clip-path=\"url(#clip890)\" d=\"M116.229 143.265 L123.868 143.265 L123.868 116.899 L115.558 118.566 L115.558 114.306 L123.822 112.64 L128.498 112.64 L128.498 143.265 L136.136 143.265 L136.136 147.2 L116.229 147.2 L116.229 143.265 Z\" fill=\"#000000\" fill-rule=\"nonzero\" fill-opacity=\"1\" /><path clip-path=\"url(#clip890)\" d=\"M155.581 115.718 Q151.97 115.718 150.141 119.283 Q148.335 122.825 148.335 129.954 Q148.335 137.061 150.141 140.626 Q151.97 144.167 155.581 144.167 Q159.215 144.167 161.021 140.626 Q162.849 137.061 162.849 129.954 Q162.849 122.825 161.021 119.283 Q159.215 115.718 155.581 115.718 M155.581 112.015 Q161.391 112.015 164.447 116.621 Q167.525 121.204 167.525 129.954 Q167.525 138.681 164.447 143.288 Q161.391 147.871 155.581 147.871 Q149.771 147.871 146.692 143.288 Q143.636 138.681 143.636 129.954 Q143.636 121.204 146.692 116.621 Q149.771 112.015 155.581 112.015 Z\" fill=\"#000000\" fill-rule=\"nonzero\" fill-opacity=\"1\" /><path clip-path=\"url(#clip890)\" d=\"M168.071 116.592 L174.277 116.592 L174.277 95.17 L167.525 96.5241 L167.525 93.0635 L174.24 91.7093 L178.039 91.7093 L178.039 116.592 L184.245 116.592 L184.245 119.789 L168.071 119.789 L168.071 116.592 Z\" fill=\"#000000\" fill-rule=\"nonzero\" fill-opacity=\"1\" /><path clip-path=\"url(#clip890)\" d=\"M195.191 116.592 L208.451 116.592 L208.451 119.789 L190.621 119.789 L190.621 116.592 Q192.784 114.354 196.508 110.592 Q200.251 106.812 201.21 105.721 Q203.034 103.671 203.749 102.26 Q204.482 100.831 204.482 99.4581 Q204.482 97.22 202.903 95.8094 Q201.342 94.3988 198.821 94.3988 Q197.035 94.3988 195.041 95.0195 Q193.066 95.6401 190.809 96.9003 L190.809 93.0635 Q193.104 92.1419 195.097 91.6717 Q197.091 91.2015 198.746 91.2015 Q203.11 91.2015 205.705 93.3832 Q208.3 95.5649 208.3 99.2136 Q208.3 100.944 207.642 102.505 Q207.003 104.047 205.291 106.154 Q204.821 106.699 202.301 109.313 Q199.781 111.909 195.191 116.592 Z\" fill=\"#000000\" fill-rule=\"nonzero\" fill-opacity=\"1\" /><path clip-path=\"url(#clip890)\" d=\"M67.3143 765.497 Q73.68 767.98 75.6216 770.335 Q77.5631 772.691 77.5631 776.637 L77.5631 781.316 L72.6615 781.316 L72.6615 777.879 Q72.6615 775.46 71.5157 774.123 Q70.3699 772.786 66.1048 771.163 L63.4312 770.113 L28.3562 784.531 L28.3562 778.324 L56.238 767.184 L28.3562 756.044 L28.3562 749.838 L67.3143 765.497 Z\" fill=\"#000000\" fill-rule=\"nonzero\" fill-opacity=\"1\" /><path clip-path=\"url(#clip890)\" d=\"M1047.77 49.7694 Q1038.74 49.7694 1035.25 51.8354 Q1031.77 53.9013 1031.77 58.8839 Q1031.77 62.8538 1034.36 65.2034 Q1037 67.5124 1041.49 67.5124 Q1047.69 67.5124 1051.42 63.1374 Q1055.18 58.7219 1055.18 51.4303 L1055.18 49.7694 L1047.77 49.7694 M1062.64 46.6907 L1062.64 72.576 L1055.18 72.576 L1055.18 65.6895 Q1052.63 69.8214 1048.82 71.8063 Q1045.02 73.7508 1039.51 73.7508 Q1032.54 73.7508 1028.41 69.8619 Q1024.32 65.9325 1024.32 59.3701 Q1024.32 51.7138 1029.42 47.825 Q1034.57 43.9361 1044.73 43.9361 L1055.18 43.9361 L1055.18 43.2069 Q1055.18 38.0623 1051.78 35.2672 Q1048.42 32.4315 1042.3 32.4315 Q1038.41 32.4315 1034.73 33.3632 Q1031.04 34.295 1027.64 36.1584 L1027.64 29.2718 Q1031.73 27.692 1035.58 26.9223 Q1039.43 26.1121 1043.07 26.1121 Q1052.92 26.1121 1057.78 31.2163 Q1062.64 36.3204 1062.64 46.6907 Z\" fill=\"#000000\" fill-rule=\"nonzero\" fill-opacity=\"1\" /><path clip-path=\"url(#clip890)\" d=\"M1136.93 49.9314 Q1136.93 41.7081 1133.53 37.0496 Q1130.17 32.3505 1124.25 32.3505 Q1118.34 32.3505 1114.94 37.0496 Q1111.57 41.7081 1111.57 49.9314 Q1111.57 58.1548 1114.94 62.8538 Q1118.34 67.5124 1124.25 67.5124 Q1130.17 67.5124 1133.53 62.8538 Q1136.93 58.1548 1136.93 49.9314 M1111.57 34.0924 Q1113.92 30.0415 1117.49 28.0971 Q1121.09 26.1121 1126.08 26.1121 Q1134.34 26.1121 1139.48 32.6746 Q1144.67 39.2371 1144.67 49.9314 Q1144.67 60.6258 1139.48 67.1883 Q1134.34 73.7508 1126.08 73.7508 Q1121.09 73.7508 1117.49 71.8063 Q1113.92 69.8214 1111.57 65.7705 L1111.57 72.576 L1104.08 72.576 L1104.08 9.54393 L1111.57 9.54393 L1111.57 34.0924 Z\" fill=\"#000000\" fill-rule=\"nonzero\" fill-opacity=\"1\" /><path clip-path=\"url(#clip890)\" d=\"M1177.64 49.7694 Q1168.61 49.7694 1165.13 51.8354 Q1161.64 53.9013 1161.64 58.8839 Q1161.64 62.8538 1164.23 65.2034 Q1166.87 67.5124 1171.36 67.5124 Q1177.56 67.5124 1181.29 63.1374 Q1185.06 58.7219 1185.06 51.4303 L1185.06 49.7694 L1177.64 49.7694 M1192.51 46.6907 L1192.51 72.576 L1185.06 72.576 L1185.06 65.6895 Q1182.5 69.8214 1178.7 71.8063 Q1174.89 73.7508 1169.38 73.7508 Q1162.41 73.7508 1158.28 69.8619 Q1154.19 65.9325 1154.19 59.3701 Q1154.19 51.7138 1159.29 47.825 Q1164.44 43.9361 1174.61 43.9361 L1185.06 43.9361 L1185.06 43.2069 Q1185.06 38.0623 1181.65 35.2672 Q1178.29 32.4315 1172.17 32.4315 Q1168.29 32.4315 1164.6 33.3632 Q1160.91 34.295 1157.51 36.1584 L1157.51 29.2718 Q1161.6 27.692 1165.45 26.9223 Q1169.3 26.1121 1172.94 26.1121 Q1182.79 26.1121 1187.65 31.2163 Q1192.51 36.3204 1192.51 46.6907 Z\" fill=\"#000000\" fill-rule=\"nonzero\" fill-opacity=\"1\" /><path clip-path=\"url(#clip890)\" d=\"M1234.15 34.1734 Q1232.9 33.4443 1231.4 33.1202 Q1229.94 32.7556 1228.16 32.7556 Q1221.84 32.7556 1218.44 36.8875 Q1215.07 40.9789 1215.07 48.6757 L1215.07 72.576 L1207.58 72.576 L1207.58 27.2059 L1215.07 27.2059 L1215.07 34.2544 Q1217.42 30.1225 1221.19 28.1376 Q1224.96 26.1121 1230.35 26.1121 Q1231.12 26.1121 1232.05 26.2337 Q1232.98 26.3147 1234.11 26.5172 L1234.15 34.1734 Z\" fill=\"#000000\" fill-rule=\"nonzero\" fill-opacity=\"1\" /><path clip-path=\"url(#clip890)\" d=\"M1232.9 46.5287 L1254.73 46.5287 L1254.73 53.1722 L1232.9 53.1722 L1232.9 46.5287 Z\" fill=\"#000000\" fill-rule=\"nonzero\" fill-opacity=\"1\" /><path clip-path=\"url(#clip890)\" d=\"M1289.57 9.54393 L1289.57 15.7418 L1282.44 15.7418 Q1278.43 15.7418 1276.85 17.3622 Q1275.31 18.9825 1275.31 23.1955 L1275.31 27.2059 L1287.58 27.2059 L1287.58 32.9987 L1275.31 32.9987 L1275.31 72.576 L1267.82 72.576 L1267.82 32.9987 L1260.69 32.9987 L1260.69 27.2059 L1267.82 27.2059 L1267.82 24.0462 Q1267.82 16.471 1271.34 13.0277 Q1274.87 9.54393 1282.52 9.54393 L1289.57 9.54393 Z\" fill=\"#000000\" fill-rule=\"nonzero\" fill-opacity=\"1\" /><path clip-path=\"url(#clip890)\" d=\"M1313.39 32.4315 Q1307.39 32.4315 1303.91 37.1306 Q1300.43 41.7891 1300.43 49.9314 Q1300.43 58.0738 1303.87 62.7728 Q1307.35 67.4314 1313.39 67.4314 Q1319.34 67.4314 1322.83 62.7323 Q1326.31 58.0333 1326.31 49.9314 Q1326.31 41.8701 1322.83 37.1711 Q1319.34 32.4315 1313.39 32.4315 M1313.39 26.1121 Q1323.11 26.1121 1328.66 32.4315 Q1334.21 38.7509 1334.21 49.9314 Q1334.21 61.0714 1328.66 67.4314 Q1323.11 73.7508 1313.39 73.7508 Q1303.63 73.7508 1298.08 67.4314 Q1292.57 61.0714 1292.57 49.9314 Q1292.57 38.7509 1298.08 32.4315 Q1303.63 26.1121 1313.39 26.1121 Z\" fill=\"#000000\" fill-rule=\"nonzero\" fill-opacity=\"1\" /><path clip-path=\"url(#clip890)\" d=\"M1364.15 32.4315 Q1358.15 32.4315 1354.67 37.1306 Q1351.18 41.7891 1351.18 49.9314 Q1351.18 58.0738 1354.63 62.7728 Q1358.11 67.4314 1364.15 67.4314 Q1370.1 67.4314 1373.59 62.7323 Q1377.07 58.0333 1377.07 49.9314 Q1377.07 41.8701 1373.59 37.1711 Q1370.1 32.4315 1364.15 32.4315 M1364.15 26.1121 Q1373.87 26.1121 1379.42 32.4315 Q1384.97 38.7509 1384.97 49.9314 Q1384.97 61.0714 1379.42 67.4314 Q1373.87 73.7508 1364.15 73.7508 Q1354.38 73.7508 1348.83 67.4314 Q1343.33 61.0714 1343.33 49.9314 Q1343.33 38.7509 1348.83 32.4315 Q1354.38 26.1121 1364.15 26.1121 Z\" fill=\"#000000\" fill-rule=\"nonzero\" fill-opacity=\"1\" /><path clip-path=\"url(#clip890)\" d=\"M1430.91 65.7705 L1430.91 89.8329 L1423.41 89.8329 L1423.41 27.2059 L1430.91 27.2059 L1430.91 34.0924 Q1433.26 30.0415 1436.82 28.0971 Q1440.43 26.1121 1445.41 26.1121 Q1453.67 26.1121 1458.82 32.6746 Q1464 39.2371 1464 49.9314 Q1464 60.6258 1458.82 67.1883 Q1453.67 73.7508 1445.41 73.7508 Q1440.43 73.7508 1436.82 71.8063 Q1433.26 69.8214 1430.91 65.7705 M1456.26 49.9314 Q1456.26 41.7081 1452.86 37.0496 Q1449.5 32.3505 1443.59 32.3505 Q1437.67 32.3505 1434.27 37.0496 Q1430.91 41.7081 1430.91 49.9314 Q1430.91 58.1548 1434.27 62.8538 Q1437.67 67.5124 1443.59 67.5124 Q1449.5 67.5124 1452.86 62.8538 Q1456.26 58.1548 1456.26 49.9314 Z\" fill=\"#000000\" fill-rule=\"nonzero\" fill-opacity=\"1\" /><path clip-path=\"url(#clip890)\" d=\"M1476.36 9.54393 L1483.81 9.54393 L1483.81 72.576 L1476.36 72.576 L1476.36 9.54393 Z\" fill=\"#000000\" fill-rule=\"nonzero\" fill-opacity=\"1\" /><path clip-path=\"url(#clip890)\" d=\"M1516.99 32.4315 Q1510.99 32.4315 1507.51 37.1306 Q1504.02 41.7891 1504.02 49.9314 Q1504.02 58.0738 1507.47 62.7728 Q1510.95 67.4314 1516.99 67.4314 Q1522.94 67.4314 1526.43 62.7323 Q1529.91 58.0333 1529.91 49.9314 Q1529.91 41.8701 1526.43 37.1711 Q1522.94 32.4315 1516.99 32.4315 M1516.99 26.1121 Q1526.71 26.1121 1532.26 32.4315 Q1537.81 38.7509 1537.81 49.9314 Q1537.81 61.0714 1532.26 67.4314 Q1526.71 73.7508 1516.99 73.7508 Q1507.22 73.7508 1501.68 67.4314 Q1496.17 61.0714 1496.17 49.9314 Q1496.17 38.7509 1501.68 32.4315 Q1507.22 26.1121 1516.99 26.1121 Z\" fill=\"#000000\" fill-rule=\"nonzero\" fill-opacity=\"1\" /><path clip-path=\"url(#clip890)\" d=\"M1557.54 14.324 L1557.54 27.2059 L1572.89 27.2059 L1572.89 32.9987 L1557.54 32.9987 L1557.54 57.6282 Q1557.54 63.1779 1559.04 64.7578 Q1560.58 66.3376 1565.23 66.3376 L1572.89 66.3376 L1572.89 72.576 L1565.23 72.576 Q1556.61 72.576 1553.32 69.3758 Q1550.04 66.1351 1550.04 57.6282 L1550.04 32.9987 L1544.57 32.9987 L1544.57 27.2059 L1550.04 27.2059 L1550.04 14.324 L1557.54 14.324 Z\" fill=\"#000000\" fill-rule=\"nonzero\" fill-opacity=\"1\" /><circle clip-path=\"url(#clip892)\" cx=\"2113.31\" cy=\"303.267\" r=\"10.8\" fill=\"#0000ff\" fill-rule=\"evenodd\" fill-opacity=\"1\" stroke=\"#000000\" stroke-opacity=\"1\" stroke-width=\"3.2\"/>\n",
       "<circle clip-path=\"url(#clip892)\" cx=\"1675.47\" cy=\"581.634\" r=\"10.8\" fill=\"#0000ff\" fill-rule=\"evenodd\" fill-opacity=\"1\" stroke=\"#000000\" stroke-opacity=\"1\" stroke-width=\"3.2\"/>\n",
       "<circle clip-path=\"url(#clip892)\" cx=\"672.09\" cy=\"1075.55\" r=\"10.8\" fill=\"#0000ff\" fill-rule=\"evenodd\" fill-opacity=\"1\" stroke=\"#000000\" stroke-opacity=\"1\" stroke-width=\"3.2\"/>\n",
       "<circle clip-path=\"url(#clip892)\" cx=\"1399.43\" cy=\"736.013\" r=\"10.8\" fill=\"#0000ff\" fill-rule=\"evenodd\" fill-opacity=\"1\" stroke=\"#000000\" stroke-opacity=\"1\" stroke-width=\"3.2\"/>\n",
       "<circle clip-path=\"url(#clip892)\" cx=\"1775.06\" cy=\"550.335\" r=\"10.8\" fill=\"#0000ff\" fill-rule=\"evenodd\" fill-opacity=\"1\" stroke=\"#000000\" stroke-opacity=\"1\" stroke-width=\"3.2\"/>\n",
       "<circle clip-path=\"url(#clip892)\" cx=\"1389.61\" cy=\"694.154\" r=\"10.8\" fill=\"#0000ff\" fill-rule=\"evenodd\" fill-opacity=\"1\" stroke=\"#000000\" stroke-opacity=\"1\" stroke-width=\"3.2\"/>\n",
       "<circle clip-path=\"url(#clip892)\" cx=\"672.175\" cy=\"1148.65\" r=\"10.8\" fill=\"#0000ff\" fill-rule=\"evenodd\" fill-opacity=\"1\" stroke=\"#000000\" stroke-opacity=\"1\" stroke-width=\"3.2\"/>\n",
       "<circle clip-path=\"url(#clip892)\" cx=\"1444.31\" cy=\"688.64\" r=\"10.8\" fill=\"#0000ff\" fill-rule=\"evenodd\" fill-opacity=\"1\" stroke=\"#000000\" stroke-opacity=\"1\" stroke-width=\"3.2\"/>\n",
       "<circle clip-path=\"url(#clip892)\" cx=\"1104.94\" cy=\"823.649\" r=\"10.8\" fill=\"#0000ff\" fill-rule=\"evenodd\" fill-opacity=\"1\" stroke=\"#000000\" stroke-opacity=\"1\" stroke-width=\"3.2\"/>\n",
       "<circle clip-path=\"url(#clip892)\" cx=\"1921.24\" cy=\"368.875\" r=\"10.8\" fill=\"#0000ff\" fill-rule=\"evenodd\" fill-opacity=\"1\" stroke=\"#000000\" stroke-opacity=\"1\" stroke-width=\"3.2\"/>\n",
       "<circle clip-path=\"url(#clip892)\" cx=\"338.358\" cy=\"1329.25\" r=\"10.8\" fill=\"#0000ff\" fill-rule=\"evenodd\" fill-opacity=\"1\" stroke=\"#000000\" stroke-opacity=\"1\" stroke-width=\"3.2\"/>\n",
       "<circle clip-path=\"url(#clip892)\" cx=\"399.019\" cy=\"1278.54\" r=\"10.8\" fill=\"#0000ff\" fill-rule=\"evenodd\" fill-opacity=\"1\" stroke=\"#000000\" stroke-opacity=\"1\" stroke-width=\"3.2\"/>\n",
       "<circle clip-path=\"url(#clip892)\" cx=\"1124.32\" cy=\"815.21\" r=\"10.8\" fill=\"#0000ff\" fill-rule=\"evenodd\" fill-opacity=\"1\" stroke=\"#000000\" stroke-opacity=\"1\" stroke-width=\"3.2\"/>\n",
       "<circle clip-path=\"url(#clip892)\" cx=\"1456.05\" cy=\"701.452\" r=\"10.8\" fill=\"#0000ff\" fill-rule=\"evenodd\" fill-opacity=\"1\" stroke=\"#000000\" stroke-opacity=\"1\" stroke-width=\"3.2\"/>\n",
       "<circle clip-path=\"url(#clip892)\" cx=\"1877.69\" cy=\"464.974\" r=\"10.8\" fill=\"#0000ff\" fill-rule=\"evenodd\" fill-opacity=\"1\" stroke=\"#000000\" stroke-opacity=\"1\" stroke-width=\"3.2\"/>\n",
       "<circle clip-path=\"url(#clip892)\" cx=\"260.438\" cy=\"1332.53\" r=\"10.8\" fill=\"#0000ff\" fill-rule=\"evenodd\" fill-opacity=\"1\" stroke=\"#000000\" stroke-opacity=\"1\" stroke-width=\"3.2\"/>\n",
       "<circle clip-path=\"url(#clip892)\" cx=\"1615.85\" cy=\"606.546\" r=\"10.8\" fill=\"#0000ff\" fill-rule=\"evenodd\" fill-opacity=\"1\" stroke=\"#000000\" stroke-opacity=\"1\" stroke-width=\"3.2\"/>\n",
       "<circle clip-path=\"url(#clip892)\" cx=\"1251.18\" cy=\"832.716\" r=\"10.8\" fill=\"#0000ff\" fill-rule=\"evenodd\" fill-opacity=\"1\" stroke=\"#000000\" stroke-opacity=\"1\" stroke-width=\"3.2\"/>\n",
       "<circle clip-path=\"url(#clip892)\" cx=\"1257.18\" cy=\"768.541\" r=\"10.8\" fill=\"#0000ff\" fill-rule=\"evenodd\" fill-opacity=\"1\" stroke=\"#000000\" stroke-opacity=\"1\" stroke-width=\"3.2\"/>\n",
       "<circle clip-path=\"url(#clip892)\" cx=\"1521.66\" cy=\"631.53\" r=\"10.8\" fill=\"#0000ff\" fill-rule=\"evenodd\" fill-opacity=\"1\" stroke=\"#000000\" stroke-opacity=\"1\" stroke-width=\"3.2\"/>\n",
       "<circle clip-path=\"url(#clip892)\" cx=\"1536.29\" cy=\"657.787\" r=\"10.8\" fill=\"#0000ff\" fill-rule=\"evenodd\" fill-opacity=\"1\" stroke=\"#000000\" stroke-opacity=\"1\" stroke-width=\"3.2\"/>\n",
       "<circle clip-path=\"url(#clip892)\" cx=\"425.895\" cy=\"1224.89\" r=\"10.8\" fill=\"#0000ff\" fill-rule=\"evenodd\" fill-opacity=\"1\" stroke=\"#000000\" stroke-opacity=\"1\" stroke-width=\"3.2\"/>\n",
       "<circle clip-path=\"url(#clip892)\" cx=\"1737.19\" cy=\"478.271\" r=\"10.8\" fill=\"#0000ff\" fill-rule=\"evenodd\" fill-opacity=\"1\" stroke=\"#000000\" stroke-opacity=\"1\" stroke-width=\"3.2\"/>\n",
       "<circle clip-path=\"url(#clip892)\" cx=\"983.874\" cy=\"959.2\" r=\"10.8\" fill=\"#0000ff\" fill-rule=\"evenodd\" fill-opacity=\"1\" stroke=\"#000000\" stroke-opacity=\"1\" stroke-width=\"3.2\"/>\n",
       "<circle clip-path=\"url(#clip892)\" cx=\"1790.28\" cy=\"504.341\" r=\"10.8\" fill=\"#0000ff\" fill-rule=\"evenodd\" fill-opacity=\"1\" stroke=\"#000000\" stroke-opacity=\"1\" stroke-width=\"3.2\"/>\n",
       "<circle clip-path=\"url(#clip892)\" cx=\"735.35\" cy=\"1116.36\" r=\"10.8\" fill=\"#0000ff\" fill-rule=\"evenodd\" fill-opacity=\"1\" stroke=\"#000000\" stroke-opacity=\"1\" stroke-width=\"3.2\"/>\n",
       "<circle clip-path=\"url(#clip892)\" cx=\"1536.65\" cy=\"652.773\" r=\"10.8\" fill=\"#0000ff\" fill-rule=\"evenodd\" fill-opacity=\"1\" stroke=\"#000000\" stroke-opacity=\"1\" stroke-width=\"3.2\"/>\n",
       "<circle clip-path=\"url(#clip892)\" cx=\"844.509\" cy=\"1037.93\" r=\"10.8\" fill=\"#0000ff\" fill-rule=\"evenodd\" fill-opacity=\"1\" stroke=\"#000000\" stroke-opacity=\"1\" stroke-width=\"3.2\"/>\n",
       "<circle clip-path=\"url(#clip892)\" cx=\"562.556\" cy=\"1134.2\" r=\"10.8\" fill=\"#0000ff\" fill-rule=\"evenodd\" fill-opacity=\"1\" stroke=\"#000000\" stroke-opacity=\"1\" stroke-width=\"3.2\"/>\n",
       "<circle clip-path=\"url(#clip892)\" cx=\"289.075\" cy=\"1317.74\" r=\"10.8\" fill=\"#0000ff\" fill-rule=\"evenodd\" fill-opacity=\"1\" stroke=\"#000000\" stroke-opacity=\"1\" stroke-width=\"3.2\"/>\n",
       "<circle clip-path=\"url(#clip892)\" cx=\"1274.8\" cy=\"728.257\" r=\"10.8\" fill=\"#0000ff\" fill-rule=\"evenodd\" fill-opacity=\"1\" stroke=\"#000000\" stroke-opacity=\"1\" stroke-width=\"3.2\"/>\n",
       "<circle clip-path=\"url(#clip892)\" cx=\"743.729\" cy=\"1130.7\" r=\"10.8\" fill=\"#0000ff\" fill-rule=\"evenodd\" fill-opacity=\"1\" stroke=\"#000000\" stroke-opacity=\"1\" stroke-width=\"3.2\"/>\n",
       "<circle clip-path=\"url(#clip892)\" cx=\"2036.48\" cy=\"381.849\" r=\"10.8\" fill=\"#0000ff\" fill-rule=\"evenodd\" fill-opacity=\"1\" stroke=\"#000000\" stroke-opacity=\"1\" stroke-width=\"3.2\"/>\n",
       "<circle clip-path=\"url(#clip892)\" cx=\"655.722\" cy=\"1141.84\" r=\"10.8\" fill=\"#0000ff\" fill-rule=\"evenodd\" fill-opacity=\"1\" stroke=\"#000000\" stroke-opacity=\"1\" stroke-width=\"3.2\"/>\n",
       "<circle clip-path=\"url(#clip892)\" cx=\"659.924\" cy=\"1163.13\" r=\"10.8\" fill=\"#0000ff\" fill-rule=\"evenodd\" fill-opacity=\"1\" stroke=\"#000000\" stroke-opacity=\"1\" stroke-width=\"3.2\"/>\n",
       "<circle clip-path=\"url(#clip892)\" cx=\"2150.49\" cy=\"278.259\" r=\"10.8\" fill=\"#0000ff\" fill-rule=\"evenodd\" fill-opacity=\"1\" stroke=\"#000000\" stroke-opacity=\"1\" stroke-width=\"3.2\"/>\n",
       "<circle clip-path=\"url(#clip892)\" cx=\"1708.93\" cy=\"504.283\" r=\"10.8\" fill=\"#0000ff\" fill-rule=\"evenodd\" fill-opacity=\"1\" stroke=\"#000000\" stroke-opacity=\"1\" stroke-width=\"3.2\"/>\n",
       "<circle clip-path=\"url(#clip892)\" cx=\"2030.96\" cy=\"304.892\" r=\"10.8\" fill=\"#0000ff\" fill-rule=\"evenodd\" fill-opacity=\"1\" stroke=\"#000000\" stroke-opacity=\"1\" stroke-width=\"3.2\"/>\n",
       "<circle clip-path=\"url(#clip892)\" cx=\"490.244\" cy=\"1263.26\" r=\"10.8\" fill=\"#0000ff\" fill-rule=\"evenodd\" fill-opacity=\"1\" stroke=\"#000000\" stroke-opacity=\"1\" stroke-width=\"3.2\"/>\n",
       "<circle clip-path=\"url(#clip892)\" cx=\"294.119\" cy=\"1352.93\" r=\"10.8\" fill=\"#0000ff\" fill-rule=\"evenodd\" fill-opacity=\"1\" stroke=\"#000000\" stroke-opacity=\"1\" stroke-width=\"3.2\"/>\n",
       "<circle clip-path=\"url(#clip892)\" cx=\"484.184\" cy=\"1261.81\" r=\"10.8\" fill=\"#0000ff\" fill-rule=\"evenodd\" fill-opacity=\"1\" stroke=\"#000000\" stroke-opacity=\"1\" stroke-width=\"3.2\"/>\n",
       "<circle clip-path=\"url(#clip892)\" cx=\"269.021\" cy=\"1340.71\" r=\"10.8\" fill=\"#0000ff\" fill-rule=\"evenodd\" fill-opacity=\"1\" stroke=\"#000000\" stroke-opacity=\"1\" stroke-width=\"3.2\"/>\n",
       "<circle clip-path=\"url(#clip892)\" cx=\"1054.33\" cy=\"858.393\" r=\"10.8\" fill=\"#0000ff\" fill-rule=\"evenodd\" fill-opacity=\"1\" stroke=\"#000000\" stroke-opacity=\"1\" stroke-width=\"3.2\"/>\n",
       "<circle clip-path=\"url(#clip892)\" cx=\"1210.98\" cy=\"820.136\" r=\"10.8\" fill=\"#0000ff\" fill-rule=\"evenodd\" fill-opacity=\"1\" stroke=\"#000000\" stroke-opacity=\"1\" stroke-width=\"3.2\"/>\n",
       "<circle clip-path=\"url(#clip892)\" cx=\"1257.79\" cy=\"758.32\" r=\"10.8\" fill=\"#0000ff\" fill-rule=\"evenodd\" fill-opacity=\"1\" stroke=\"#000000\" stroke-opacity=\"1\" stroke-width=\"3.2\"/>\n",
       "<circle clip-path=\"url(#clip892)\" cx=\"427.416\" cy=\"1285.29\" r=\"10.8\" fill=\"#0000ff\" fill-rule=\"evenodd\" fill-opacity=\"1\" stroke=\"#000000\" stroke-opacity=\"1\" stroke-width=\"3.2\"/>\n",
       "<circle clip-path=\"url(#clip892)\" cx=\"1232.53\" cy=\"805.323\" r=\"10.8\" fill=\"#0000ff\" fill-rule=\"evenodd\" fill-opacity=\"1\" stroke=\"#000000\" stroke-opacity=\"1\" stroke-width=\"3.2\"/>\n",
       "<circle clip-path=\"url(#clip892)\" cx=\"624.957\" cy=\"1171.51\" r=\"10.8\" fill=\"#0000ff\" fill-rule=\"evenodd\" fill-opacity=\"1\" stroke=\"#000000\" stroke-opacity=\"1\" stroke-width=\"3.2\"/>\n",
       "<circle clip-path=\"url(#clip892)\" cx=\"693.196\" cy=\"1121.47\" r=\"10.8\" fill=\"#0000ff\" fill-rule=\"evenodd\" fill-opacity=\"1\" stroke=\"#000000\" stroke-opacity=\"1\" stroke-width=\"3.2\"/>\n",
       "<circle clip-path=\"url(#clip892)\" cx=\"1340.84\" cy=\"694.094\" r=\"10.8\" fill=\"#0000ff\" fill-rule=\"evenodd\" fill-opacity=\"1\" stroke=\"#000000\" stroke-opacity=\"1\" stroke-width=\"3.2\"/>\n",
       "<circle clip-path=\"url(#clip892)\" cx=\"1652.31\" cy=\"597.423\" r=\"10.8\" fill=\"#0000ff\" fill-rule=\"evenodd\" fill-opacity=\"1\" stroke=\"#000000\" stroke-opacity=\"1\" stroke-width=\"3.2\"/>\n",
       "<circle clip-path=\"url(#clip892)\" cx=\"1276.34\" cy=\"767.268\" r=\"10.8\" fill=\"#0000ff\" fill-rule=\"evenodd\" fill-opacity=\"1\" stroke=\"#000000\" stroke-opacity=\"1\" stroke-width=\"3.2\"/>\n",
       "<circle clip-path=\"url(#clip892)\" cx=\"808.361\" cy=\"989.996\" r=\"10.8\" fill=\"#0000ff\" fill-rule=\"evenodd\" fill-opacity=\"1\" stroke=\"#000000\" stroke-opacity=\"1\" stroke-width=\"3.2\"/>\n",
       "<circle clip-path=\"url(#clip892)\" cx=\"1066.81\" cy=\"947.764\" r=\"10.8\" fill=\"#0000ff\" fill-rule=\"evenodd\" fill-opacity=\"1\" stroke=\"#000000\" stroke-opacity=\"1\" stroke-width=\"3.2\"/>\n",
       "<circle clip-path=\"url(#clip892)\" cx=\"873.54\" cy=\"1042.5\" r=\"10.8\" fill=\"#0000ff\" fill-rule=\"evenodd\" fill-opacity=\"1\" stroke=\"#000000\" stroke-opacity=\"1\" stroke-width=\"3.2\"/>\n",
       "<circle clip-path=\"url(#clip892)\" cx=\"393.762\" cy=\"1258.1\" r=\"10.8\" fill=\"#0000ff\" fill-rule=\"evenodd\" fill-opacity=\"1\" stroke=\"#000000\" stroke-opacity=\"1\" stroke-width=\"3.2\"/>\n",
       "<circle clip-path=\"url(#clip892)\" cx=\"826.447\" cy=\"986.859\" r=\"10.8\" fill=\"#0000ff\" fill-rule=\"evenodd\" fill-opacity=\"1\" stroke=\"#000000\" stroke-opacity=\"1\" stroke-width=\"3.2\"/>\n",
       "<circle clip-path=\"url(#clip892)\" cx=\"1084.42\" cy=\"836.452\" r=\"10.8\" fill=\"#0000ff\" fill-rule=\"evenodd\" fill-opacity=\"1\" stroke=\"#000000\" stroke-opacity=\"1\" stroke-width=\"3.2\"/>\n",
       "<circle clip-path=\"url(#clip892)\" cx=\"668.241\" cy=\"1132.06\" r=\"10.8\" fill=\"#0000ff\" fill-rule=\"evenodd\" fill-opacity=\"1\" stroke=\"#000000\" stroke-opacity=\"1\" stroke-width=\"3.2\"/>\n",
       "<circle clip-path=\"url(#clip892)\" cx=\"1706.85\" cy=\"576.552\" r=\"10.8\" fill=\"#0000ff\" fill-rule=\"evenodd\" fill-opacity=\"1\" stroke=\"#000000\" stroke-opacity=\"1\" stroke-width=\"3.2\"/>\n",
       "<circle clip-path=\"url(#clip892)\" cx=\"900.558\" cy=\"1022.1\" r=\"10.8\" fill=\"#0000ff\" fill-rule=\"evenodd\" fill-opacity=\"1\" stroke=\"#000000\" stroke-opacity=\"1\" stroke-width=\"3.2\"/>\n",
       "<circle clip-path=\"url(#clip892)\" cx=\"1813.97\" cy=\"528.431\" r=\"10.8\" fill=\"#0000ff\" fill-rule=\"evenodd\" fill-opacity=\"1\" stroke=\"#000000\" stroke-opacity=\"1\" stroke-width=\"3.2\"/>\n",
       "<circle clip-path=\"url(#clip892)\" cx=\"1936.49\" cy=\"460.692\" r=\"10.8\" fill=\"#0000ff\" fill-rule=\"evenodd\" fill-opacity=\"1\" stroke=\"#000000\" stroke-opacity=\"1\" stroke-width=\"3.2\"/>\n",
       "<circle clip-path=\"url(#clip892)\" cx=\"454.258\" cy=\"1238.03\" r=\"10.8\" fill=\"#0000ff\" fill-rule=\"evenodd\" fill-opacity=\"1\" stroke=\"#000000\" stroke-opacity=\"1\" stroke-width=\"3.2\"/>\n",
       "<circle clip-path=\"url(#clip892)\" cx=\"1810.81\" cy=\"459.986\" r=\"10.8\" fill=\"#0000ff\" fill-rule=\"evenodd\" fill-opacity=\"1\" stroke=\"#000000\" stroke-opacity=\"1\" stroke-width=\"3.2\"/>\n",
       "<circle clip-path=\"url(#clip892)\" cx=\"1325.36\" cy=\"747.887\" r=\"10.8\" fill=\"#0000ff\" fill-rule=\"evenodd\" fill-opacity=\"1\" stroke=\"#000000\" stroke-opacity=\"1\" stroke-width=\"3.2\"/>\n",
       "<circle clip-path=\"url(#clip892)\" cx=\"494.79\" cy=\"1240.06\" r=\"10.8\" fill=\"#0000ff\" fill-rule=\"evenodd\" fill-opacity=\"1\" stroke=\"#000000\" stroke-opacity=\"1\" stroke-width=\"3.2\"/>\n",
       "<circle clip-path=\"url(#clip892)\" cx=\"777.203\" cy=\"1024.59\" r=\"10.8\" fill=\"#0000ff\" fill-rule=\"evenodd\" fill-opacity=\"1\" stroke=\"#000000\" stroke-opacity=\"1\" stroke-width=\"3.2\"/>\n",
       "<circle clip-path=\"url(#clip892)\" cx=\"331.687\" cy=\"1281.1\" r=\"10.8\" fill=\"#0000ff\" fill-rule=\"evenodd\" fill-opacity=\"1\" stroke=\"#000000\" stroke-opacity=\"1\" stroke-width=\"3.2\"/>\n",
       "<circle clip-path=\"url(#clip892)\" cx=\"635.052\" cy=\"1162.35\" r=\"10.8\" fill=\"#0000ff\" fill-rule=\"evenodd\" fill-opacity=\"1\" stroke=\"#000000\" stroke-opacity=\"1\" stroke-width=\"3.2\"/>\n",
       "<circle clip-path=\"url(#clip892)\" cx=\"1127.78\" cy=\"848.132\" r=\"10.8\" fill=\"#0000ff\" fill-rule=\"evenodd\" fill-opacity=\"1\" stroke=\"#000000\" stroke-opacity=\"1\" stroke-width=\"3.2\"/>\n",
       "<circle clip-path=\"url(#clip892)\" cx=\"1268.28\" cy=\"741.446\" r=\"10.8\" fill=\"#0000ff\" fill-rule=\"evenodd\" fill-opacity=\"1\" stroke=\"#000000\" stroke-opacity=\"1\" stroke-width=\"3.2\"/>\n",
       "<circle clip-path=\"url(#clip892)\" cx=\"1702.37\" cy=\"564.185\" r=\"10.8\" fill=\"#0000ff\" fill-rule=\"evenodd\" fill-opacity=\"1\" stroke=\"#000000\" stroke-opacity=\"1\" stroke-width=\"3.2\"/>\n",
       "<circle clip-path=\"url(#clip892)\" cx=\"1967.9\" cy=\"434.014\" r=\"10.8\" fill=\"#0000ff\" fill-rule=\"evenodd\" fill-opacity=\"1\" stroke=\"#000000\" stroke-opacity=\"1\" stroke-width=\"3.2\"/>\n",
       "<circle clip-path=\"url(#clip892)\" cx=\"1616.6\" cy=\"597.163\" r=\"10.8\" fill=\"#0000ff\" fill-rule=\"evenodd\" fill-opacity=\"1\" stroke=\"#000000\" stroke-opacity=\"1\" stroke-width=\"3.2\"/>\n",
       "<circle clip-path=\"url(#clip892)\" cx=\"1492.2\" cy=\"703.031\" r=\"10.8\" fill=\"#0000ff\" fill-rule=\"evenodd\" fill-opacity=\"1\" stroke=\"#000000\" stroke-opacity=\"1\" stroke-width=\"3.2\"/>\n",
       "<circle clip-path=\"url(#clip892)\" cx=\"1107.36\" cy=\"832.634\" r=\"10.8\" fill=\"#0000ff\" fill-rule=\"evenodd\" fill-opacity=\"1\" stroke=\"#000000\" stroke-opacity=\"1\" stroke-width=\"3.2\"/>\n",
       "<circle clip-path=\"url(#clip892)\" cx=\"1919.84\" cy=\"368.823\" r=\"10.8\" fill=\"#0000ff\" fill-rule=\"evenodd\" fill-opacity=\"1\" stroke=\"#000000\" stroke-opacity=\"1\" stroke-width=\"3.2\"/>\n",
       "<circle clip-path=\"url(#clip892)\" cx=\"1833.21\" cy=\"435.229\" r=\"10.8\" fill=\"#0000ff\" fill-rule=\"evenodd\" fill-opacity=\"1\" stroke=\"#000000\" stroke-opacity=\"1\" stroke-width=\"3.2\"/>\n",
       "<circle clip-path=\"url(#clip892)\" cx=\"1240.38\" cy=\"812.633\" r=\"10.8\" fill=\"#0000ff\" fill-rule=\"evenodd\" fill-opacity=\"1\" stroke=\"#000000\" stroke-opacity=\"1\" stroke-width=\"3.2\"/>\n",
       "<circle clip-path=\"url(#clip892)\" cx=\"904.861\" cy=\"979.42\" r=\"10.8\" fill=\"#0000ff\" fill-rule=\"evenodd\" fill-opacity=\"1\" stroke=\"#000000\" stroke-opacity=\"1\" stroke-width=\"3.2\"/>\n",
       "<circle clip-path=\"url(#clip892)\" cx=\"1000.9\" cy=\"942.278\" r=\"10.8\" fill=\"#0000ff\" fill-rule=\"evenodd\" fill-opacity=\"1\" stroke=\"#000000\" stroke-opacity=\"1\" stroke-width=\"3.2\"/>\n",
       "<circle clip-path=\"url(#clip892)\" cx=\"1235.73\" cy=\"775.836\" r=\"10.8\" fill=\"#0000ff\" fill-rule=\"evenodd\" fill-opacity=\"1\" stroke=\"#000000\" stroke-opacity=\"1\" stroke-width=\"3.2\"/>\n",
       "<circle clip-path=\"url(#clip892)\" cx=\"2046.03\" cy=\"318.84\" r=\"10.8\" fill=\"#0000ff\" fill-rule=\"evenodd\" fill-opacity=\"1\" stroke=\"#000000\" stroke-opacity=\"1\" stroke-width=\"3.2\"/>\n",
       "<circle clip-path=\"url(#clip892)\" cx=\"2045.11\" cy=\"397.877\" r=\"10.8\" fill=\"#0000ff\" fill-rule=\"evenodd\" fill-opacity=\"1\" stroke=\"#000000\" stroke-opacity=\"1\" stroke-width=\"3.2\"/>\n",
       "<circle clip-path=\"url(#clip892)\" cx=\"1747.3\" cy=\"545.699\" r=\"10.8\" fill=\"#0000ff\" fill-rule=\"evenodd\" fill-opacity=\"1\" stroke=\"#000000\" stroke-opacity=\"1\" stroke-width=\"3.2\"/>\n",
       "<circle clip-path=\"url(#clip892)\" cx=\"1976.14\" cy=\"349.848\" r=\"10.8\" fill=\"#0000ff\" fill-rule=\"evenodd\" fill-opacity=\"1\" stroke=\"#000000\" stroke-opacity=\"1\" stroke-width=\"3.2\"/>\n",
       "<circle clip-path=\"url(#clip892)\" cx=\"1704.71\" cy=\"524.354\" r=\"10.8\" fill=\"#0000ff\" fill-rule=\"evenodd\" fill-opacity=\"1\" stroke=\"#000000\" stroke-opacity=\"1\" stroke-width=\"3.2\"/>\n",
       "<circle clip-path=\"url(#clip892)\" cx=\"2078.19\" cy=\"288.993\" r=\"10.8\" fill=\"#0000ff\" fill-rule=\"evenodd\" fill-opacity=\"1\" stroke=\"#000000\" stroke-opacity=\"1\" stroke-width=\"3.2\"/>\n",
       "<circle clip-path=\"url(#clip892)\" cx=\"489.808\" cy=\"1217\" r=\"10.8\" fill=\"#0000ff\" fill-rule=\"evenodd\" fill-opacity=\"1\" stroke=\"#000000\" stroke-opacity=\"1\" stroke-width=\"3.2\"/>\n",
       "<circle clip-path=\"url(#clip892)\" cx=\"473.567\" cy=\"1222.99\" r=\"10.8\" fill=\"#0000ff\" fill-rule=\"evenodd\" fill-opacity=\"1\" stroke=\"#000000\" stroke-opacity=\"1\" stroke-width=\"3.2\"/>\n",
       "<circle clip-path=\"url(#clip892)\" cx=\"677.635\" cy=\"1086.61\" r=\"10.8\" fill=\"#0000ff\" fill-rule=\"evenodd\" fill-opacity=\"1\" stroke=\"#000000\" stroke-opacity=\"1\" stroke-width=\"3.2\"/>\n",
       "<circle clip-path=\"url(#clip892)\" cx=\"1755.61\" cy=\"517.131\" r=\"10.8\" fill=\"#0000ff\" fill-rule=\"evenodd\" fill-opacity=\"1\" stroke=\"#000000\" stroke-opacity=\"1\" stroke-width=\"3.2\"/>\n",
       "<circle clip-path=\"url(#clip892)\" cx=\"1041.71\" cy=\"865.314\" r=\"10.8\" fill=\"#0000ff\" fill-rule=\"evenodd\" fill-opacity=\"1\" stroke=\"#000000\" stroke-opacity=\"1\" stroke-width=\"3.2\"/>\n",
       "<circle clip-path=\"url(#clip892)\" cx=\"828.773\" cy=\"1039.85\" r=\"10.8\" fill=\"#0000ff\" fill-rule=\"evenodd\" fill-opacity=\"1\" stroke=\"#000000\" stroke-opacity=\"1\" stroke-width=\"3.2\"/>\n",
       "<circle clip-path=\"url(#clip892)\" cx=\"844.641\" cy=\"1023.42\" r=\"10.8\" fill=\"#0000ff\" fill-rule=\"evenodd\" fill-opacity=\"1\" stroke=\"#000000\" stroke-opacity=\"1\" stroke-width=\"3.2\"/>\n",
       "<circle clip-path=\"url(#clip892)\" cx=\"1873.17\" cy=\"486.971\" r=\"10.8\" fill=\"#0000ff\" fill-rule=\"evenodd\" fill-opacity=\"1\" stroke=\"#000000\" stroke-opacity=\"1\" stroke-width=\"3.2\"/>\n",
       "<circle clip-path=\"url(#clip892)\" cx=\"361.683\" cy=\"1325.1\" r=\"10.8\" fill=\"#0000ff\" fill-rule=\"evenodd\" fill-opacity=\"1\" stroke=\"#000000\" stroke-opacity=\"1\" stroke-width=\"3.2\"/>\n",
       "<circle clip-path=\"url(#clip892)\" cx=\"606.648\" cy=\"1173.87\" r=\"10.8\" fill=\"#0000ff\" fill-rule=\"evenodd\" fill-opacity=\"1\" stroke=\"#000000\" stroke-opacity=\"1\" stroke-width=\"3.2\"/>\n",
       "<circle clip-path=\"url(#clip892)\" cx=\"1339.72\" cy=\"767.456\" r=\"10.8\" fill=\"#0000ff\" fill-rule=\"evenodd\" fill-opacity=\"1\" stroke=\"#000000\" stroke-opacity=\"1\" stroke-width=\"3.2\"/>\n",
       "<circle clip-path=\"url(#clip892)\" cx=\"2113.31\" cy=\"857.082\" r=\"10.8\" fill=\"#ff0000\" fill-rule=\"evenodd\" fill-opacity=\"1\" stroke=\"#000000\" stroke-opacity=\"1\" stroke-width=\"3.2\"/>\n",
       "<circle clip-path=\"url(#clip892)\" cx=\"1675.47\" cy=\"996.265\" r=\"10.8\" fill=\"#ff0000\" fill-rule=\"evenodd\" fill-opacity=\"1\" stroke=\"#000000\" stroke-opacity=\"1\" stroke-width=\"3.2\"/>\n",
       "<circle clip-path=\"url(#clip892)\" cx=\"672.09\" cy=\"1243.22\" r=\"10.8\" fill=\"#ff0000\" fill-rule=\"evenodd\" fill-opacity=\"1\" stroke=\"#000000\" stroke-opacity=\"1\" stroke-width=\"3.2\"/>\n",
       "<circle clip-path=\"url(#clip892)\" cx=\"1399.43\" cy=\"1073.45\" r=\"10.8\" fill=\"#ff0000\" fill-rule=\"evenodd\" fill-opacity=\"1\" stroke=\"#000000\" stroke-opacity=\"1\" stroke-width=\"3.2\"/>\n",
       "<circle clip-path=\"url(#clip892)\" cx=\"1775.06\" cy=\"980.616\" r=\"10.8\" fill=\"#ff0000\" fill-rule=\"evenodd\" fill-opacity=\"1\" stroke=\"#000000\" stroke-opacity=\"1\" stroke-width=\"3.2\"/>\n",
       "<circle clip-path=\"url(#clip892)\" cx=\"1389.61\" cy=\"1052.53\" r=\"10.8\" fill=\"#ff0000\" fill-rule=\"evenodd\" fill-opacity=\"1\" stroke=\"#000000\" stroke-opacity=\"1\" stroke-width=\"3.2\"/>\n",
       "<circle clip-path=\"url(#clip892)\" cx=\"672.175\" cy=\"1279.77\" r=\"10.8\" fill=\"#ff0000\" fill-rule=\"evenodd\" fill-opacity=\"1\" stroke=\"#000000\" stroke-opacity=\"1\" stroke-width=\"3.2\"/>\n",
       "<circle clip-path=\"url(#clip892)\" cx=\"1444.31\" cy=\"1049.77\" r=\"10.8\" fill=\"#ff0000\" fill-rule=\"evenodd\" fill-opacity=\"1\" stroke=\"#000000\" stroke-opacity=\"1\" stroke-width=\"3.2\"/>\n",
       "<circle clip-path=\"url(#clip892)\" cx=\"1104.94\" cy=\"1117.27\" r=\"10.8\" fill=\"#ff0000\" fill-rule=\"evenodd\" fill-opacity=\"1\" stroke=\"#000000\" stroke-opacity=\"1\" stroke-width=\"3.2\"/>\n",
       "<circle clip-path=\"url(#clip892)\" cx=\"1921.24\" cy=\"889.886\" r=\"10.8\" fill=\"#ff0000\" fill-rule=\"evenodd\" fill-opacity=\"1\" stroke=\"#000000\" stroke-opacity=\"1\" stroke-width=\"3.2\"/>\n",
       "<circle clip-path=\"url(#clip892)\" cx=\"338.358\" cy=\"1370.07\" r=\"10.8\" fill=\"#ff0000\" fill-rule=\"evenodd\" fill-opacity=\"1\" stroke=\"#000000\" stroke-opacity=\"1\" stroke-width=\"3.2\"/>\n",
       "<circle clip-path=\"url(#clip892)\" cx=\"399.019\" cy=\"1344.72\" r=\"10.8\" fill=\"#ff0000\" fill-rule=\"evenodd\" fill-opacity=\"1\" stroke=\"#000000\" stroke-opacity=\"1\" stroke-width=\"3.2\"/>\n",
       "<circle clip-path=\"url(#clip892)\" cx=\"1124.32\" cy=\"1113.05\" r=\"10.8\" fill=\"#ff0000\" fill-rule=\"evenodd\" fill-opacity=\"1\" stroke=\"#000000\" stroke-opacity=\"1\" stroke-width=\"3.2\"/>\n",
       "<circle clip-path=\"url(#clip892)\" cx=\"1456.05\" cy=\"1056.17\" r=\"10.8\" fill=\"#ff0000\" fill-rule=\"evenodd\" fill-opacity=\"1\" stroke=\"#000000\" stroke-opacity=\"1\" stroke-width=\"3.2\"/>\n",
       "<circle clip-path=\"url(#clip892)\" cx=\"1877.69\" cy=\"937.935\" r=\"10.8\" fill=\"#ff0000\" fill-rule=\"evenodd\" fill-opacity=\"1\" stroke=\"#000000\" stroke-opacity=\"1\" stroke-width=\"3.2\"/>\n",
       "<circle clip-path=\"url(#clip892)\" cx=\"260.438\" cy=\"1371.71\" r=\"10.8\" fill=\"#ff0000\" fill-rule=\"evenodd\" fill-opacity=\"1\" stroke=\"#000000\" stroke-opacity=\"1\" stroke-width=\"3.2\"/>\n",
       "<circle clip-path=\"url(#clip892)\" cx=\"1615.85\" cy=\"1008.72\" r=\"10.8\" fill=\"#ff0000\" fill-rule=\"evenodd\" fill-opacity=\"1\" stroke=\"#000000\" stroke-opacity=\"1\" stroke-width=\"3.2\"/>\n",
       "<circle clip-path=\"url(#clip892)\" cx=\"1251.18\" cy=\"1121.81\" r=\"10.8\" fill=\"#ff0000\" fill-rule=\"evenodd\" fill-opacity=\"1\" stroke=\"#000000\" stroke-opacity=\"1\" stroke-width=\"3.2\"/>\n",
       "<circle clip-path=\"url(#clip892)\" cx=\"1257.18\" cy=\"1089.72\" r=\"10.8\" fill=\"#ff0000\" fill-rule=\"evenodd\" fill-opacity=\"1\" stroke=\"#000000\" stroke-opacity=\"1\" stroke-width=\"3.2\"/>\n",
       "<circle clip-path=\"url(#clip892)\" cx=\"1521.66\" cy=\"1021.21\" r=\"10.8\" fill=\"#ff0000\" fill-rule=\"evenodd\" fill-opacity=\"1\" stroke=\"#000000\" stroke-opacity=\"1\" stroke-width=\"3.2\"/>\n",
       "<circle clip-path=\"url(#clip892)\" cx=\"1536.29\" cy=\"1034.34\" r=\"10.8\" fill=\"#ff0000\" fill-rule=\"evenodd\" fill-opacity=\"1\" stroke=\"#000000\" stroke-opacity=\"1\" stroke-width=\"3.2\"/>\n",
       "<circle clip-path=\"url(#clip892)\" cx=\"425.895\" cy=\"1317.89\" r=\"10.8\" fill=\"#ff0000\" fill-rule=\"evenodd\" fill-opacity=\"1\" stroke=\"#000000\" stroke-opacity=\"1\" stroke-width=\"3.2\"/>\n",
       "<circle clip-path=\"url(#clip892)\" cx=\"1737.19\" cy=\"944.584\" r=\"10.8\" fill=\"#ff0000\" fill-rule=\"evenodd\" fill-opacity=\"1\" stroke=\"#000000\" stroke-opacity=\"1\" stroke-width=\"3.2\"/>\n",
       "<circle clip-path=\"url(#clip892)\" cx=\"983.874\" cy=\"1185.05\" r=\"10.8\" fill=\"#ff0000\" fill-rule=\"evenodd\" fill-opacity=\"1\" stroke=\"#000000\" stroke-opacity=\"1\" stroke-width=\"3.2\"/>\n",
       "<circle clip-path=\"url(#clip892)\" cx=\"1790.28\" cy=\"957.619\" r=\"10.8\" fill=\"#ff0000\" fill-rule=\"evenodd\" fill-opacity=\"1\" stroke=\"#000000\" stroke-opacity=\"1\" stroke-width=\"3.2\"/>\n",
       "<circle clip-path=\"url(#clip892)\" cx=\"735.35\" cy=\"1263.63\" r=\"10.8\" fill=\"#ff0000\" fill-rule=\"evenodd\" fill-opacity=\"1\" stroke=\"#000000\" stroke-opacity=\"1\" stroke-width=\"3.2\"/>\n",
       "<circle clip-path=\"url(#clip892)\" cx=\"1536.65\" cy=\"1031.83\" r=\"10.8\" fill=\"#ff0000\" fill-rule=\"evenodd\" fill-opacity=\"1\" stroke=\"#000000\" stroke-opacity=\"1\" stroke-width=\"3.2\"/>\n",
       "<circle clip-path=\"url(#clip892)\" cx=\"844.509\" cy=\"1224.41\" r=\"10.8\" fill=\"#ff0000\" fill-rule=\"evenodd\" fill-opacity=\"1\" stroke=\"#000000\" stroke-opacity=\"1\" stroke-width=\"3.2\"/>\n",
       "<circle clip-path=\"url(#clip892)\" cx=\"562.556\" cy=\"1272.55\" r=\"10.8\" fill=\"#ff0000\" fill-rule=\"evenodd\" fill-opacity=\"1\" stroke=\"#000000\" stroke-opacity=\"1\" stroke-width=\"3.2\"/>\n",
       "<circle clip-path=\"url(#clip892)\" cx=\"289.075\" cy=\"1364.32\" r=\"10.8\" fill=\"#ff0000\" fill-rule=\"evenodd\" fill-opacity=\"1\" stroke=\"#000000\" stroke-opacity=\"1\" stroke-width=\"3.2\"/>\n",
       "<circle clip-path=\"url(#clip892)\" cx=\"1274.8\" cy=\"1069.58\" r=\"10.8\" fill=\"#ff0000\" fill-rule=\"evenodd\" fill-opacity=\"1\" stroke=\"#000000\" stroke-opacity=\"1\" stroke-width=\"3.2\"/>\n",
       "<circle clip-path=\"url(#clip892)\" cx=\"743.729\" cy=\"1270.8\" r=\"10.8\" fill=\"#ff0000\" fill-rule=\"evenodd\" fill-opacity=\"1\" stroke=\"#000000\" stroke-opacity=\"1\" stroke-width=\"3.2\"/>\n",
       "<circle clip-path=\"url(#clip892)\" cx=\"2036.48\" cy=\"896.373\" r=\"10.8\" fill=\"#ff0000\" fill-rule=\"evenodd\" fill-opacity=\"1\" stroke=\"#000000\" stroke-opacity=\"1\" stroke-width=\"3.2\"/>\n",
       "<circle clip-path=\"url(#clip892)\" cx=\"655.722\" cy=\"1276.37\" r=\"10.8\" fill=\"#ff0000\" fill-rule=\"evenodd\" fill-opacity=\"1\" stroke=\"#000000\" stroke-opacity=\"1\" stroke-width=\"3.2\"/>\n",
       "<circle clip-path=\"url(#clip892)\" cx=\"659.924\" cy=\"1287.01\" r=\"10.8\" fill=\"#ff0000\" fill-rule=\"evenodd\" fill-opacity=\"1\" stroke=\"#000000\" stroke-opacity=\"1\" stroke-width=\"3.2\"/>\n",
       "<circle clip-path=\"url(#clip892)\" cx=\"2150.49\" cy=\"844.578\" r=\"10.8\" fill=\"#ff0000\" fill-rule=\"evenodd\" fill-opacity=\"1\" stroke=\"#000000\" stroke-opacity=\"1\" stroke-width=\"3.2\"/>\n",
       "<circle clip-path=\"url(#clip892)\" cx=\"1708.93\" cy=\"957.59\" r=\"10.8\" fill=\"#ff0000\" fill-rule=\"evenodd\" fill-opacity=\"1\" stroke=\"#000000\" stroke-opacity=\"1\" stroke-width=\"3.2\"/>\n",
       "<circle clip-path=\"url(#clip892)\" cx=\"2030.96\" cy=\"857.895\" r=\"10.8\" fill=\"#ff0000\" fill-rule=\"evenodd\" fill-opacity=\"1\" stroke=\"#000000\" stroke-opacity=\"1\" stroke-width=\"3.2\"/>\n",
       "<circle clip-path=\"url(#clip892)\" cx=\"490.244\" cy=\"1337.08\" r=\"10.8\" fill=\"#ff0000\" fill-rule=\"evenodd\" fill-opacity=\"1\" stroke=\"#000000\" stroke-opacity=\"1\" stroke-width=\"3.2\"/>\n",
       "<circle clip-path=\"url(#clip892)\" cx=\"294.119\" cy=\"1381.91\" r=\"10.8\" fill=\"#ff0000\" fill-rule=\"evenodd\" fill-opacity=\"1\" stroke=\"#000000\" stroke-opacity=\"1\" stroke-width=\"3.2\"/>\n",
       "<circle clip-path=\"url(#clip892)\" cx=\"484.184\" cy=\"1336.36\" r=\"10.8\" fill=\"#ff0000\" fill-rule=\"evenodd\" fill-opacity=\"1\" stroke=\"#000000\" stroke-opacity=\"1\" stroke-width=\"3.2\"/>\n",
       "<circle clip-path=\"url(#clip892)\" cx=\"269.021\" cy=\"1375.8\" r=\"10.8\" fill=\"#ff0000\" fill-rule=\"evenodd\" fill-opacity=\"1\" stroke=\"#000000\" stroke-opacity=\"1\" stroke-width=\"3.2\"/>\n",
       "<circle clip-path=\"url(#clip892)\" cx=\"1054.33\" cy=\"1134.64\" r=\"10.8\" fill=\"#ff0000\" fill-rule=\"evenodd\" fill-opacity=\"1\" stroke=\"#000000\" stroke-opacity=\"1\" stroke-width=\"3.2\"/>\n",
       "<circle clip-path=\"url(#clip892)\" cx=\"1210.98\" cy=\"1115.52\" r=\"10.8\" fill=\"#ff0000\" fill-rule=\"evenodd\" fill-opacity=\"1\" stroke=\"#000000\" stroke-opacity=\"1\" stroke-width=\"3.2\"/>\n",
       "<circle clip-path=\"url(#clip892)\" cx=\"1257.79\" cy=\"1084.61\" r=\"10.8\" fill=\"#ff0000\" fill-rule=\"evenodd\" fill-opacity=\"1\" stroke=\"#000000\" stroke-opacity=\"1\" stroke-width=\"3.2\"/>\n",
       "<circle clip-path=\"url(#clip892)\" cx=\"427.416\" cy=\"1348.1\" r=\"10.8\" fill=\"#ff0000\" fill-rule=\"evenodd\" fill-opacity=\"1\" stroke=\"#000000\" stroke-opacity=\"1\" stroke-width=\"3.2\"/>\n",
       "<circle clip-path=\"url(#clip892)\" cx=\"1232.53\" cy=\"1108.11\" r=\"10.8\" fill=\"#ff0000\" fill-rule=\"evenodd\" fill-opacity=\"1\" stroke=\"#000000\" stroke-opacity=\"1\" stroke-width=\"3.2\"/>\n",
       "<circle clip-path=\"url(#clip892)\" cx=\"624.957\" cy=\"1291.2\" r=\"10.8\" fill=\"#ff0000\" fill-rule=\"evenodd\" fill-opacity=\"1\" stroke=\"#000000\" stroke-opacity=\"1\" stroke-width=\"3.2\"/>\n",
       "<circle clip-path=\"url(#clip892)\" cx=\"693.196\" cy=\"1266.18\" r=\"10.8\" fill=\"#ff0000\" fill-rule=\"evenodd\" fill-opacity=\"1\" stroke=\"#000000\" stroke-opacity=\"1\" stroke-width=\"3.2\"/>\n",
       "<circle clip-path=\"url(#clip892)\" cx=\"1340.84\" cy=\"1052.5\" r=\"10.8\" fill=\"#ff0000\" fill-rule=\"evenodd\" fill-opacity=\"1\" stroke=\"#000000\" stroke-opacity=\"1\" stroke-width=\"3.2\"/>\n",
       "<circle clip-path=\"url(#clip892)\" cx=\"1652.31\" cy=\"1004.16\" r=\"10.8\" fill=\"#ff0000\" fill-rule=\"evenodd\" fill-opacity=\"1\" stroke=\"#000000\" stroke-opacity=\"1\" stroke-width=\"3.2\"/>\n",
       "<circle clip-path=\"url(#clip892)\" cx=\"1276.34\" cy=\"1089.08\" r=\"10.8\" fill=\"#ff0000\" fill-rule=\"evenodd\" fill-opacity=\"1\" stroke=\"#000000\" stroke-opacity=\"1\" stroke-width=\"3.2\"/>\n",
       "<circle clip-path=\"url(#clip892)\" cx=\"808.361\" cy=\"1200.45\" r=\"10.8\" fill=\"#ff0000\" fill-rule=\"evenodd\" fill-opacity=\"1\" stroke=\"#000000\" stroke-opacity=\"1\" stroke-width=\"3.2\"/>\n",
       "<circle clip-path=\"url(#clip892)\" cx=\"1066.81\" cy=\"1179.33\" r=\"10.8\" fill=\"#ff0000\" fill-rule=\"evenodd\" fill-opacity=\"1\" stroke=\"#000000\" stroke-opacity=\"1\" stroke-width=\"3.2\"/>\n",
       "<circle clip-path=\"url(#clip892)\" cx=\"873.54\" cy=\"1226.7\" r=\"10.8\" fill=\"#ff0000\" fill-rule=\"evenodd\" fill-opacity=\"1\" stroke=\"#000000\" stroke-opacity=\"1\" stroke-width=\"3.2\"/>\n",
       "<circle clip-path=\"url(#clip892)\" cx=\"393.762\" cy=\"1334.5\" r=\"10.8\" fill=\"#ff0000\" fill-rule=\"evenodd\" fill-opacity=\"1\" stroke=\"#000000\" stroke-opacity=\"1\" stroke-width=\"3.2\"/>\n",
       "<circle clip-path=\"url(#clip892)\" cx=\"826.447\" cy=\"1198.88\" r=\"10.8\" fill=\"#ff0000\" fill-rule=\"evenodd\" fill-opacity=\"1\" stroke=\"#000000\" stroke-opacity=\"1\" stroke-width=\"3.2\"/>\n",
       "<circle clip-path=\"url(#clip892)\" cx=\"1084.42\" cy=\"1123.67\" r=\"10.8\" fill=\"#ff0000\" fill-rule=\"evenodd\" fill-opacity=\"1\" stroke=\"#000000\" stroke-opacity=\"1\" stroke-width=\"3.2\"/>\n",
       "<circle clip-path=\"url(#clip892)\" cx=\"668.241\" cy=\"1271.48\" r=\"10.8\" fill=\"#ff0000\" fill-rule=\"evenodd\" fill-opacity=\"1\" stroke=\"#000000\" stroke-opacity=\"1\" stroke-width=\"3.2\"/>\n",
       "<circle clip-path=\"url(#clip892)\" cx=\"1706.85\" cy=\"993.724\" r=\"10.8\" fill=\"#ff0000\" fill-rule=\"evenodd\" fill-opacity=\"1\" stroke=\"#000000\" stroke-opacity=\"1\" stroke-width=\"3.2\"/>\n",
       "<circle clip-path=\"url(#clip892)\" cx=\"900.558\" cy=\"1216.5\" r=\"10.8\" fill=\"#ff0000\" fill-rule=\"evenodd\" fill-opacity=\"1\" stroke=\"#000000\" stroke-opacity=\"1\" stroke-width=\"3.2\"/>\n",
       "<circle clip-path=\"url(#clip892)\" cx=\"1813.97\" cy=\"969.664\" r=\"10.8\" fill=\"#ff0000\" fill-rule=\"evenodd\" fill-opacity=\"1\" stroke=\"#000000\" stroke-opacity=\"1\" stroke-width=\"3.2\"/>\n",
       "<circle clip-path=\"url(#clip892)\" cx=\"1936.49\" cy=\"935.795\" r=\"10.8\" fill=\"#ff0000\" fill-rule=\"evenodd\" fill-opacity=\"1\" stroke=\"#000000\" stroke-opacity=\"1\" stroke-width=\"3.2\"/>\n",
       "<circle clip-path=\"url(#clip892)\" cx=\"454.258\" cy=\"1324.47\" r=\"10.8\" fill=\"#ff0000\" fill-rule=\"evenodd\" fill-opacity=\"1\" stroke=\"#000000\" stroke-opacity=\"1\" stroke-width=\"3.2\"/>\n",
       "<circle clip-path=\"url(#clip892)\" cx=\"1810.81\" cy=\"935.442\" r=\"10.8\" fill=\"#ff0000\" fill-rule=\"evenodd\" fill-opacity=\"1\" stroke=\"#000000\" stroke-opacity=\"1\" stroke-width=\"3.2\"/>\n",
       "<circle clip-path=\"url(#clip892)\" cx=\"1325.36\" cy=\"1079.39\" r=\"10.8\" fill=\"#ff0000\" fill-rule=\"evenodd\" fill-opacity=\"1\" stroke=\"#000000\" stroke-opacity=\"1\" stroke-width=\"3.2\"/>\n",
       "<circle clip-path=\"url(#clip892)\" cx=\"494.79\" cy=\"1325.48\" r=\"10.8\" fill=\"#ff0000\" fill-rule=\"evenodd\" fill-opacity=\"1\" stroke=\"#000000\" stroke-opacity=\"1\" stroke-width=\"3.2\"/>\n",
       "<circle clip-path=\"url(#clip892)\" cx=\"777.203\" cy=\"1217.74\" r=\"10.8\" fill=\"#ff0000\" fill-rule=\"evenodd\" fill-opacity=\"1\" stroke=\"#000000\" stroke-opacity=\"1\" stroke-width=\"3.2\"/>\n",
       "<circle clip-path=\"url(#clip892)\" cx=\"331.687\" cy=\"1346\" r=\"10.8\" fill=\"#ff0000\" fill-rule=\"evenodd\" fill-opacity=\"1\" stroke=\"#000000\" stroke-opacity=\"1\" stroke-width=\"3.2\"/>\n",
       "<circle clip-path=\"url(#clip892)\" cx=\"635.052\" cy=\"1286.62\" r=\"10.8\" fill=\"#ff0000\" fill-rule=\"evenodd\" fill-opacity=\"1\" stroke=\"#000000\" stroke-opacity=\"1\" stroke-width=\"3.2\"/>\n",
       "<circle clip-path=\"url(#clip892)\" cx=\"1127.78\" cy=\"1129.51\" r=\"10.8\" fill=\"#ff0000\" fill-rule=\"evenodd\" fill-opacity=\"1\" stroke=\"#000000\" stroke-opacity=\"1\" stroke-width=\"3.2\"/>\n",
       "<circle clip-path=\"url(#clip892)\" cx=\"1268.28\" cy=\"1076.17\" r=\"10.8\" fill=\"#ff0000\" fill-rule=\"evenodd\" fill-opacity=\"1\" stroke=\"#000000\" stroke-opacity=\"1\" stroke-width=\"3.2\"/>\n",
       "<circle clip-path=\"url(#clip892)\" cx=\"1702.37\" cy=\"987.541\" r=\"10.8\" fill=\"#ff0000\" fill-rule=\"evenodd\" fill-opacity=\"1\" stroke=\"#000000\" stroke-opacity=\"1\" stroke-width=\"3.2\"/>\n",
       "<circle clip-path=\"url(#clip892)\" cx=\"1967.9\" cy=\"922.455\" r=\"10.8\" fill=\"#ff0000\" fill-rule=\"evenodd\" fill-opacity=\"1\" stroke=\"#000000\" stroke-opacity=\"1\" stroke-width=\"3.2\"/>\n",
       "<circle clip-path=\"url(#clip892)\" cx=\"1616.6\" cy=\"1004.03\" r=\"10.8\" fill=\"#ff0000\" fill-rule=\"evenodd\" fill-opacity=\"1\" stroke=\"#000000\" stroke-opacity=\"1\" stroke-width=\"3.2\"/>\n",
       "<circle clip-path=\"url(#clip892)\" cx=\"1492.2\" cy=\"1056.96\" r=\"10.8\" fill=\"#ff0000\" fill-rule=\"evenodd\" fill-opacity=\"1\" stroke=\"#000000\" stroke-opacity=\"1\" stroke-width=\"3.2\"/>\n",
       "<circle clip-path=\"url(#clip892)\" cx=\"1107.36\" cy=\"1121.77\" r=\"10.8\" fill=\"#ff0000\" fill-rule=\"evenodd\" fill-opacity=\"1\" stroke=\"#000000\" stroke-opacity=\"1\" stroke-width=\"3.2\"/>\n",
       "<circle clip-path=\"url(#clip892)\" cx=\"1919.84\" cy=\"889.86\" r=\"10.8\" fill=\"#ff0000\" fill-rule=\"evenodd\" fill-opacity=\"1\" stroke=\"#000000\" stroke-opacity=\"1\" stroke-width=\"3.2\"/>\n",
       "<circle clip-path=\"url(#clip892)\" cx=\"1833.21\" cy=\"923.063\" r=\"10.8\" fill=\"#ff0000\" fill-rule=\"evenodd\" fill-opacity=\"1\" stroke=\"#000000\" stroke-opacity=\"1\" stroke-width=\"3.2\"/>\n",
       "<circle clip-path=\"url(#clip892)\" cx=\"1240.38\" cy=\"1111.76\" r=\"10.8\" fill=\"#ff0000\" fill-rule=\"evenodd\" fill-opacity=\"1\" stroke=\"#000000\" stroke-opacity=\"1\" stroke-width=\"3.2\"/>\n",
       "<circle clip-path=\"url(#clip892)\" cx=\"904.861\" cy=\"1195.16\" r=\"10.8\" fill=\"#ff0000\" fill-rule=\"evenodd\" fill-opacity=\"1\" stroke=\"#000000\" stroke-opacity=\"1\" stroke-width=\"3.2\"/>\n",
       "<circle clip-path=\"url(#clip892)\" cx=\"1000.9\" cy=\"1176.59\" r=\"10.8\" fill=\"#ff0000\" fill-rule=\"evenodd\" fill-opacity=\"1\" stroke=\"#000000\" stroke-opacity=\"1\" stroke-width=\"3.2\"/>\n",
       "<circle clip-path=\"url(#clip892)\" cx=\"1235.73\" cy=\"1093.37\" r=\"10.8\" fill=\"#ff0000\" fill-rule=\"evenodd\" fill-opacity=\"1\" stroke=\"#000000\" stroke-opacity=\"1\" stroke-width=\"3.2\"/>\n",
       "<circle clip-path=\"url(#clip892)\" cx=\"2046.03\" cy=\"864.868\" r=\"10.8\" fill=\"#ff0000\" fill-rule=\"evenodd\" fill-opacity=\"1\" stroke=\"#000000\" stroke-opacity=\"1\" stroke-width=\"3.2\"/>\n",
       "<circle clip-path=\"url(#clip892)\" cx=\"2045.11\" cy=\"904.387\" r=\"10.8\" fill=\"#ff0000\" fill-rule=\"evenodd\" fill-opacity=\"1\" stroke=\"#000000\" stroke-opacity=\"1\" stroke-width=\"3.2\"/>\n",
       "<circle clip-path=\"url(#clip892)\" cx=\"1747.3\" cy=\"978.298\" r=\"10.8\" fill=\"#ff0000\" fill-rule=\"evenodd\" fill-opacity=\"1\" stroke=\"#000000\" stroke-opacity=\"1\" stroke-width=\"3.2\"/>\n",
       "<circle clip-path=\"url(#clip892)\" cx=\"1976.14\" cy=\"880.372\" r=\"10.8\" fill=\"#ff0000\" fill-rule=\"evenodd\" fill-opacity=\"1\" stroke=\"#000000\" stroke-opacity=\"1\" stroke-width=\"3.2\"/>\n",
       "<circle clip-path=\"url(#clip892)\" cx=\"1704.71\" cy=\"967.625\" r=\"10.8\" fill=\"#ff0000\" fill-rule=\"evenodd\" fill-opacity=\"1\" stroke=\"#000000\" stroke-opacity=\"1\" stroke-width=\"3.2\"/>\n",
       "<circle clip-path=\"url(#clip892)\" cx=\"2078.19\" cy=\"849.945\" r=\"10.8\" fill=\"#ff0000\" fill-rule=\"evenodd\" fill-opacity=\"1\" stroke=\"#000000\" stroke-opacity=\"1\" stroke-width=\"3.2\"/>\n",
       "<circle clip-path=\"url(#clip892)\" cx=\"489.808\" cy=\"1313.95\" r=\"10.8\" fill=\"#ff0000\" fill-rule=\"evenodd\" fill-opacity=\"1\" stroke=\"#000000\" stroke-opacity=\"1\" stroke-width=\"3.2\"/>\n",
       "<circle clip-path=\"url(#clip892)\" cx=\"473.567\" cy=\"1316.95\" r=\"10.8\" fill=\"#ff0000\" fill-rule=\"evenodd\" fill-opacity=\"1\" stroke=\"#000000\" stroke-opacity=\"1\" stroke-width=\"3.2\"/>\n",
       "<circle clip-path=\"url(#clip892)\" cx=\"677.635\" cy=\"1248.75\" r=\"10.8\" fill=\"#ff0000\" fill-rule=\"evenodd\" fill-opacity=\"1\" stroke=\"#000000\" stroke-opacity=\"1\" stroke-width=\"3.2\"/>\n",
       "<circle clip-path=\"url(#clip892)\" cx=\"1755.61\" cy=\"964.014\" r=\"10.8\" fill=\"#ff0000\" fill-rule=\"evenodd\" fill-opacity=\"1\" stroke=\"#000000\" stroke-opacity=\"1\" stroke-width=\"3.2\"/>\n",
       "<circle clip-path=\"url(#clip892)\" cx=\"1041.71\" cy=\"1138.11\" r=\"10.8\" fill=\"#ff0000\" fill-rule=\"evenodd\" fill-opacity=\"1\" stroke=\"#000000\" stroke-opacity=\"1\" stroke-width=\"3.2\"/>\n",
       "<circle clip-path=\"url(#clip892)\" cx=\"828.773\" cy=\"1225.37\" r=\"10.8\" fill=\"#ff0000\" fill-rule=\"evenodd\" fill-opacity=\"1\" stroke=\"#000000\" stroke-opacity=\"1\" stroke-width=\"3.2\"/>\n",
       "<circle clip-path=\"url(#clip892)\" cx=\"844.641\" cy=\"1217.16\" r=\"10.8\" fill=\"#ff0000\" fill-rule=\"evenodd\" fill-opacity=\"1\" stroke=\"#000000\" stroke-opacity=\"1\" stroke-width=\"3.2\"/>\n",
       "<circle clip-path=\"url(#clip892)\" cx=\"1873.17\" cy=\"948.934\" r=\"10.8\" fill=\"#ff0000\" fill-rule=\"evenodd\" fill-opacity=\"1\" stroke=\"#000000\" stroke-opacity=\"1\" stroke-width=\"3.2\"/>\n",
       "<circle clip-path=\"url(#clip892)\" cx=\"361.683\" cy=\"1368\" r=\"10.8\" fill=\"#ff0000\" fill-rule=\"evenodd\" fill-opacity=\"1\" stroke=\"#000000\" stroke-opacity=\"1\" stroke-width=\"3.2\"/>\n",
       "<circle clip-path=\"url(#clip892)\" cx=\"606.648\" cy=\"1292.38\" r=\"10.8\" fill=\"#ff0000\" fill-rule=\"evenodd\" fill-opacity=\"1\" stroke=\"#000000\" stroke-opacity=\"1\" stroke-width=\"3.2\"/>\n",
       "<circle clip-path=\"url(#clip892)\" cx=\"1339.72\" cy=\"1089.18\" r=\"10.8\" fill=\"#ff0000\" fill-rule=\"evenodd\" fill-opacity=\"1\" stroke=\"#000000\" stroke-opacity=\"1\" stroke-width=\"3.2\"/>\n",
       "<path clip-path=\"url(#clip890)\" d=\"M314.728 321.906 L599.887 321.906 L599.887 166.386 L314.728 166.386  Z\" fill=\"#ffffff\" fill-rule=\"evenodd\" fill-opacity=\"1\"/>\n",
       "<polyline clip-path=\"url(#clip890)\" style=\"stroke:#000000; stroke-linecap:round; stroke-linejoin:round; stroke-width:4; stroke-opacity:1; fill:none\" points=\"314.728,321.906 599.887,321.906 599.887,166.386 314.728,166.386 314.728,321.906 \"/>\n",
       "<circle clip-path=\"url(#clip890)\" cx=\"408.43\" cy=\"218.226\" r=\"19.7486\" fill=\"#0000ff\" fill-rule=\"evenodd\" fill-opacity=\"1\" stroke=\"#000000\" stroke-opacity=\"1\" stroke-width=\"5.85143\"/>\n",
       "<path clip-path=\"url(#clip890)\" d=\"M518.637 199.488 L518.637 203.03 L514.563 203.03 Q512.271 203.03 511.369 203.956 Q510.489 204.881 510.489 207.289 L510.489 209.58 L517.503 209.58 L517.503 212.891 L510.489 212.891 L510.489 235.506 L506.207 235.506 L506.207 212.891 L502.133 212.891 L502.133 209.58 L506.207 209.58 L506.207 207.775 Q506.207 203.446 508.221 201.479 Q510.234 199.488 514.609 199.488 L518.637 199.488 Z\" fill=\"#000000\" fill-rule=\"nonzero\" fill-opacity=\"1\" /><path clip-path=\"url(#clip890)\" d=\"M532.248 212.567 Q528.822 212.567 526.832 215.252 Q524.841 217.914 524.841 222.567 Q524.841 227.219 526.808 229.904 Q528.799 232.566 532.248 232.566 Q535.651 232.566 537.642 229.881 Q539.632 227.196 539.632 222.567 Q539.632 217.96 537.642 215.275 Q535.651 212.567 532.248 212.567 M532.248 208.955 Q537.804 208.955 540.975 212.567 Q544.146 216.178 544.146 222.567 Q544.146 228.932 540.975 232.566 Q537.804 236.178 532.248 236.178 Q526.67 236.178 523.498 232.566 Q520.35 228.932 520.35 222.567 Q520.35 216.178 523.498 212.567 Q526.67 208.955 532.248 208.955 Z\" fill=\"#000000\" fill-rule=\"nonzero\" fill-opacity=\"1\" /><path clip-path=\"url(#clip890)\" d=\"M561.253 212.567 Q557.827 212.567 555.836 215.252 Q553.845 217.914 553.845 222.567 Q553.845 227.219 555.813 229.904 Q557.804 232.566 561.253 232.566 Q564.655 232.566 566.646 229.881 Q568.637 227.196 568.637 222.567 Q568.637 217.96 566.646 215.275 Q564.655 212.567 561.253 212.567 M561.253 208.955 Q566.808 208.955 569.979 212.567 Q573.151 216.178 573.151 222.567 Q573.151 228.932 569.979 232.566 Q566.808 236.178 561.253 236.178 Q555.674 236.178 552.503 232.566 Q549.355 228.932 549.355 222.567 Q549.355 216.178 552.503 212.567 Q555.674 208.955 561.253 208.955 Z\" fill=\"#000000\" fill-rule=\"nonzero\" fill-opacity=\"1\" /><circle clip-path=\"url(#clip890)\" cx=\"408.43\" cy=\"270.066\" r=\"19.7486\" fill=\"#ff0000\" fill-rule=\"evenodd\" fill-opacity=\"1\" stroke=\"#000000\" stroke-opacity=\"1\" stroke-width=\"5.85143\"/>\n",
       "<path clip-path=\"url(#clip890)\" d=\"M520.906 274.407 Q520.906 269.707 518.961 267.045 Q517.04 264.36 513.66 264.36 Q510.281 264.36 508.336 267.045 Q506.415 269.707 506.415 274.407 Q506.415 279.106 508.336 281.791 Q510.281 284.453 513.66 284.453 Q517.04 284.453 518.961 281.791 Q520.906 279.106 520.906 274.407 M506.415 265.356 Q507.758 263.041 509.795 261.93 Q511.855 260.795 514.702 260.795 Q519.424 260.795 522.364 264.545 Q525.327 268.295 525.327 274.407 Q525.327 280.518 522.364 284.268 Q519.424 288.018 514.702 288.018 Q511.855 288.018 509.795 286.906 Q507.758 285.772 506.415 283.457 L506.415 287.346 L502.133 287.346 L502.133 251.328 L506.415 251.328 L506.415 265.356 Z\" fill=\"#000000\" fill-rule=\"nonzero\" fill-opacity=\"1\" /><path clip-path=\"url(#clip890)\" d=\"M544.169 274.314 Q539.007 274.314 537.017 275.494 Q535.026 276.675 535.026 279.522 Q535.026 281.791 536.507 283.133 Q538.012 284.453 540.582 284.453 Q544.123 284.453 546.253 281.953 Q548.406 279.43 548.406 275.263 L548.406 274.314 L544.169 274.314 M552.665 272.555 L552.665 287.346 L548.406 287.346 L548.406 283.411 Q546.947 285.772 544.771 286.906 Q542.595 288.018 539.447 288.018 Q535.466 288.018 533.105 285.795 Q530.767 283.55 530.767 279.8 Q530.767 275.425 533.683 273.203 Q536.623 270.981 542.433 270.981 L548.406 270.981 L548.406 270.564 Q548.406 267.624 546.461 266.027 Q544.54 264.407 541.044 264.407 Q538.822 264.407 536.716 264.939 Q534.609 265.471 532.665 266.536 L532.665 262.601 Q535.003 261.698 537.202 261.258 Q539.401 260.795 541.484 260.795 Q547.109 260.795 549.887 263.712 Q552.665 266.629 552.665 272.555 Z\" fill=\"#000000\" fill-rule=\"nonzero\" fill-opacity=\"1\" /><path clip-path=\"url(#clip890)\" d=\"M576.461 265.402 Q575.743 264.985 574.887 264.8 Q574.054 264.592 573.035 264.592 Q569.424 264.592 567.48 266.953 Q565.558 269.291 565.558 273.689 L565.558 287.346 L561.276 287.346 L561.276 261.42 L565.558 261.42 L565.558 265.448 Q566.901 263.087 569.054 261.953 Q571.206 260.795 574.285 260.795 Q574.725 260.795 575.257 260.865 Q575.79 260.911 576.438 261.027 L576.461 265.402 Z\" fill=\"#000000\" fill-rule=\"nonzero\" fill-opacity=\"1\" /></svg>\n"
      ]
     },
     "execution_count": 15,
     "metadata": {},
     "output_type": "execute_result"
    }
   ],
   "source": [
    "# A scatter plot with axis labels, logarithmic axes, etc. \n",
    "\n",
    "using Plots\n",
    "\n",
    "N = 100\n",
    "x = 10.0.^(10*rand(N))  # N random numbers between 1 and 10^20\n",
    "y = x .* 10.0.^rand(N)  # multiply x's by randoms between 1 and 10\n",
    "z = sqrt.(y)\n",
    "\n",
    "scatter(x,y, color=:blue, label=\"foo\", markersize=3)\n",
    "scatter!(x,z, color=:red,  label=\"bar\", markersize=3)\n",
    "plot!(xscale=:log, yscale=:log, xlabel=\"x\", ylabel=\"y\")\n",
    "plot!(legend=:topleft, title=\"a bar-foo plot\")\n",
    "plot!(xlim=(1,1e11), ylim=(1,1e12))"
   ]
  },
  {
   "cell_type": "code",
   "execution_count": null,
   "metadata": {},
   "outputs": [],
   "source": []
  }
 ],
 "metadata": {
  "@webio": {
   "lastCommId": null,
   "lastKernelId": null
  },
  "anaconda-cloud": {},
  "kernelspec": {
   "display_name": "Julia 1.10.0",
   "language": "julia",
   "name": "julia-1.10"
  },
  "language_info": {
   "file_extension": ".jl",
   "mimetype": "application/julia",
   "name": "julia",
   "version": "1.10.0"
  }
 },
 "nbformat": 4,
 "nbformat_minor": 1
}
